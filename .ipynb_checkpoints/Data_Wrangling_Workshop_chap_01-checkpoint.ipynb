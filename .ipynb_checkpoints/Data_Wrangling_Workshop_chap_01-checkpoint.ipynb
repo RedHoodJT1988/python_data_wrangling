{
 "cells": [
  {
   "cell_type": "markdown",
   "metadata": {},
   "source": [
    "# Exercise 1.01: Accessing List Members"
   ]
  },
  {
   "cell_type": "code",
   "execution_count": 10,
   "metadata": {},
   "outputs": [
    {
     "name": "stdout",
     "output_type": "stream",
     "text": [
      "['218-68-9955', '165-73-3124', '432-47-4043', '563-93-1393', '153-93-3401', '670-09-7369', '123-05-9652', '812-13-2476', '726-13-1007', '825-05-4836']\n"
     ]
    }
   ],
   "source": [
    "import pandas as pd\n",
    "ssn = list(pd.read_csv(\"./ssn.csv\"))\n",
    "print(ssn)"
   ]
  },
  {
   "cell_type": "code",
   "execution_count": 11,
   "metadata": {},
   "outputs": [
    {
     "data": {
      "text/plain": [
       "'218-68-9955'"
      ]
     },
     "execution_count": 11,
     "metadata": {},
     "output_type": "execute_result"
    }
   ],
   "source": [
    "# Access the first element of ssn using its foward index:\n",
    "ssn[0]"
   ]
  },
  {
   "cell_type": "code",
   "execution_count": 12,
   "metadata": {},
   "outputs": [
    {
     "data": {
      "text/plain": [
       "'563-93-1393'"
      ]
     },
     "execution_count": 12,
     "metadata": {},
     "output_type": "execute_result"
    }
   ],
   "source": [
    "# Access the fourth element of ssn using its forward index:\n",
    "ssn[3]"
   ]
  },
  {
   "cell_type": "code",
   "execution_count": 13,
   "metadata": {},
   "outputs": [
    {
     "data": {
      "text/plain": [
       "'825-05-4836'"
      ]
     },
     "execution_count": 13,
     "metadata": {},
     "output_type": "execute_result"
    }
   ],
   "source": [
    "# Access the last element of ssn using the len function\n",
    "ssn[len(ssn) -1]"
   ]
  },
  {
   "cell_type": "code",
   "execution_count": 14,
   "metadata": {},
   "outputs": [
    {
     "data": {
      "text/plain": [
       "'825-05-4836'"
      ]
     },
     "execution_count": 14,
     "metadata": {},
     "output_type": "execute_result"
    }
   ],
   "source": [
    "# Access the last element of ssn using its backward index:\n",
    "ssn[-1]"
   ]
  },
  {
   "cell_type": "code",
   "execution_count": 15,
   "metadata": {},
   "outputs": [
    {
     "data": {
      "text/plain": [
       "['165-73-3124', '432-47-4043']"
      ]
     },
     "execution_count": 15,
     "metadata": {},
     "output_type": "execute_result"
    }
   ],
   "source": [
    "# Access the first three elements of ssn using forward indices:\n",
    "ssn[1:3]"
   ]
  },
  {
   "cell_type": "code",
   "execution_count": 16,
   "metadata": {},
   "outputs": [
    {
     "data": {
      "text/plain": [
       "['726-13-1007', '825-05-4836']"
      ]
     },
     "execution_count": 16,
     "metadata": {},
     "output_type": "execute_result"
    }
   ],
   "source": [
    "# Access the last two elements of ssn by slicing:\n",
    "ssn[-2:]"
   ]
  },
  {
   "cell_type": "code",
   "execution_count": 17,
   "metadata": {},
   "outputs": [
    {
     "data": {
      "text/plain": [
       "['218-68-9955',\n",
       " '165-73-3124',\n",
       " '432-47-4043',\n",
       " '563-93-1393',\n",
       " '153-93-3401',\n",
       " '670-09-7369',\n",
       " '123-05-9652',\n",
       " '812-13-2476']"
      ]
     },
     "execution_count": 17,
     "metadata": {},
     "output_type": "execute_result"
    }
   ],
   "source": [
    "# Access the first two elements using backward indices:\n",
    "ssn[:-2]"
   ]
  },
  {
   "cell_type": "code",
   "execution_count": 18,
   "metadata": {},
   "outputs": [
    {
     "data": {
      "text/plain": [
       "['825-05-4836',\n",
       " '726-13-1007',\n",
       " '812-13-2476',\n",
       " '123-05-9652',\n",
       " '670-09-7369',\n",
       " '153-93-3401',\n",
       " '563-93-1393',\n",
       " '432-47-4043',\n",
       " '165-73-3124',\n",
       " '218-68-9955']"
      ]
     },
     "execution_count": 18,
     "metadata": {},
     "output_type": "execute_result"
    }
   ],
   "source": [
    "# Reverse the elements in the list:\n",
    "ssn[-1::-1]"
   ]
  },
  {
   "cell_type": "markdown",
   "metadata": {},
   "source": [
    "# Exercise 1.02: Generating and Iterating through a List"
   ]
  },
  {
   "cell_type": "code",
   "execution_count": 19,
   "metadata": {},
   "outputs": [
    {
     "data": {
      "text/plain": [
       "['218-68-9955',\n",
       " '165-73-3124',\n",
       " '432-47-4043',\n",
       " '563-93-1393',\n",
       " '153-93-3401',\n",
       " '670-09-7369',\n",
       " '123-05-9652',\n",
       " '812-13-2476',\n",
       " '726-13-1007',\n",
       " '825-05-4836']"
      ]
     },
     "execution_count": 19,
     "metadata": {},
     "output_type": "execute_result"
    }
   ],
   "source": [
    "# Create a list using the append method\n",
    "ssn_2 = []\n",
    "for x in ssn:\n",
    "    ssn_2.append(x)\n",
    "ssn_2"
   ]
  },
  {
   "cell_type": "code",
   "execution_count": 20,
   "metadata": {},
   "outputs": [
    {
     "data": {
      "text/plain": [
       "['soc: 218-68-9955',\n",
       " 'soc: 165-73-3124',\n",
       " 'soc: 432-47-4043',\n",
       " 'soc: 563-93-1393',\n",
       " 'soc: 153-93-3401',\n",
       " 'soc: 670-09-7369',\n",
       " 'soc: 123-05-9652',\n",
       " 'soc: 812-13-2476',\n",
       " 'soc: 726-13-1007',\n",
       " 'soc: 825-05-4836']"
      ]
     },
     "execution_count": 20,
     "metadata": {},
     "output_type": "execute_result"
    }
   ],
   "source": [
    "# Generate a list using list comprehension\n",
    "ssn_3 = [\"soc: \" + x for x in ssn_2]\n",
    "ssn_3"
   ]
  },
  {
   "cell_type": "code",
   "execution_count": 21,
   "metadata": {},
   "outputs": [
    {
     "name": "stdout",
     "output_type": "stream",
     "text": [
      "soc: 218-68-9955\n",
      "soc: 165-73-3124\n",
      "soc: 432-47-4043\n",
      "soc: 563-93-1393\n",
      "soc: 153-93-3401\n",
      "soc: 670-09-7369\n",
      "soc: 123-05-9652\n",
      "soc: 812-13-2476\n",
      "soc: 726-13-1007\n",
      "soc: 825-05-4836\n"
     ]
    }
   ],
   "source": [
    "# Using a while loop\n",
    "i = 0\n",
    "while i < len(ssn_3):\n",
    "    print(ssn_3[i])\n",
    "    i += 1"
   ]
  },
  {
   "cell_type": "code",
   "execution_count": 22,
   "metadata": {},
   "outputs": [
    {
     "data": {
      "text/plain": [
       "['soc: 218-68-9955',\n",
       " 'soc: 165-73-3124',\n",
       " 'soc: 563-93-1393',\n",
       " 'soc: 153-93-3401',\n",
       " 'soc: 123-05-9652',\n",
       " 'soc: 825-05-4836']"
      ]
     },
     "execution_count": 22,
     "metadata": {},
     "output_type": "execute_result"
    }
   ],
   "source": [
    "# Search all ssn with the number 5 in them\n",
    "numbers = [x for x in ssn_3 if \"5\" in x]\n",
    "numbers"
   ]
  },
  {
   "cell_type": "code",
   "execution_count": 23,
   "metadata": {},
   "outputs": [
    {
     "data": {
      "text/plain": [
       "['102-90-0314',\n",
       " '247-17-2338',\n",
       " '318-22-2760',\n",
       " '218-68-9955',\n",
       " '165-73-3124',\n",
       " '432-47-4043',\n",
       " '563-93-1393',\n",
       " '153-93-3401',\n",
       " '670-09-7369',\n",
       " '123-05-9652',\n",
       " '812-13-2476',\n",
       " '726-13-1007',\n",
       " '825-05-4836']"
      ]
     },
     "execution_count": 23,
     "metadata": {},
     "output_type": "execute_result"
    }
   ],
   "source": [
    "# using the `+` operator to add contents of two lists\n",
    "ssn_4 = [\"102-90-0314\", \"247-17-2338\", \"318-22-2760\"]\n",
    "ssn_5 = ssn_4 + ssn\n",
    "ssn_5"
   ]
  },
  {
   "cell_type": "code",
   "execution_count": 24,
   "metadata": {},
   "outputs": [
    {
     "data": {
      "text/plain": [
       "['218-68-9955',\n",
       " '165-73-3124',\n",
       " '432-47-4043',\n",
       " '563-93-1393',\n",
       " '153-93-3401',\n",
       " '670-09-7369',\n",
       " '123-05-9652',\n",
       " '812-13-2476',\n",
       " '726-13-1007',\n",
       " '825-05-4836',\n",
       " '102-90-0314',\n",
       " '247-17-2338',\n",
       " '318-22-2760']"
      ]
     },
     "execution_count": 24,
     "metadata": {},
     "output_type": "execute_result"
    }
   ],
   "source": [
    "# Use `extend` keyword\n",
    "ssn_2.extend(ssn_4)\n",
    "ssn_2"
   ]
  },
  {
   "cell_type": "code",
   "execution_count": 25,
   "metadata": {},
   "outputs": [
    {
     "name": "stdout",
     "output_type": "stream",
     "text": [
      "218-68-9955 , 102-90-0314\n",
      "218-68-9955 , 247-17-2338\n",
      "218-68-9955 , 318-22-2760\n",
      "218-68-9955 , 218-68-9955\n",
      "218-68-9955 , 165-73-3124\n",
      "218-68-9955 , 432-47-4043\n",
      "218-68-9955 , 563-93-1393\n",
      "218-68-9955 , 153-93-3401\n",
      "218-68-9955 , 670-09-7369\n",
      "218-68-9955 , 123-05-9652\n",
      "218-68-9955 , 812-13-2476\n",
      "218-68-9955 , 726-13-1007\n",
      "218-68-9955 , 825-05-4836\n",
      "165-73-3124 , 102-90-0314\n",
      "165-73-3124 , 247-17-2338\n",
      "165-73-3124 , 318-22-2760\n",
      "165-73-3124 , 218-68-9955\n",
      "165-73-3124 , 165-73-3124\n",
      "165-73-3124 , 432-47-4043\n",
      "165-73-3124 , 563-93-1393\n",
      "165-73-3124 , 153-93-3401\n",
      "165-73-3124 , 670-09-7369\n",
      "165-73-3124 , 123-05-9652\n",
      "165-73-3124 , 812-13-2476\n",
      "165-73-3124 , 726-13-1007\n",
      "165-73-3124 , 825-05-4836\n",
      "432-47-4043 , 102-90-0314\n",
      "432-47-4043 , 247-17-2338\n",
      "432-47-4043 , 318-22-2760\n",
      "432-47-4043 , 218-68-9955\n",
      "432-47-4043 , 165-73-3124\n",
      "432-47-4043 , 432-47-4043\n",
      "432-47-4043 , 563-93-1393\n",
      "432-47-4043 , 153-93-3401\n",
      "432-47-4043 , 670-09-7369\n",
      "432-47-4043 , 123-05-9652\n",
      "432-47-4043 , 812-13-2476\n",
      "432-47-4043 , 726-13-1007\n",
      "432-47-4043 , 825-05-4836\n",
      "563-93-1393 , 102-90-0314\n",
      "563-93-1393 , 247-17-2338\n",
      "563-93-1393 , 318-22-2760\n",
      "563-93-1393 , 218-68-9955\n",
      "563-93-1393 , 165-73-3124\n",
      "563-93-1393 , 432-47-4043\n",
      "563-93-1393 , 563-93-1393\n",
      "563-93-1393 , 153-93-3401\n",
      "563-93-1393 , 670-09-7369\n",
      "563-93-1393 , 123-05-9652\n",
      "563-93-1393 , 812-13-2476\n",
      "563-93-1393 , 726-13-1007\n",
      "563-93-1393 , 825-05-4836\n",
      "153-93-3401 , 102-90-0314\n",
      "153-93-3401 , 247-17-2338\n",
      "153-93-3401 , 318-22-2760\n",
      "153-93-3401 , 218-68-9955\n",
      "153-93-3401 , 165-73-3124\n",
      "153-93-3401 , 432-47-4043\n",
      "153-93-3401 , 563-93-1393\n",
      "153-93-3401 , 153-93-3401\n",
      "153-93-3401 , 670-09-7369\n",
      "153-93-3401 , 123-05-9652\n",
      "153-93-3401 , 812-13-2476\n",
      "153-93-3401 , 726-13-1007\n",
      "153-93-3401 , 825-05-4836\n",
      "670-09-7369 , 102-90-0314\n",
      "670-09-7369 , 247-17-2338\n",
      "670-09-7369 , 318-22-2760\n",
      "670-09-7369 , 218-68-9955\n",
      "670-09-7369 , 165-73-3124\n",
      "670-09-7369 , 432-47-4043\n",
      "670-09-7369 , 563-93-1393\n",
      "670-09-7369 , 153-93-3401\n",
      "670-09-7369 , 670-09-7369\n",
      "670-09-7369 , 123-05-9652\n",
      "670-09-7369 , 812-13-2476\n",
      "670-09-7369 , 726-13-1007\n",
      "670-09-7369 , 825-05-4836\n",
      "123-05-9652 , 102-90-0314\n",
      "123-05-9652 , 247-17-2338\n",
      "123-05-9652 , 318-22-2760\n",
      "123-05-9652 , 218-68-9955\n",
      "123-05-9652 , 165-73-3124\n",
      "123-05-9652 , 432-47-4043\n",
      "123-05-9652 , 563-93-1393\n",
      "123-05-9652 , 153-93-3401\n",
      "123-05-9652 , 670-09-7369\n",
      "123-05-9652 , 123-05-9652\n",
      "123-05-9652 , 812-13-2476\n",
      "123-05-9652 , 726-13-1007\n",
      "123-05-9652 , 825-05-4836\n",
      "812-13-2476 , 102-90-0314\n",
      "812-13-2476 , 247-17-2338\n",
      "812-13-2476 , 318-22-2760\n",
      "812-13-2476 , 218-68-9955\n",
      "812-13-2476 , 165-73-3124\n",
      "812-13-2476 , 432-47-4043\n",
      "812-13-2476 , 563-93-1393\n",
      "812-13-2476 , 153-93-3401\n",
      "812-13-2476 , 670-09-7369\n",
      "812-13-2476 , 123-05-9652\n",
      "812-13-2476 , 812-13-2476\n",
      "812-13-2476 , 726-13-1007\n",
      "812-13-2476 , 825-05-4836\n",
      "726-13-1007 , 102-90-0314\n",
      "726-13-1007 , 247-17-2338\n",
      "726-13-1007 , 318-22-2760\n",
      "726-13-1007 , 218-68-9955\n",
      "726-13-1007 , 165-73-3124\n",
      "726-13-1007 , 432-47-4043\n",
      "726-13-1007 , 563-93-1393\n",
      "726-13-1007 , 153-93-3401\n",
      "726-13-1007 , 670-09-7369\n",
      "726-13-1007 , 123-05-9652\n",
      "726-13-1007 , 812-13-2476\n",
      "726-13-1007 , 726-13-1007\n",
      "726-13-1007 , 825-05-4836\n",
      "825-05-4836 , 102-90-0314\n",
      "825-05-4836 , 247-17-2338\n",
      "825-05-4836 , 318-22-2760\n",
      "825-05-4836 , 218-68-9955\n",
      "825-05-4836 , 165-73-3124\n",
      "825-05-4836 , 432-47-4043\n",
      "825-05-4836 , 563-93-1393\n",
      "825-05-4836 , 153-93-3401\n",
      "825-05-4836 , 670-09-7369\n",
      "825-05-4836 , 123-05-9652\n",
      "825-05-4836 , 812-13-2476\n",
      "825-05-4836 , 726-13-1007\n",
      "825-05-4836 , 825-05-4836\n",
      "102-90-0314 , 102-90-0314\n",
      "102-90-0314 , 247-17-2338\n",
      "102-90-0314 , 318-22-2760\n",
      "102-90-0314 , 218-68-9955\n",
      "102-90-0314 , 165-73-3124\n",
      "102-90-0314 , 432-47-4043\n",
      "102-90-0314 , 563-93-1393\n",
      "102-90-0314 , 153-93-3401\n",
      "102-90-0314 , 670-09-7369\n",
      "102-90-0314 , 123-05-9652\n",
      "102-90-0314 , 812-13-2476\n",
      "102-90-0314 , 726-13-1007\n",
      "102-90-0314 , 825-05-4836\n",
      "247-17-2338 , 102-90-0314\n",
      "247-17-2338 , 247-17-2338\n",
      "247-17-2338 , 318-22-2760\n",
      "247-17-2338 , 218-68-9955\n",
      "247-17-2338 , 165-73-3124\n",
      "247-17-2338 , 432-47-4043\n",
      "247-17-2338 , 563-93-1393\n",
      "247-17-2338 , 153-93-3401\n",
      "247-17-2338 , 670-09-7369\n",
      "247-17-2338 , 123-05-9652\n",
      "247-17-2338 , 812-13-2476\n",
      "247-17-2338 , 726-13-1007\n",
      "247-17-2338 , 825-05-4836\n",
      "318-22-2760 , 102-90-0314\n",
      "318-22-2760 , 247-17-2338\n",
      "318-22-2760 , 318-22-2760\n",
      "318-22-2760 , 218-68-9955\n",
      "318-22-2760 , 165-73-3124\n",
      "318-22-2760 , 432-47-4043\n",
      "318-22-2760 , 563-93-1393\n",
      "318-22-2760 , 153-93-3401\n",
      "318-22-2760 , 670-09-7369\n",
      "318-22-2760 , 123-05-9652\n",
      "318-22-2760 , 812-13-2476\n",
      "318-22-2760 , 726-13-1007\n",
      "318-22-2760 , 825-05-4836\n"
     ]
    }
   ],
   "source": [
    "# Loop over the first list and create a nested list inside that list\n",
    "for x in ssn_2:\n",
    "    for y in ssn_5:\n",
    "        print(str(x) + ' , ' + str(y))"
   ]
  },
  {
   "cell_type": "markdown",
   "metadata": {},
   "source": [
    "# Exercise 1.03: Iterating over a List and Checking Membership"
   ]
  },
  {
   "cell_type": "code",
   "execution_count": 26,
   "metadata": {},
   "outputs": [
    {
     "data": {
      "text/plain": [
       "['Escalade',\n",
       " ' X5 M',\n",
       " ' D150',\n",
       " ' Camaro',\n",
       " ' F350',\n",
       " ' Aurora',\n",
       " ' S8',\n",
       " ' E350',\n",
       " ' Tiburon',\n",
       " ' F-Series Super Duty']"
      ]
     },
     "execution_count": 26,
     "metadata": {},
     "output_type": "execute_result"
    }
   ],
   "source": [
    "car_models = list(pd.read_csv(\"./car_models.csv\"))\n",
    "car_models"
   ]
  },
  {
   "cell_type": "code",
   "execution_count": 27,
   "metadata": {},
   "outputs": [
    {
     "name": "stdout",
     "output_type": "stream",
     "text": [
      "Escalade\n",
      " X5 M\n",
      " D150\n",
      " Camaro\n",
      " F350\n",
      " Aurora\n",
      " S8\n",
      " E350\n",
      " Tiburon\n",
      " F-Series Super Duty\n"
     ]
    }
   ],
   "source": [
    "# Iterate over a list non-Pythonic\n",
    "list_1 = [x for x in car_models]\n",
    "for i in range(0, len(list_1)):\n",
    "    print(list_1[i])"
   ]
  },
  {
   "cell_type": "code",
   "execution_count": 28,
   "metadata": {},
   "outputs": [
    {
     "name": "stdout",
     "output_type": "stream",
     "text": [
      "Escalade\n",
      " X5 M\n",
      " D150\n",
      " Camaro\n",
      " F350\n",
      " Aurora\n",
      " S8\n",
      " E350\n",
      " Tiburon\n",
      " F-Series Super Duty\n"
     ]
    }
   ],
   "source": [
    "# Iterate over same list Pythonic\n",
    "for i in list_1:\n",
    "    print(i)"
   ]
  },
  {
   "cell_type": "code",
   "execution_count": 29,
   "metadata": {},
   "outputs": [
    {
     "data": {
      "text/plain": [
       "False"
      ]
     },
     "execution_count": 29,
     "metadata": {},
     "output_type": "execute_result"
    }
   ],
   "source": [
    "# Check for existing string value 1\n",
    "\"D150\" in list_1"
   ]
  },
  {
   "cell_type": "code",
   "execution_count": 30,
   "metadata": {},
   "outputs": [
    {
     "data": {
      "text/plain": [
       "False"
      ]
     },
     "execution_count": 30,
     "metadata": {},
     "output_type": "execute_result"
    }
   ],
   "source": [
    "# Check for existing string value 2\n",
    "\"Mustang\" in list_1"
   ]
  },
  {
   "cell_type": "markdown",
   "metadata": {},
   "source": [
    "# Exercise 1.04: Sorting a list"
   ]
  },
  {
   "cell_type": "code",
   "execution_count": 31,
   "metadata": {},
   "outputs": [
    {
     "data": {
      "text/plain": [
       "[20, 19, 18, 17, 16, 15, 14, 13, 12, 11, 10, 9, 8, 7, 6, 5, 4, 3, 2, 1, 0]"
      ]
     },
     "execution_count": 31,
     "metadata": {},
     "output_type": "execute_result"
    }
   ],
   "source": [
    "# Use the sort method with reverse=True\n",
    "list_1 = [*range(0, 21, 1)]\n",
    "list_1.sort(reverse=True)\n",
    "list_1"
   ]
  },
  {
   "cell_type": "code",
   "execution_count": 32,
   "metadata": {},
   "outputs": [
    {
     "data": {
      "text/plain": [
       "[0, 1, 2, 3, 4, 5, 6, 7, 8, 9, 10, 11, 12, 13, 14, 15, 16, 17, 18, 19, 20]"
      ]
     },
     "execution_count": 32,
     "metadata": {},
     "output_type": "execute_result"
    }
   ],
   "source": [
    "# Use the reverse method directly\n",
    "list_1.reverse()\n",
    "list_1"
   ]
  },
  {
   "cell_type": "markdown",
   "metadata": {},
   "source": [
    "# Exercise 1.05: Generating a Random List"
   ]
  },
  {
   "cell_type": "code",
   "execution_count": 33,
   "metadata": {},
   "outputs": [],
   "source": [
    "import random"
   ]
  },
  {
   "cell_type": "code",
   "execution_count": 34,
   "metadata": {},
   "outputs": [],
   "source": [
    "list_1 = [random.randint(0, 30) for x in range(0, 100)]"
   ]
  },
  {
   "cell_type": "code",
   "execution_count": 35,
   "metadata": {},
   "outputs": [
    {
     "data": {
      "text/plain": [
       "[3,\n",
       " 30,\n",
       " 16,\n",
       " 22,\n",
       " 22,\n",
       " 25,\n",
       " 23,\n",
       " 27,\n",
       " 1,\n",
       " 21,\n",
       " 0,\n",
       " 20,\n",
       " 3,\n",
       " 23,\n",
       " 15,\n",
       " 15,\n",
       " 11,\n",
       " 15,\n",
       " 0,\n",
       " 28,\n",
       " 13,\n",
       " 2,\n",
       " 6,\n",
       " 6,\n",
       " 12,\n",
       " 3,\n",
       " 1,\n",
       " 17,\n",
       " 17,\n",
       " 15,\n",
       " 8,\n",
       " 23,\n",
       " 23,\n",
       " 8,\n",
       " 15,\n",
       " 9,\n",
       " 13,\n",
       " 18,\n",
       " 23,\n",
       " 7,\n",
       " 11,\n",
       " 22,\n",
       " 16,\n",
       " 29,\n",
       " 2,\n",
       " 6,\n",
       " 30,\n",
       " 21,\n",
       " 12,\n",
       " 23,\n",
       " 21,\n",
       " 9,\n",
       " 24,\n",
       " 7,\n",
       " 0,\n",
       " 29,\n",
       " 10,\n",
       " 11,\n",
       " 0,\n",
       " 24,\n",
       " 25,\n",
       " 3,\n",
       " 24,\n",
       " 13,\n",
       " 15,\n",
       " 11,\n",
       " 2,\n",
       " 24,\n",
       " 28,\n",
       " 3,\n",
       " 20,\n",
       " 5,\n",
       " 17,\n",
       " 19,\n",
       " 26,\n",
       " 26,\n",
       " 0,\n",
       " 22,\n",
       " 18,\n",
       " 21,\n",
       " 12,\n",
       " 28,\n",
       " 5,\n",
       " 14,\n",
       " 26,\n",
       " 4,\n",
       " 6,\n",
       " 14,\n",
       " 22,\n",
       " 4,\n",
       " 2,\n",
       " 27,\n",
       " 29,\n",
       " 6,\n",
       " 2,\n",
       " 20,\n",
       " 15,\n",
       " 15,\n",
       " 5,\n",
       " 22]"
      ]
     },
     "execution_count": 35,
     "metadata": {},
     "output_type": "execute_result"
    }
   ],
   "source": [
    "list_1"
   ]
  },
  {
   "cell_type": "code",
   "execution_count": 36,
   "metadata": {},
   "outputs": [
    {
     "data": {
      "text/plain": [
       "[9,\n",
       " 900,\n",
       " 256,\n",
       " 484,\n",
       " 484,\n",
       " 625,\n",
       " 529,\n",
       " 729,\n",
       " 1,\n",
       " 441,\n",
       " 0,\n",
       " 400,\n",
       " 9,\n",
       " 529,\n",
       " 225,\n",
       " 225,\n",
       " 121,\n",
       " 225,\n",
       " 0,\n",
       " 784,\n",
       " 169,\n",
       " 4,\n",
       " 36,\n",
       " 36,\n",
       " 144,\n",
       " 9,\n",
       " 1,\n",
       " 289,\n",
       " 289,\n",
       " 225,\n",
       " 64,\n",
       " 529,\n",
       " 529,\n",
       " 64,\n",
       " 225,\n",
       " 81,\n",
       " 169,\n",
       " 324,\n",
       " 529,\n",
       " 49,\n",
       " 121,\n",
       " 484,\n",
       " 256,\n",
       " 841,\n",
       " 4,\n",
       " 36,\n",
       " 900,\n",
       " 441,\n",
       " 144,\n",
       " 529,\n",
       " 441,\n",
       " 81,\n",
       " 576,\n",
       " 49,\n",
       " 0,\n",
       " 841,\n",
       " 100,\n",
       " 121,\n",
       " 0,\n",
       " 576,\n",
       " 625,\n",
       " 9,\n",
       " 576,\n",
       " 169,\n",
       " 225,\n",
       " 121,\n",
       " 4,\n",
       " 576,\n",
       " 784,\n",
       " 9,\n",
       " 400,\n",
       " 25,\n",
       " 289,\n",
       " 361,\n",
       " 676,\n",
       " 676,\n",
       " 0,\n",
       " 484,\n",
       " 324,\n",
       " 441,\n",
       " 144,\n",
       " 784,\n",
       " 25,\n",
       " 196,\n",
       " 676,\n",
       " 16,\n",
       " 36,\n",
       " 196,\n",
       " 484,\n",
       " 16,\n",
       " 4,\n",
       " 729,\n",
       " 841,\n",
       " 36,\n",
       " 4,\n",
       " 400,\n",
       " 225,\n",
       " 225,\n",
       " 25,\n",
       " 484]"
      ]
     },
     "execution_count": 36,
     "metadata": {},
     "output_type": "execute_result"
    }
   ],
   "source": [
    "# Finding the square of each element\n",
    "list_2 = [x**2 for x in list_1]\n",
    "list_2"
   ]
  },
  {
   "cell_type": "code",
   "execution_count": 37,
   "metadata": {},
   "outputs": [
    {
     "data": {
      "text/plain": [
       "[1.0,\n",
       " 2.9547247909790624,\n",
       " 2.4099331233312946,\n",
       " 2.6857417386022635,\n",
       " 2.6857417386022635,\n",
       " 2.796574333210429,\n",
       " 2.7242758696007887,\n",
       " 2.8633228601204554,\n",
       " 0.30102999566398114,\n",
       " 2.6454222693490914,\n",
       " 0.0,\n",
       " 2.603144372620182,\n",
       " 1.0,\n",
       " 2.7242758696007887,\n",
       " 2.3541084391474008,\n",
       " 2.3541084391474008,\n",
       " 2.086359830674748,\n",
       " 2.3541084391474008,\n",
       " 0.0,\n",
       " 2.8948696567452523,\n",
       " 2.2304489213782737,\n",
       " 0.6989700043360187,\n",
       " 1.5682017240669948,\n",
       " 1.5682017240669948,\n",
       " 2.1613680022349744,\n",
       " 1.0,\n",
       " 0.30102999566398114,\n",
       " 2.4623979978989556,\n",
       " 2.4623979978989556,\n",
       " 2.3541084391474008,\n",
       " 1.8129133566428552,\n",
       " 2.7242758696007887,\n",
       " 2.7242758696007887,\n",
       " 1.8129133566428552,\n",
       " 2.3541084391474008,\n",
       " 1.9138138523837167,\n",
       " 2.2304489213782737,\n",
       " 2.511883360978874,\n",
       " 2.7242758696007887,\n",
       " 1.6989700043360185,\n",
       " 2.086359830674748,\n",
       " 2.6857417386022635,\n",
       " 2.4099331233312946,\n",
       " 2.925312091499649,\n",
       " 0.6989700043360187,\n",
       " 1.5682017240669948,\n",
       " 2.9547247909790624,\n",
       " 2.6454222693490914,\n",
       " 2.1613680022349744,\n",
       " 2.7242758696007887,\n",
       " 2.6454222693490914,\n",
       " 1.9138138523837167,\n",
       " 2.7611758131557314,\n",
       " 1.6989700043360185,\n",
       " 0.0,\n",
       " 2.925312091499649,\n",
       " 2.0043213737826426,\n",
       " 2.086359830674748,\n",
       " 0.0,\n",
       " 2.7611758131557314,\n",
       " 2.796574333210429,\n",
       " 1.0,\n",
       " 2.7611758131557314,\n",
       " 2.2304489213782737,\n",
       " 2.3541084391474008,\n",
       " 2.086359830674748,\n",
       " 0.6989700043360187,\n",
       " 2.7611758131557314,\n",
       " 2.8948696567452523,\n",
       " 1.0,\n",
       " 2.603144372620182,\n",
       " 1.414973347970818,\n",
       " 2.4623979978989556,\n",
       " 2.558708570533166,\n",
       " 2.8305886686851442,\n",
       " 2.8305886686851442,\n",
       " 0.0,\n",
       " 2.6857417386022635,\n",
       " 2.511883360978874,\n",
       " 2.6454222693490914,\n",
       " 2.1613680022349744,\n",
       " 2.8948696567452523,\n",
       " 1.414973347970818,\n",
       " 2.294466226161593,\n",
       " 2.8305886686851442,\n",
       " 1.2304489213782739,\n",
       " 1.5682017240669948,\n",
       " 2.294466226161593,\n",
       " 2.6857417386022635,\n",
       " 1.2304489213782739,\n",
       " 0.6989700043360187,\n",
       " 2.8633228601204554,\n",
       " 2.925312091499649,\n",
       " 1.5682017240669948,\n",
       " 0.6989700043360187,\n",
       " 2.603144372620182,\n",
       " 2.3541084391474008,\n",
       " 2.3541084391474008,\n",
       " 1.414973347970818,\n",
       " 2.6857417386022635]"
      ]
     },
     "execution_count": 37,
     "metadata": {},
     "output_type": "execute_result"
    }
   ],
   "source": [
    "# Finding the log of the 1 elements of list_2\n",
    "import math\n",
    "list_2 = [math.log(x+1,10) for x in list_2]\n",
    "list_2"
   ]
  },
  {
   "cell_type": "markdown",
   "metadata": {},
   "source": [
    "# Activity 1.01: Handling Lists"
   ]
  },
  {
   "cell_type": "code",
   "execution_count": 38,
   "metadata": {},
   "outputs": [
    {
     "data": {
      "text/plain": [
       "[63,\n",
       " 85,\n",
       " 63,\n",
       " 68,\n",
       " 74,\n",
       " 90,\n",
       " 10,\n",
       " 36,\n",
       " 14,\n",
       " 86,\n",
       " 63,\n",
       " 32,\n",
       " 15,\n",
       " 75,\n",
       " 49,\n",
       " 27,\n",
       " 36,\n",
       " 46,\n",
       " 34,\n",
       " 92,\n",
       " 67,\n",
       " 28,\n",
       " 65,\n",
       " 29,\n",
       " 72,\n",
       " 10,\n",
       " 59,\n",
       " 4,\n",
       " 68,\n",
       " 91,\n",
       " 73,\n",
       " 98,\n",
       " 89,\n",
       " 91,\n",
       " 98,\n",
       " 94,\n",
       " 97,\n",
       " 10,\n",
       " 43,\n",
       " 37,\n",
       " 37,\n",
       " 39,\n",
       " 27,\n",
       " 55,\n",
       " 39,\n",
       " 33,\n",
       " 4,\n",
       " 81,\n",
       " 57,\n",
       " 99,\n",
       " 38,\n",
       " 68,\n",
       " 94,\n",
       " 62,\n",
       " 21,\n",
       " 57,\n",
       " 71,\n",
       " 93,\n",
       " 60,\n",
       " 75,\n",
       " 34,\n",
       " 91,\n",
       " 47,\n",
       " 74,\n",
       " 69,\n",
       " 14,\n",
       " 5,\n",
       " 92,\n",
       " 73,\n",
       " 42,\n",
       " 32,\n",
       " 26,\n",
       " 57,\n",
       " 52,\n",
       " 88,\n",
       " 82,\n",
       " 19,\n",
       " 15,\n",
       " 0,\n",
       " 7,\n",
       " 69,\n",
       " 24,\n",
       " 84,\n",
       " 91,\n",
       " 41,\n",
       " 94,\n",
       " 39,\n",
       " 89,\n",
       " 0,\n",
       " 48,\n",
       " 97,\n",
       " 44,\n",
       " 50,\n",
       " 99,\n",
       " 85,\n",
       " 74,\n",
       " 52,\n",
       " 31,\n",
       " 8,\n",
       " 83]"
      ]
     },
     "execution_count": 38,
     "metadata": {},
     "output_type": "execute_result"
    }
   ],
   "source": [
    "# import the random library\n",
    "import random\n",
    "# use the randint method to create 100 random numbers\n",
    "random_int_list = [random.randint(0, 100) for x in range(0, 100)]\n",
    "# print out the list\n",
    "random_int_list"
   ]
  },
  {
   "cell_type": "code",
   "execution_count": 39,
   "metadata": {},
   "outputs": [
    {
     "data": {
      "text/plain": [
       "[63,\n",
       " 63,\n",
       " 90,\n",
       " 36,\n",
       " 63,\n",
       " 15,\n",
       " 75,\n",
       " 27,\n",
       " 36,\n",
       " 72,\n",
       " 39,\n",
       " 27,\n",
       " 39,\n",
       " 33,\n",
       " 81,\n",
       " 57,\n",
       " 99,\n",
       " 21,\n",
       " 57,\n",
       " 93,\n",
       " 60,\n",
       " 75,\n",
       " 69,\n",
       " 42,\n",
       " 57,\n",
       " 15,\n",
       " 0,\n",
       " 69,\n",
       " 24,\n",
       " 84,\n",
       " 39,\n",
       " 0,\n",
       " 48,\n",
       " 99]"
      ]
     },
     "execution_count": 39,
     "metadata": {},
     "output_type": "execute_result"
    }
   ],
   "source": [
    "# create a list from random_int_list with ints divisible by 3\n",
    "list_divisible_by_3 = [a for a in random_int_list if a % 3 == 0]\n",
    "list_divisible_by_3"
   ]
  },
  {
   "cell_type": "code",
   "execution_count": 40,
   "metadata": {},
   "outputs": [
    {
     "data": {
      "text/plain": [
       "66"
      ]
     },
     "execution_count": 40,
     "metadata": {},
     "output_type": "execute_result"
    }
   ],
   "source": [
    "# use the len function to measure the lenght of the first list and teh second list\n",
    "length_of_random_int_list = len(random_int_list)\n",
    "length_of_divisible_by_3_list = len(list_divisible_by_3)\n",
    "# store them in two different variables\n",
    "difference = length_of_random_int_list - length_of_divisible_by_3_list\n",
    "# calculate the difference in length\n",
    "difference"
   ]
  },
  {
   "cell_type": "code",
   "execution_count": 41,
   "metadata": {},
   "outputs": [
    {
     "data": {
      "text/plain": [
       "[63, 66, 69, 73, 69, 66, 70, 61, 67, 68]"
      ]
     },
     "execution_count": 41,
     "metadata": {},
     "output_type": "execute_result"
    }
   ],
   "source": [
    "# combine the tasks used so far in a for loop\n",
    "EXPERIMENTS = 10\n",
    "difference_list = []\n",
    "for i in range(0, EXPERIMENTS):\n",
    "    random_number_list = [random.randint(0, 100) for x in range(0, 100)]\n",
    "    list_divisible_by_3 = [a for a in random_number_list if a % 3 == 0]\n",
    "    \n",
    "    length_of_random_list = len(random_number_list)\n",
    "    length_of_3_divisible_list = len(list_divisible_by_3)\n",
    "    difference = length_of_random_list - length_of_3_divisible_list\n",
    "    difference_list.append(difference)\n",
    "    \n",
    "difference_list"
   ]
  },
  {
   "cell_type": "code",
   "execution_count": 42,
   "metadata": {},
   "outputs": [
    {
     "data": {
      "text/plain": [
       "67.2"
      ]
     },
     "execution_count": 42,
     "metadata": {},
     "output_type": "execute_result"
    }
   ],
   "source": [
    "# calculate the arithmetic mean(common average) for the differences in the length\n",
    "avg_diff = sum(difference_list) / float(len(difference_list))\n",
    "avg_diff"
   ]
  },
  {
   "cell_type": "markdown",
   "metadata": {},
   "source": [
    "# Introduction to Sets"
   ]
  },
  {
   "cell_type": "code",
   "execution_count": 43,
   "metadata": {},
   "outputs": [],
   "source": [
    "list_12 = list(set(list_1))"
   ]
  },
  {
   "cell_type": "code",
   "execution_count": 44,
   "metadata": {},
   "outputs": [
    {
     "data": {
      "text/plain": [
       "[0,\n",
       " 1,\n",
       " 2,\n",
       " 3,\n",
       " 4,\n",
       " 5,\n",
       " 6,\n",
       " 7,\n",
       " 8,\n",
       " 9,\n",
       " 10,\n",
       " 11,\n",
       " 12,\n",
       " 13,\n",
       " 14,\n",
       " 15,\n",
       " 16,\n",
       " 17,\n",
       " 18,\n",
       " 19,\n",
       " 20,\n",
       " 21,\n",
       " 22,\n",
       " 23,\n",
       " 24,\n",
       " 25,\n",
       " 26,\n",
       " 27,\n",
       " 28,\n",
       " 29,\n",
       " 30]"
      ]
     },
     "execution_count": 44,
     "metadata": {},
     "output_type": "execute_result"
    }
   ],
   "source": [
    "list_12"
   ]
  },
  {
   "cell_type": "code",
   "execution_count": 46,
   "metadata": {},
   "outputs": [],
   "source": [
    "# create two sets\n",
    "set1 = {\"Apple\", \"Orange\", \"Banana\"}\n",
    "set2 = {\"Pear\", \"Peach\", \"Mango\", \"Banana\"}"
   ]
  },
  {
   "cell_type": "code",
   "execution_count": 47,
   "metadata": {},
   "outputs": [
    {
     "data": {
      "text/plain": [
       "{'Apple', 'Banana', 'Mango', 'Orange', 'Peach', 'Pear'}"
      ]
     },
     "execution_count": 47,
     "metadata": {},
     "output_type": "execute_result"
    }
   ],
   "source": [
    "# find the union of two sets\n",
    "set1 | set2"
   ]
  },
  {
   "cell_type": "code",
   "execution_count": 48,
   "metadata": {},
   "outputs": [
    {
     "data": {
      "text/plain": [
       "{'Banana'}"
      ]
     },
     "execution_count": 48,
     "metadata": {},
     "output_type": "execute_result"
    }
   ],
   "source": [
    "# get the intersection of two sets\n",
    "set1 & set2"
   ]
  },
  {
   "cell_type": "markdown",
   "metadata": {},
   "source": [
    "# Creating Null Sets"
   ]
  },
  {
   "cell_type": "code",
   "execution_count": 49,
   "metadata": {},
   "outputs": [
    {
     "data": {
      "text/plain": [
       "set()"
      ]
     },
     "execution_count": 49,
     "metadata": {},
     "output_type": "execute_result"
    }
   ],
   "source": [
    "# create a null set\n",
    "null_set_1 = set({})\n",
    "null_set_1"
   ]
  },
  {
   "cell_type": "code",
   "execution_count": 50,
   "metadata": {},
   "outputs": [
    {
     "data": {
      "text/plain": [
       "{}"
      ]
     },
     "execution_count": 50,
     "metadata": {},
     "output_type": "execute_result"
    }
   ],
   "source": [
    "# create a null dictionary\n",
    "null_set_2 = {}\n",
    "null_set_2"
   ]
  },
  {
   "cell_type": "markdown",
   "metadata": {},
   "source": [
    "# Dictionary"
   ]
  },
  {
   "cell_type": "code",
   "execution_count": 52,
   "metadata": {},
   "outputs": [
    {
     "data": {
      "text/plain": [
       "{'key1': 'value1', 'key2': 'value2'}"
      ]
     },
     "execution_count": 52,
     "metadata": {},
     "output_type": "execute_result"
    }
   ],
   "source": [
    "# creating a dictionary\n",
    "dict_1 = {\"key1\": \"value1\", \"key2\": \"value2\"}\n",
    "dict_1"
   ]
  },
  {
   "cell_type": "code",
   "execution_count": 53,
   "metadata": {},
   "outputs": [
    {
     "data": {
      "text/plain": [
       "{'key1': 1,\n",
       " 'key2': ['list_element1', 34],\n",
       " 'key3': 'value3',\n",
       " 'key4': {'subkey': 'v1'},\n",
       " 'key5': 4.5}"
      ]
     },
     "execution_count": 53,
     "metadata": {},
     "output_type": "execute_result"
    }
   ],
   "source": [
    "# another dictionar example\n",
    "dict_2 = {\"key1\": 1, \"key2\": [\"list_element1\", 34], \n",
    "          \"key3\": \"value3\", \"key4\": {\"subkey\": \"v1\"}, \n",
    "          \"key5\": 4.5}\n",
    "dict_2"
   ]
  },
  {
   "cell_type": "markdown",
   "metadata": {},
   "source": [
    "# Exercise1.06: Accessing and Setting Values in a Dictionary"
   ]
  },
  {
   "cell_type": "code",
   "execution_count": 56,
   "metadata": {},
   "outputs": [],
   "source": [
    "# access a value in a dictionary by providing the key,\n",
    "# keep in mind there is no given order in a dictionary\n",
    "stocks = {\"Solar Capital Ltd\": \"$920.44\", \"Zoe's Kitchen, Inc.\": \"$262.32M\", \"Toyota Motor Corp Ltd Ord\": \"$156.02B\", \n",
    "         \"Nuveen Virginia Quality Municipal Income Fund\": \"$238.33M\", \"Kinross Gold Corporation\": \"$5.1B\",\n",
    "         \"Vulcan Materials Company\": \"$17.1B\", \"Hi-Crush Partners LP\": \"$955.69M\", \"Lennox International, Inc.\": \"$8.05B\",\n",
    "         \"WMIH Corp.\": \"$247.66M\", \"Comerica Incorporated\": \"n/a\"}"
   ]
  },
  {
   "cell_type": "code",
   "execution_count": 57,
   "metadata": {},
   "outputs": [
    {
     "data": {
      "text/plain": [
       "'$247.66M'"
      ]
     },
     "execution_count": 57,
     "metadata": {},
     "output_type": "execute_result"
    }
   ],
   "source": [
    "# print a particular element from the list\n",
    "stocks[\"WMIH Corp.\"]"
   ]
  },
  {
   "cell_type": "code",
   "execution_count": 58,
   "metadata": {},
   "outputs": [],
   "source": [
    "# set a value using the same method as above\n",
    "stocks[\"WMIH Copr.\"] = \"$300M\""
   ]
  },
  {
   "cell_type": "code",
   "execution_count": 59,
   "metadata": {},
   "outputs": [
    {
     "data": {
      "text/plain": [
       "{'key1': 'Value1'}"
      ]
     },
     "execution_count": 59,
     "metadata": {},
     "output_type": "execute_result"
    }
   ],
   "source": [
    "# define a blank(empty) dictionary and use key notation to assign values\n",
    "dict_3 = {} # Not a null set, it is a dictionary\n",
    "dict_3[\"key1\"] = \"Value1\"\n",
    "dict_3"
   ]
  },
  {
   "cell_type": "code",
   "execution_count": 61,
   "metadata": {},
   "outputs": [
    {
     "data": {
      "text/plain": [
       "{'Solar Capital Ltd': '920.44',\n",
       " \"Zoe's Kitchen, Inc.\": '262.32M',\n",
       " 'Toyota Motor Corp Ltd Ord': '156.02B',\n",
       " 'Nuveen Virginia Quality Municipal Income Fund': '238.33M',\n",
       " 'Kinross Gold Corporation': '5.1B',\n",
       " 'Vulcan Materials Company': '17.1B',\n",
       " 'Hi-Crush Partners LP': '955.69M',\n",
       " 'Lennox International, Inc.': '8.05B',\n",
       " 'WMIH Corp.': '247.66M',\n",
       " 'Comerica Incorporated': 'n/a',\n",
       " 'WMIH Copr.': '300M'}"
      ]
     },
     "execution_count": 61,
     "metadata": {},
     "output_type": "execute_result"
    }
   ],
   "source": [
    "# remove the `$` from the dictionary\n",
    "for key,val in stocks.items():\n",
    "    stocks[key] = val.replace('$', '')\n",
    "stocks"
   ]
  },
  {
   "cell_type": "code",
   "execution_count": 62,
   "metadata": {},
   "outputs": [
    {
     "data": {
      "text/plain": [
       "{'Solar Capital Ltd': ['920.4', '4'],\n",
       " \"Zoe's Kitchen, Inc.\": ['262.32', 'M'],\n",
       " 'Toyota Motor Corp Ltd Ord': ['156.02', 'B'],\n",
       " 'Nuveen Virginia Quality Municipal Income Fund': ['238.33', 'M'],\n",
       " 'Kinross Gold Corporation': ['5.1', 'B'],\n",
       " 'Vulcan Materials Company': ['17.1', 'B'],\n",
       " 'Hi-Crush Partners LP': ['955.69', 'M'],\n",
       " 'Lennox International, Inc.': ['8.05', 'B'],\n",
       " 'WMIH Corp.': ['247.66', 'M'],\n",
       " 'Comerica Incorporated': ['n/', 'a'],\n",
       " 'WMIH Copr.': ['300', 'M']}"
      ]
     },
     "execution_count": 62,
     "metadata": {},
     "output_type": "execute_result"
    }
   ],
   "source": [
    "# iterate over stocks dictionary again and split the value into a list\n",
    "# with price (val) and multiplier (mult) as separate elements whee\n",
    "# a single value is assigned to each key\n",
    "for key, val in stocks.items():\n",
    "    mult = val[-1]\n",
    "    stocks[key] = [val[:-1], mult]\n",
    "stocks"
   ]
  },
  {
   "cell_type": "markdown",
   "metadata": {},
   "source": [
    "# Exercise 1.08: Revisiting the Unique Valued List Problem"
   ]
  },
  {
   "cell_type": "code",
   "execution_count": 66,
   "metadata": {},
   "outputs": [],
   "source": [
    "# generate a list with duplicate values\n",
    "import random\n",
    "list_13 = [random.randint(0, 30) for x in range (0, 100)]"
   ]
  },
  {
   "cell_type": "code",
   "execution_count": 68,
   "metadata": {},
   "outputs": [
    {
     "data": {
      "text/plain": [
       "[23,\n",
       " 4,\n",
       " 17,\n",
       " 29,\n",
       " 7,\n",
       " 16,\n",
       " 9,\n",
       " 5,\n",
       " 11,\n",
       " 30,\n",
       " 27,\n",
       " 20,\n",
       " 3,\n",
       " 21,\n",
       " 14,\n",
       " 8,\n",
       " 25,\n",
       " 12,\n",
       " 0,\n",
       " 13,\n",
       " 18,\n",
       " 15,\n",
       " 28,\n",
       " 1,\n",
       " 26,\n",
       " 24,\n",
       " 19,\n",
       " 6,\n",
       " 22,\n",
       " 2,\n",
       " 10]"
      ]
     },
     "execution_count": 68,
     "metadata": {},
     "output_type": "execute_result"
    }
   ],
   "source": [
    "# create a unique valued list form list_13\n",
    "list(dict.fromkeys(list_13).keys())"
   ]
  },
  {
   "cell_type": "markdown",
   "metadata": {},
   "source": [
    "# Exercise 1.09: Deleting a Value from Dict"
   ]
  },
  {
   "cell_type": "code",
   "execution_count": 73,
   "metadata": {},
   "outputs": [
    {
     "data": {
      "text/plain": [
       "{'key1': 1,\n",
       " 'key2': ['list_element1', 34],\n",
       " 'key3': 'value3',\n",
       " 'key4': {'subkey1': 'v1'},\n",
       " 'key5': 4.5}"
      ]
     },
     "execution_count": 73,
     "metadata": {},
     "output_type": "execute_result"
    }
   ],
   "source": [
    "# create dict_4 with five elements\n",
    "dict_4 = {\"key1\": 1, \"key2\": [\"list_element1\", 34], \\\n",
    "          \"key3\": \"value3\", \"key4\": {\"subkey1\": \"v1\"}, \\\n",
    "          \"key5\": 4.5}\n",
    "dict_4"
   ]
  },
  {
   "cell_type": "code",
   "execution_count": 74,
   "metadata": {},
   "outputs": [
    {
     "data": {
      "text/plain": [
       "{'key1': 1, 'key3': 'value3', 'key4': {'subkey1': 'v1'}, 'key5': 4.5}"
      ]
     },
     "execution_count": 74,
     "metadata": {},
     "output_type": "execute_result"
    }
   ],
   "source": [
    "del dict_4[\"key2\"]\n",
    "dict_4"
   ]
  },
  {
   "cell_type": "code",
   "execution_count": 75,
   "metadata": {},
   "outputs": [],
   "source": [
    "del dict_4[\"key3\"]\n",
    "del dict_4[\"key4\"]"
   ]
  },
  {
   "cell_type": "code",
   "execution_count": 76,
   "metadata": {},
   "outputs": [
    {
     "data": {
      "text/plain": [
       "{'key1': 1, 'key5': 4.5}"
      ]
     },
     "execution_count": 76,
     "metadata": {},
     "output_type": "execute_result"
    }
   ],
   "source": [
    "dict_4"
   ]
  },
  {
   "cell_type": "markdown",
   "metadata": {},
   "source": [
    "# Exercise 1.10: Dictionary Comprehension"
   ]
  },
  {
   "cell_type": "code",
   "execution_count": 78,
   "metadata": {},
   "outputs": [
    {
     "data": {
      "text/plain": [
       "{3: 9,\n",
       " 30: 900,\n",
       " 16: 256,\n",
       " 22: 484,\n",
       " 25: 625,\n",
       " 23: 529,\n",
       " 27: 729,\n",
       " 1: 1,\n",
       " 21: 441,\n",
       " 0: 0,\n",
       " 20: 400,\n",
       " 15: 225,\n",
       " 11: 121,\n",
       " 28: 784,\n",
       " 13: 169,\n",
       " 2: 4,\n",
       " 6: 36,\n",
       " 12: 144,\n",
       " 17: 289,\n",
       " 8: 64,\n",
       " 9: 81,\n",
       " 18: 324,\n",
       " 7: 49,\n",
       " 29: 841,\n",
       " 24: 576,\n",
       " 10: 100,\n",
       " 5: 25,\n",
       " 19: 361,\n",
       " 26: 676,\n",
       " 14: 196,\n",
       " 4: 16}"
      ]
     },
     "execution_count": 78,
     "metadata": {},
     "output_type": "execute_result"
    }
   ],
   "source": [
    "# generate a dict that has 0 - 9 as the keys and the square of the key as values\n",
    "list_15 = [x for x in range(0, 10)]\n",
    "dict_5 = {x : x**2 for x in list_1}\n",
    "dict_5"
   ]
  },
  {
   "cell_type": "code",
   "execution_count": 80,
   "metadata": {},
   "outputs": [
    {
     "data": {
      "text/plain": [
       "{'Tom': 100, 'Dick': 200, 'Harry': 300}"
      ]
     },
     "execution_count": 80,
     "metadata": {},
     "output_type": "execute_result"
    }
   ],
   "source": [
    "# generate a dictionary using the dict function\n",
    "dict_6 = dict([('Tom', 100), ('Dick', 200), ('Harry', 300)])\n",
    "dict_6"
   ]
  },
  {
   "cell_type": "code",
   "execution_count": 81,
   "metadata": {},
   "outputs": [
    {
     "data": {
      "text/plain": [
       "{'Tom': 100, 'Dick': 200, 'Harry': 300}"
      ]
     },
     "execution_count": 81,
     "metadata": {},
     "output_type": "execute_result"
    }
   ],
   "source": [
    "# you can also create a dictionary using the dict function as follows:\n",
    "dict_7 = dict(Tom=100, Dick=200, Harry=300)\n",
    "dict_7"
   ]
  },
  {
   "cell_type": "markdown",
   "metadata": {},
   "source": [
    "# Tuples"
   ]
  },
  {
   "cell_type": "code",
   "execution_count": 82,
   "metadata": {},
   "outputs": [],
   "source": [
    "# example tuple\n",
    "tuple_1 = 24, 42, 2.3456, \"Hello\""
   ]
  },
  {
   "cell_type": "markdown",
   "metadata": {},
   "source": [
    "# Creating a Tuple with Different Cardinalities"
   ]
  },
  {
   "cell_type": "code",
   "execution_count": 83,
   "metadata": {},
   "outputs": [],
   "source": [
    "# creating an empty tuple\n",
    "tuple_1 = ()"
   ]
  },
  {
   "cell_type": "code",
   "execution_count": 85,
   "metadata": {},
   "outputs": [],
   "source": [
    "# creating a tuple with only one value\n",
    "tuple_1 = \"Hello\", # <- you must have the trailing comma"
   ]
  },
  {
   "cell_type": "code",
   "execution_count": 86,
   "metadata": {},
   "outputs": [],
   "source": [
    "# nest tuples, similar to lists and dicts\n",
    "tuple_1 = \"hello\", \"there\"\n",
    "tuple_12 = tuple_1, 45, \"Sam\""
   ]
  },
  {
   "cell_type": "code",
   "execution_count": 87,
   "metadata": {},
   "outputs": [
    {
     "ename": "TypeError",
     "evalue": "'tuple' object does not support item assignment",
     "output_type": "error",
     "traceback": [
      "\u001b[1;31m---------------------------------------------------------------------------\u001b[0m",
      "\u001b[1;31mTypeError\u001b[0m                                 Traceback (most recent call last)",
      "\u001b[1;32m<ipython-input-87-9a99229a9270>\u001b[0m in \u001b[0;36m<module>\u001b[1;34m\u001b[0m\n\u001b[0;32m      2\u001b[0m \u001b[1;31m# only access them\u001b[0m\u001b[1;33m\u001b[0m\u001b[1;33m\u001b[0m\u001b[1;33m\u001b[0m\u001b[0m\n\u001b[0;32m      3\u001b[0m \u001b[0mtuple_1\u001b[0m \u001b[1;33m=\u001b[0m \u001b[1;34m\"Hello\"\u001b[0m\u001b[1;33m,\u001b[0m \u001b[1;34m\"World!\"\u001b[0m\u001b[1;33m\u001b[0m\u001b[1;33m\u001b[0m\u001b[0m\n\u001b[1;32m----> 4\u001b[1;33m \u001b[0mtuple_1\u001b[0m\u001b[1;33m[\u001b[0m\u001b[1;36m1\u001b[0m\u001b[1;33m]\u001b[0m \u001b[1;33m=\u001b[0m \u001b[1;34m\"Universe!\"\u001b[0m\u001b[1;33m\u001b[0m\u001b[1;33m\u001b[0m\u001b[0m\n\u001b[0m",
      "\u001b[1;31mTypeError\u001b[0m: 'tuple' object does not support item assignment"
     ]
    }
   ],
   "source": [
    "# tuples are immutable, you are not able to change their values\n",
    "# only access them\n",
    "tuple_1 = \"Hello\", \"World!\"\n",
    "tuple_1[1] = \"Universe!\""
   ]
  },
  {
   "cell_type": "code",
   "execution_count": 88,
   "metadata": {},
   "outputs": [
    {
     "data": {
      "text/plain": [
       "'good'"
      ]
     },
     "execution_count": 88,
     "metadata": {},
     "output_type": "execute_result"
    }
   ],
   "source": [
    "# access the elements ofa  tuple similar to lists\n",
    "tuple_1 = (\"good\", \"morning!\", \"how\", \"are\", \"you?\")\n",
    "tuple_1[0]"
   ]
  },
  {
   "cell_type": "code",
   "execution_count": 89,
   "metadata": {},
   "outputs": [
    {
     "data": {
      "text/plain": [
       "'you?'"
      ]
     },
     "execution_count": 89,
     "metadata": {},
     "output_type": "execute_result"
    }
   ],
   "source": [
    "# access another element\n",
    "tuple_1[4]"
   ]
  },
  {
   "cell_type": "markdown",
   "metadata": {},
   "source": [
    "# Unpacking a Tuple"
   ]
  },
  {
   "cell_type": "code",
   "execution_count": 91,
   "metadata": {},
   "outputs": [
    {
     "name": "stdout",
     "output_type": "stream",
     "text": [
      "Hello\n",
      "World\n"
     ]
    }
   ],
   "source": [
    "# unpacking a tuple simply means getting the values contained in the tuple in different variables\n",
    "tuple_1 = \"Hello\", \"World\"\n",
    "hello, world = tuple_1\n",
    "print(hello)\n",
    "print(world)\n",
    "# we can now modify the values of the variables in any way we like"
   ]
  },
  {
   "cell_type": "markdown",
   "metadata": {},
   "source": [
    "# Exercise 1.11: Handling Tuples"
   ]
  },
  {
   "cell_type": "code",
   "execution_count": 92,
   "metadata": {},
   "outputs": [
    {
     "data": {
      "text/plain": [
       "('1', '3', '5')"
      ]
     },
     "execution_count": 92,
     "metadata": {},
     "output_type": "execute_result"
    }
   ],
   "source": [
    "# create a tuple to demonstrate how tupels are immutable\n",
    "# unpack it to read all the elements\n",
    "tupleE = \"1\", \"3\", \"5\"\n",
    "tupleE"
   ]
  },
  {
   "cell_type": "code",
   "execution_count": 93,
   "metadata": {},
   "outputs": [
    {
     "ename": "TypeError",
     "evalue": "'tuple' object does not support item assignment",
     "output_type": "error",
     "traceback": [
      "\u001b[1;31m---------------------------------------------------------------------------\u001b[0m",
      "\u001b[1;31mTypeError\u001b[0m                                 Traceback (most recent call last)",
      "\u001b[1;32m<ipython-input-93-9483c8a5dce7>\u001b[0m in \u001b[0;36m<module>\u001b[1;34m\u001b[0m\n\u001b[1;32m----> 1\u001b[1;33m \u001b[0mtupleE\u001b[0m\u001b[1;33m[\u001b[0m\u001b[1;36m1\u001b[0m\u001b[1;33m]\u001b[0m \u001b[1;33m=\u001b[0m \u001b[1;34m\"5\"\u001b[0m\u001b[1;33m\u001b[0m\u001b[1;33m\u001b[0m\u001b[0m\n\u001b[0m",
      "\u001b[1;31mTypeError\u001b[0m: 'tuple' object does not support item assignment"
     ]
    }
   ],
   "source": [
    "tupleE[1] = \"5\" # results in a TypeError"
   ]
  },
  {
   "cell_type": "code",
   "execution_count": 94,
   "metadata": {},
   "outputs": [
    {
     "ename": "SyntaxError",
     "evalue": "cannot assign to literal (<ipython-input-94-5f74113d4cba>, line 2)",
     "output_type": "error",
     "traceback": [
      "\u001b[1;36m  File \u001b[1;32m\"<ipython-input-94-5f74113d4cba>\"\u001b[1;36m, line \u001b[1;32m2\u001b[0m\n\u001b[1;33m    1, 3, 5 = tupleE\u001b[0m\n\u001b[1;37m    ^\u001b[0m\n\u001b[1;31mSyntaxError\u001b[0m\u001b[1;31m:\u001b[0m cannot assign to literal\n"
     ]
    }
   ],
   "source": [
    "# try to assign a series to the tuple\n",
    "1, 3, 5 = tupleE # results in a SyntaxError"
   ]
  },
  {
   "cell_type": "code",
   "execution_count": 95,
   "metadata": {},
   "outputs": [
    {
     "name": "stdout",
     "output_type": "stream",
     "text": [
      "1\n",
      "3\n"
     ]
    }
   ],
   "source": [
    "# print variables at 0th and 1st positions\n",
    "print(tupleE[0])\n",
    "print(tupleE[1])"
   ]
  },
  {
   "cell_type": "markdown",
   "metadata": {},
   "source": [
    "# Strings"
   ]
  },
  {
   "cell_type": "code",
   "execution_count": 98,
   "metadata": {},
   "outputs": [],
   "source": [
    "# example of a string\n",
    "string1 = 'Hello World!'"
   ]
  },
  {
   "cell_type": "code",
   "execution_count": 99,
   "metadata": {},
   "outputs": [],
   "source": [
    "# also this can declare a string\n",
    "string2 = \"Hello World 2!\""
   ]
  },
  {
   "cell_type": "markdown",
   "metadata": {},
   "source": [
    "# Exercise 1.12: Accessing Strings"
   ]
  },
  {
   "cell_type": "code",
   "execution_count": 100,
   "metadata": {},
   "outputs": [
    {
     "data": {
      "text/plain": [
       "'Hello World!'"
      ]
     },
     "execution_count": 100,
     "metadata": {},
     "output_type": "execute_result"
    }
   ],
   "source": [
    "# create a string called str_1\n",
    "str_1 = \"Hello World!\"\n",
    "str_1"
   ]
  },
  {
   "cell_type": "code",
   "execution_count": 101,
   "metadata": {},
   "outputs": [
    {
     "data": {
      "text/plain": [
       "'H'"
      ]
     },
     "execution_count": 101,
     "metadata": {},
     "output_type": "execute_result"
    }
   ],
   "source": [
    "# access the first member of the string\n",
    "str_1[0]"
   ]
  },
  {
   "cell_type": "code",
   "execution_count": 102,
   "metadata": {},
   "outputs": [
    {
     "data": {
      "text/plain": [
       "'o'"
      ]
     },
     "execution_count": 102,
     "metadata": {},
     "output_type": "execute_result"
    }
   ],
   "source": [
    "# access the fifth element of the string\n",
    "str_1[4]"
   ]
  },
  {
   "cell_type": "code",
   "execution_count": 103,
   "metadata": {},
   "outputs": [
    {
     "data": {
      "text/plain": [
       "'!'"
      ]
     },
     "execution_count": 103,
     "metadata": {},
     "output_type": "execute_result"
    }
   ],
   "source": [
    "# access the last member of the string\n",
    "str_1[len(str_1) - 1]"
   ]
  },
  {
   "cell_type": "code",
   "execution_count": 104,
   "metadata": {},
   "outputs": [
    {
     "data": {
      "text/plain": [
       "'!'"
      ]
     },
     "execution_count": 104,
     "metadata": {},
     "output_type": "execute_result"
    }
   ],
   "source": [
    "# another way to access the last member of a string\n",
    "str_1[-1]"
   ]
  },
  {
   "cell_type": "markdown",
   "metadata": {},
   "source": [
    "# Exercise 1.13: String Slices"
   ]
  },
  {
   "cell_type": "code",
   "execution_count": 105,
   "metadata": {},
   "outputs": [
    {
     "data": {
      "text/plain": [
       "'Hello World! I am learning data wrangling'"
      ]
     },
     "execution_count": 105,
     "metadata": {},
     "output_type": "execute_result"
    }
   ],
   "source": [
    "# create a string\n",
    "str_1 = \"Hello World! I am learning data wrangling\"\n",
    "str_1"
   ]
  },
  {
   "cell_type": "code",
   "execution_count": 106,
   "metadata": {},
   "outputs": [
    {
     "data": {
      "text/plain": [
       "'llo Worl'"
      ]
     },
     "execution_count": 106,
     "metadata": {},
     "output_type": "execute_result"
    }
   ],
   "source": [
    "# specify slicing values and slice the string\n",
    "str_1[2:10]"
   ]
  },
  {
   "cell_type": "code",
   "execution_count": 107,
   "metadata": {},
   "outputs": [
    {
     "data": {
      "text/plain": [
       "'d! I am learning data wrangling'"
      ]
     },
     "execution_count": 107,
     "metadata": {},
     "output_type": "execute_result"
    }
   ],
   "source": [
    "# slice a string by skipping a slice value\n",
    "str_1[-31:]"
   ]
  },
  {
   "cell_type": "code",
   "execution_count": 108,
   "metadata": {},
   "outputs": [
    {
     "data": {
      "text/plain": [
       "' wran'"
      ]
     },
     "execution_count": 108,
     "metadata": {},
     "output_type": "execute_result"
    }
   ],
   "source": [
    "# use negative numbers to slice the string\n",
    "str_1[-10:-5]"
   ]
  },
  {
   "cell_type": "markdown",
   "metadata": {},
   "source": [
    "# String Functions"
   ]
  },
  {
   "cell_type": "code",
   "execution_count": 110,
   "metadata": {},
   "outputs": [
    {
     "data": {
      "text/plain": [
       "41"
      ]
     },
     "execution_count": 110,
     "metadata": {},
     "output_type": "execute_result"
    }
   ],
   "source": [
    "# find the length of a string\n",
    "str_1 = \"Hello World! I am learning data wrangling\"\n",
    "len(str_1)"
   ]
  },
  {
   "cell_type": "code",
   "execution_count": 111,
   "metadata": {},
   "outputs": [
    {
     "data": {
      "text/plain": [
       "'a complete upper case string'"
      ]
     },
     "execution_count": 111,
     "metadata": {},
     "output_type": "execute_result"
    }
   ],
   "source": [
    "# change the case of the string to lower\n",
    "str_1 = \"A COMPLETE UPPER CASE STRING\"\n",
    "str_1.lower()"
   ]
  },
  {
   "cell_type": "code",
   "execution_count": 112,
   "metadata": {},
   "outputs": [
    {
     "data": {
      "text/plain": [
       "'A COMPLETE UPPER CASE STRING'"
      ]
     },
     "execution_count": 112,
     "metadata": {},
     "output_type": "execute_result"
    }
   ],
   "source": [
    "# back to upper\n",
    "str_1.upper()"
   ]
  },
  {
   "cell_type": "code",
   "execution_count": 114,
   "metadata": {},
   "outputs": [
    {
     "data": {
      "text/plain": [
       "-1"
      ]
     },
     "execution_count": 114,
     "metadata": {},
     "output_type": "execute_result"
    }
   ],
   "source": [
    "# search for a string within a string using find\n",
    "str_1 = \"A complicated string looks like this\"\n",
    "str_1.find(\"complicated\")\n",
    "str_1.find(\"hello\")"
   ]
  },
  {
   "cell_type": "code",
   "execution_count": 115,
   "metadata": {},
   "outputs": [
    {
     "data": {
      "text/plain": [
       "'A simple string looks like this'"
      ]
     },
     "execution_count": 115,
     "metadata": {},
     "output_type": "execute_result"
    }
   ],
   "source": [
    "# the replace method will return a new string since strings are immutable\n",
    "str_1 = \"A complicated string looks like this\"\n",
    "str_1.replace(\"complicated\", \"simple\")"
   ]
  },
  {
   "cell_type": "markdown",
   "metadata": {},
   "source": [
    "# Exercise 1.14: Splitting and Joining a String"
   ]
  },
  {
   "cell_type": "code",
   "execution_count": null,
   "metadata": {},
   "outputs": [],
   "source": []
  },
  {
   "cell_type": "code",
   "execution_count": null,
   "metadata": {},
   "outputs": [],
   "source": []
  },
  {
   "cell_type": "raw",
   "metadata": {},
   "source": []
  }
 ],
 "metadata": {
  "kernelspec": {
   "display_name": "Python 3",
   "language": "python",
   "name": "python3"
  },
  "language_info": {
   "codemirror_mode": {
    "name": "ipython",
    "version": 3
   },
   "file_extension": ".py",
   "mimetype": "text/x-python",
   "name": "python",
   "nbconvert_exporter": "python",
   "pygments_lexer": "ipython3",
   "version": "3.8.5"
  }
 },
 "nbformat": 4,
 "nbformat_minor": 4
}
