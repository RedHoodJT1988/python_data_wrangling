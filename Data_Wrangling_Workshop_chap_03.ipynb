{
 "cells": [
  {
   "cell_type": "markdown",
   "metadata": {},
   "source": [
    "# NumPy Arrays "
   ]
  },
  {
   "cell_type": "markdown",
   "metadata": {},
   "source": [
    "## Exercise 3.01: Creating a NumPy Array (from a List)"
   ]
  },
  {
   "cell_type": "code",
   "execution_count": 1,
   "metadata": {},
   "outputs": [
    {
     "data": {
      "text/plain": [
       "[1, 2, 3]"
      ]
     },
     "execution_count": 1,
     "metadata": {},
     "output_type": "execute_result"
    }
   ],
   "source": [
    "# import NumPy\n",
    "import numpy as np\n",
    "\n",
    "# create a list with three elements\n",
    "list_1 = [1,2,3]\n",
    "list_1"
   ]
  },
  {
   "cell_type": "code",
   "execution_count": 2,
   "metadata": {},
   "outputs": [
    {
     "data": {
      "text/plain": [
       "array([1, 2, 3])"
      ]
     },
     "execution_count": 2,
     "metadata": {},
     "output_type": "execute_result"
    }
   ],
   "source": [
    "# use the array function to convert it to an array\n",
    "array_1 = np.array(list_1)\n",
    "array_1"
   ]
  },
  {
   "cell_type": "code",
   "execution_count": 3,
   "metadata": {},
   "outputs": [
    {
     "data": {
      "text/plain": [
       "array([1.2, 3.4, 5.6])"
      ]
     },
     "execution_count": 3,
     "metadata": {},
     "output_type": "execute_result"
    }
   ],
   "source": [
    "# create an array of floating type elements\n",
    "a = np.array([1.2, 3.4, 5.6])\n",
    "a"
   ]
  },
  {
   "cell_type": "code",
   "execution_count": 4,
   "metadata": {},
   "outputs": [
    {
     "data": {
      "text/plain": [
       "numpy.ndarray"
      ]
     },
     "execution_count": 4,
     "metadata": {},
     "output_type": "execute_result"
    }
   ],
   "source": [
    "# check the type of the newly created object\n",
    "type(a)"
   ]
  },
  {
   "cell_type": "code",
   "execution_count": 5,
   "metadata": {},
   "outputs": [
    {
     "data": {
      "text/plain": [
       "numpy.ndarray"
      ]
     },
     "execution_count": 5,
     "metadata": {},
     "output_type": "execute_result"
    }
   ],
   "source": [
    "# use the type function to check the type\n",
    "type(array_1)"
   ]
  },
  {
   "cell_type": "code",
   "execution_count": 6,
   "metadata": {},
   "outputs": [
    {
     "data": {
      "text/plain": [
       "list"
      ]
     },
     "execution_count": 6,
     "metadata": {},
     "output_type": "execute_result"
    }
   ],
   "source": [
    "# use the type function on list_1\n",
    "type(list_1)"
   ]
  },
  {
   "cell_type": "code",
   "execution_count": 8,
   "metadata": {},
   "outputs": [
    {
     "data": {
      "text/plain": [
       "array([('MMM', 100), ('AOS', 101), ('ABT', 102), ('ABBV', 103),\n",
       "       ('ACN', 104), ('ATVI', 105), ('AYI', 106), ('ADBE', 107),\n",
       "       ('AAP', 108), ('AMD', 109), ('AES', 110), ('AET', 111),\n",
       "       ('AMG', 112), ('AFL', 113), ('A', 114), ('APD', 115),\n",
       "       ('AKAM', 116), ('ALK', 117), ('ALB', 118), ('ARE', 119),\n",
       "       ('ALXN', 120), ('ALGN', 121), ('ALLE', 122), ('AGN', 123),\n",
       "       ('ADS', 124), ('LNT', 125), ('ALL', 126), ('GOOGL', 127),\n",
       "       ('GOOG', 128), ('MO', 129), ('AMZN', 130), ('AEE', 131),\n",
       "       ('AAL', 132), ('AEP', 133), ('AXP', 134), ('AIG', 135),\n",
       "       ('AMT', 136), ('AWK', 137), ('AMP', 138), ('ABC', 139),\n",
       "       ('AME', 140), ('AMGN', 141), ('APH', 142), ('APC', 143),\n",
       "       ('ADI', 144), ('ANDV', 145), ('ANSS', 146), ('ANTM', 147),\n",
       "       ('AON', 148)], dtype=[('Symbol', '<U5'), ('Price', '<i4')])"
      ]
     },
     "execution_count": 8,
     "metadata": {},
     "output_type": "execute_result"
    }
   ],
   "source": [
    "# read a .csv file as a NumPy array using the genfromtxt function built-in to NumPy\n",
    "data = np.genfromtxt('./datasets/stock.csv', \\\n",
    "                    delimiter=',',names=True,dtype=None, \\\n",
    "                    encoding='ascii')\n",
    "data"
   ]
  },
  {
   "cell_type": "code",
   "execution_count": 9,
   "metadata": {},
   "outputs": [
    {
     "data": {
      "text/plain": [
       "numpy.ndarray"
      ]
     },
     "execution_count": 9,
     "metadata": {},
     "output_type": "execute_result"
    }
   ],
   "source": [
    "# use the type function to check data\n",
    "type(data)"
   ]
  },
  {
   "cell_type": "markdown",
   "metadata": {},
   "source": [
    "## Exercise 3.02: Adding Two NumPy Arrays"
   ]
  },
  {
   "cell_type": "code",
   "execution_count": 10,
   "metadata": {},
   "outputs": [],
   "source": [
    "# declare a Python list\n",
    "list_1 = [1,2,3]\n",
    "# create an array from list_1\n",
    "array_1 = np.array(list_1)"
   ]
  },
  {
   "cell_type": "code",
   "execution_count": 11,
   "metadata": {},
   "outputs": [
    {
     "data": {
      "text/plain": [
       "[1, 2, 3, 1, 2, 3]"
      ]
     },
     "execution_count": 11,
     "metadata": {},
     "output_type": "execute_result"
    }
   ],
   "source": [
    "# use the `+` to concatenate two list_1 objects and save to a new variable\n",
    "list_2 = list_1 + list_1\n",
    "list_2"
   ]
  },
  {
   "cell_type": "code",
   "execution_count": 12,
   "metadata": {},
   "outputs": [
    {
     "data": {
      "text/plain": [
       "array([2, 4, 6])"
      ]
     },
     "execution_count": 12,
     "metadata": {},
     "output_type": "execute_result"
    }
   ],
   "source": [
    "# use the `+` to concatenate two array_1 objects and save to a new variable\n",
    "array_2 = array_1 + array_1\n",
    "array_2"
   ]
  },
  {
   "cell_type": "code",
   "execution_count": 15,
   "metadata": {},
   "outputs": [
    {
     "data": {
      "text/plain": [
       "array([202., 204., 206., 208., 210., 212., 214., 216., 218., 220., 222.,\n",
       "       224., 226., 228., 230., 232., 234., 236., 238., 240., 242., 244.,\n",
       "       246., 248., 250., 252., 254., 256., 258., 260., 262., 264., 266.,\n",
       "       268., 270., 272., 274., 276., 278., 280., 282., 284., 286., 288.,\n",
       "       290., 292., 294., 296.])"
      ]
     },
     "execution_count": 15,
     "metadata": {},
     "output_type": "execute_result"
    }
   ],
   "source": [
    "# load a .csv file and concatenate it with itself\n",
    "data = np.genfromtxt('./datasets/numbers.csv', \\\n",
    "                    delimiter=',', names=True)\n",
    "data = data.astype('float64')\n",
    "data + data"
   ]
  },
  {
   "cell_type": "markdown",
   "metadata": {},
   "source": [
    "## Exercise 3.03: Mathematical Operations on NumPy Arrays"
   ]
  },
  {
   "cell_type": "code",
   "execution_count": 17,
   "metadata": {},
   "outputs": [
    {
     "data": {
      "text/plain": [
       "array([101., 102., 103., 104., 105., 106., 107., 108., 109., 110., 111.,\n",
       "       112., 113., 114., 115., 116., 117., 118., 119., 120., 121., 122.,\n",
       "       123., 124., 125., 126., 127., 128., 129., 130., 131., 132., 133.,\n",
       "       134., 135., 136., 137., 138., 139., 140., 141., 142., 143., 144.,\n",
       "       145., 146., 147., 148.])"
      ]
     },
     "execution_count": 17,
     "metadata": {},
     "output_type": "execute_result"
    }
   ],
   "source": [
    "# create a NumPy array from the .csv file\n",
    "data = np.genfromtxt('./datasets/numbers.csv', \\\n",
    "                    delimiter=',', names=True)\n",
    "data = data.astype('float64')\n",
    "data"
   ]
  },
  {
   "cell_type": "code",
   "execution_count": 18,
   "metadata": {},
   "outputs": [
    {
     "data": {
      "text/plain": [
       "array([4545., 4590., 4635., 4680., 4725., 4770., 4815., 4860., 4905.,\n",
       "       4950., 4995., 5040., 5085., 5130., 5175., 5220., 5265., 5310.,\n",
       "       5355., 5400., 5445., 5490., 5535., 5580., 5625., 5670., 5715.,\n",
       "       5760., 5805., 5850., 5895., 5940., 5985., 6030., 6075., 6120.,\n",
       "       6165., 6210., 6255., 6300., 6345., 6390., 6435., 6480., 6525.,\n",
       "       6570., 6615., 6660.])"
      ]
     },
     "execution_count": 18,
     "metadata": {},
     "output_type": "execute_result"
    }
   ],
   "source": [
    "# multiply 45 by every element in the array\n",
    "data * 45"
   ]
  },
  {
   "cell_type": "code",
   "execution_count": 19,
   "metadata": {},
   "outputs": [
    {
     "data": {
      "text/plain": [
       "array([1.49187592, 1.50664697, 1.52141802, 1.53618907, 1.55096012,\n",
       "       1.56573117, 1.58050222, 1.59527326, 1.61004431, 1.62481536,\n",
       "       1.63958641, 1.65435746, 1.66912851, 1.68389956, 1.69867061,\n",
       "       1.71344165, 1.7282127 , 1.74298375, 1.7577548 , 1.77252585,\n",
       "       1.7872969 , 1.80206795, 1.816839  , 1.83161004, 1.84638109,\n",
       "       1.86115214, 1.87592319, 1.89069424, 1.90546529, 1.92023634,\n",
       "       1.93500739, 1.94977843, 1.96454948, 1.97932053, 1.99409158,\n",
       "       2.00886263, 2.02363368, 2.03840473, 2.05317578, 2.06794682,\n",
       "       2.08271787, 2.09748892, 2.11225997, 2.12703102, 2.14180207,\n",
       "       2.15657312, 2.17134417, 2.18611521])"
      ]
     },
     "execution_count": 19,
     "metadata": {},
     "output_type": "execute_result"
    }
   ],
   "source": [
    "# divide the array by 67.7\n",
    "data / 67.7"
   ]
  },
  {
   "cell_type": "code",
   "execution_count": 20,
   "metadata": {},
   "outputs": [
    {
     "name": "stdout",
     "output_type": "stream",
     "text": [
      "array_1 raised to the power of array_1:  [ 1  4 27]\n"
     ]
    }
   ],
   "source": [
    "# raise one array to the second array's power\n",
    "list_1 = [1,2,3]\n",
    "array_1 = np.array(list_1)\n",
    "print(\"array_1 raised to the power of array_1: \", \\\n",
    "     array_1**array_1)"
   ]
  },
  {
   "cell_type": "markdown",
   "metadata": {},
   "source": [
    "## Exercise 3.04: Advanced Mathematical Operations on NumPy Arrays"
   ]
  },
  {
   "cell_type": "code",
   "execution_count": 21,
   "metadata": {},
   "outputs": [
    {
     "data": {
      "text/plain": [
       "[[101],\n",
       " [102],\n",
       " [103],\n",
       " [104],\n",
       " [105],\n",
       " [106],\n",
       " [107],\n",
       " [108],\n",
       " [109],\n",
       " [110],\n",
       " [111],\n",
       " [112],\n",
       " [113],\n",
       " [114],\n",
       " [115],\n",
       " [116],\n",
       " [117],\n",
       " [118],\n",
       " [119],\n",
       " [120],\n",
       " [121],\n",
       " [122],\n",
       " [123],\n",
       " [124],\n",
       " [125],\n",
       " [126],\n",
       " [127],\n",
       " [128],\n",
       " [129],\n",
       " [130],\n",
       " [131],\n",
       " [132],\n",
       " [133],\n",
       " [134],\n",
       " [135],\n",
       " [136],\n",
       " [137],\n",
       " [138],\n",
       " [139],\n",
       " [140],\n",
       " [141],\n",
       " [142],\n",
       " [143],\n",
       " [144],\n",
       " [145],\n",
       " [146],\n",
       " [147],\n",
       " [148]]"
      ]
     },
     "execution_count": 21,
     "metadata": {},
     "output_type": "execute_result"
    }
   ],
   "source": [
    "# import pandas\n",
    "import pandas as pd\n",
    "df = pd.read_csv(\"./datasets/numbers.csv\")\n",
    "list_5 = df.values.tolist()\n",
    "list_5"
   ]
  },
  {
   "cell_type": "code",
   "execution_count": 22,
   "metadata": {},
   "outputs": [
    {
     "data": {
      "text/plain": [
       "array([[101],\n",
       "       [102],\n",
       "       [103],\n",
       "       [104],\n",
       "       [105],\n",
       "       [106],\n",
       "       [107],\n",
       "       [108],\n",
       "       [109],\n",
       "       [110],\n",
       "       [111],\n",
       "       [112],\n",
       "       [113],\n",
       "       [114],\n",
       "       [115],\n",
       "       [116],\n",
       "       [117],\n",
       "       [118],\n",
       "       [119],\n",
       "       [120],\n",
       "       [121],\n",
       "       [122],\n",
       "       [123],\n",
       "       [124],\n",
       "       [125],\n",
       "       [126],\n",
       "       [127],\n",
       "       [128],\n",
       "       [129],\n",
       "       [130],\n",
       "       [131],\n",
       "       [132],\n",
       "       [133],\n",
       "       [134],\n",
       "       [135],\n",
       "       [136],\n",
       "       [137],\n",
       "       [138],\n",
       "       [139],\n",
       "       [140],\n",
       "       [141],\n",
       "       [142],\n",
       "       [143],\n",
       "       [144],\n",
       "       [145],\n",
       "       [146],\n",
       "       [147],\n",
       "       [148]])"
      ]
     },
     "execution_count": 22,
     "metadata": {},
     "output_type": "execute_result"
    }
   ],
   "source": [
    "# convert the list into a NumPy array\n",
    "array_5 = np.array(list_5)\n",
    "array_5"
   ]
  },
  {
   "cell_type": "code",
   "execution_count": 23,
   "metadata": {},
   "outputs": [
    {
     "data": {
      "text/plain": [
       "array([[ 0.45202579],\n",
       "       [ 0.99482679],\n",
       "       [ 0.62298863],\n",
       "       [-0.3216224 ],\n",
       "       [-0.97053528],\n",
       "       [-0.7271425 ],\n",
       "       [ 0.18478174],\n",
       "       [ 0.92681851],\n",
       "       [ 0.81674261],\n",
       "       [-0.04424268],\n",
       "       [-0.86455145],\n",
       "       [-0.8899956 ],\n",
       "       [-0.09718191],\n",
       "       [ 0.78498039],\n",
       "       [ 0.94543533],\n",
       "       [ 0.23666139],\n",
       "       [-0.68969794],\n",
       "       [-0.98195217],\n",
       "       [-0.3714041 ],\n",
       "       [ 0.58061118],\n",
       "       [ 0.99881522],\n",
       "       [ 0.49871315],\n",
       "       [-0.45990349],\n",
       "       [-0.99568699],\n",
       "       [-0.61604046],\n",
       "       [ 0.32999083],\n",
       "       [ 0.97263007],\n",
       "       [ 0.72103771],\n",
       "       [-0.19347339],\n",
       "       [-0.93010595],\n",
       "       [-0.81160339],\n",
       "       [ 0.05308359],\n",
       "       [ 0.86896576],\n",
       "       [ 0.88592482],\n",
       "       [ 0.08836869],\n",
       "       [-0.79043321],\n",
       "       [-0.94251445],\n",
       "       [-0.22805226],\n",
       "       [ 0.69608013],\n",
       "       [ 0.98023966],\n",
       "       [ 0.36317137],\n",
       "       [-0.58779501],\n",
       "       [-0.99834536],\n",
       "       [-0.49102159],\n",
       "       [ 0.46774516],\n",
       "       [ 0.99646917],\n",
       "       [ 0.60904402],\n",
       "       [-0.33833339]])"
      ]
     },
     "execution_count": 23,
     "metadata": {},
     "output_type": "execute_result"
    }
   ],
   "source": [
    "# sine function\n",
    "np.sin(array_5)"
   ]
  },
  {
   "cell_type": "code",
   "execution_count": 24,
   "metadata": {},
   "outputs": [
    {
     "data": {
      "text/plain": [
       "array([[4.61512052],\n",
       "       [4.62497281],\n",
       "       [4.63472899],\n",
       "       [4.6443909 ],\n",
       "       [4.65396035],\n",
       "       [4.66343909],\n",
       "       [4.67282883],\n",
       "       [4.68213123],\n",
       "       [4.69134788],\n",
       "       [4.70048037],\n",
       "       [4.7095302 ],\n",
       "       [4.71849887],\n",
       "       [4.72738782],\n",
       "       [4.73619845],\n",
       "       [4.74493213],\n",
       "       [4.75359019],\n",
       "       [4.76217393],\n",
       "       [4.77068462],\n",
       "       [4.77912349],\n",
       "       [4.78749174],\n",
       "       [4.79579055],\n",
       "       [4.80402104],\n",
       "       [4.81218436],\n",
       "       [4.82028157],\n",
       "       [4.82831374],\n",
       "       [4.83628191],\n",
       "       [4.84418709],\n",
       "       [4.85203026],\n",
       "       [4.8598124 ],\n",
       "       [4.86753445],\n",
       "       [4.87519732],\n",
       "       [4.88280192],\n",
       "       [4.89034913],\n",
       "       [4.8978398 ],\n",
       "       [4.90527478],\n",
       "       [4.91265489],\n",
       "       [4.91998093],\n",
       "       [4.92725369],\n",
       "       [4.93447393],\n",
       "       [4.94164242],\n",
       "       [4.94875989],\n",
       "       [4.95582706],\n",
       "       [4.96284463],\n",
       "       [4.9698133 ],\n",
       "       [4.97673374],\n",
       "       [4.98360662],\n",
       "       [4.99043259],\n",
       "       [4.99721227]])"
      ]
     },
     "execution_count": 24,
     "metadata": {},
     "output_type": "execute_result"
    }
   ],
   "source": [
    "# find the logarithmic value of the array\n",
    "np.log(array_5)"
   ]
  },
  {
   "cell_type": "markdown",
   "metadata": {},
   "source": [
    "## Exercise 3.05: Generating Arrays Using arange and linspace Methods"
   ]
  },
  {
   "cell_type": "code",
   "execution_count": 25,
   "metadata": {},
   "outputs": [
    {
     "data": {
      "text/plain": [
       "array([ 5,  6,  7,  8,  9, 10, 11, 12, 13, 14, 15])"
      ]
     },
     "execution_count": 25,
     "metadata": {},
     "output_type": "execute_result"
    }
   ],
   "source": [
    "# create a series of numbers using arange\n",
    "np.arange(5, 16)"
   ]
  },
  {
   "cell_type": "code",
   "execution_count": 27,
   "metadata": {},
   "outputs": [
    {
     "name": "stdout",
     "output_type": "stream",
     "text": [
      "Numbers spaced apart by 2:  [ 0  2  4  6  8 10]\n",
      "Numbers spaced apart by a floating point number:  [ 0.   2.5  5.   7.5 10. ]\n",
      "Every 5th number from 30 in reverse order\n",
      " [30 25 20 15 10  5  0]\n"
     ]
    }
   ],
   "source": [
    "# print numbers using the arange function\n",
    "print(\"Numbers spaced apart by 2: \", \\\n",
    "     np.arange(0,11,2))\n",
    "print(\"Numbers spaced apart by a floating point number: \",\\\n",
    "     np.arange(0,11,2.5))\n",
    "print(\"Every 5th number from 30 in reverse order\\n\",\\\n",
    "     np.arange(30,-1,-5))"
   ]
  },
  {
   "cell_type": "code",
   "execution_count": 28,
   "metadata": {},
   "outputs": [
    {
     "name": "stdout",
     "output_type": "stream",
     "text": [
      "11 linearly spaced numbers between 1 and 5:  [1.  1.4 1.8 2.2 2.6 3.  3.4 3.8 4.2 4.6 5. ]\n"
     ]
    }
   ],
   "source": [
    "# use the linspace method for linearly spaced numbers\n",
    "print(\"11 linearly spaced numbers between 1 and 5: \", \\\n",
    "     np.linspace(1,5,11))"
   ]
  },
  {
   "cell_type": "markdown",
   "metadata": {},
   "source": [
    "## Exercise 3.06: Creating Multi-Dimensional Arrays"
   ]
  },
  {
   "cell_type": "code",
   "execution_count": 29,
   "metadata": {},
   "outputs": [
    {
     "name": "stdout",
     "output_type": "stream",
     "text": [
      "Type/Class of this object: <class 'numpy.ndarray'>\n",
      "Here is the matrix\n",
      "----------\n",
      " [[1 2 3]\n",
      " [4 5 6]\n",
      " [7 8 9]] \n",
      "----------\n"
     ]
    }
   ],
   "source": [
    "# load the numbers2.csv \n",
    "# convert it to a two-dimensional NumPy array\n",
    "df = pd.read_csv(\"./datasets/numbers2.csv\",\\\n",
    "                header=None)\n",
    "list_2D = df.values\n",
    "mat1 = np.array(list_2D)\n",
    "print(\"Type/Class of this object:\",\\\n",
    "     type(mat1))\n",
    "print(\"Here is the matrix\\n----------\\n\", \\\n",
    "     mat1, \"\\n----------\")"
   ]
  },
  {
   "cell_type": "code",
   "execution_count": 30,
   "metadata": {},
   "outputs": [
    {
     "name": "stdout",
     "output_type": "stream",
     "text": [
      "[[1.5 2.  3. ]\n",
      " [4.  5.  6. ]]\n"
     ]
    }
   ],
   "source": [
    "# tupels can be converted into multi-dimensional arrays\n",
    "tuple_2D = np.array([(1.5,2,3), (4,5,6)])\n",
    "mat_tuple = np.array(tuple_2D)\n",
    "print(mat_tuple)"
   ]
  },
  {
   "cell_type": "markdown",
   "metadata": {},
   "source": [
    "## Exercise 3.07: The Dimension, Shape, Size and Data Type of Two-dimensional Arrays"
   ]
  },
  {
   "cell_type": "code",
   "execution_count": 31,
   "metadata": {},
   "outputs": [
    {
     "name": "stdout",
     "output_type": "stream",
     "text": [
      "Dimension of this matrix: 2\n"
     ]
    }
   ],
   "source": [
    "# print the dimension of the matrix using the ndim function\n",
    "print(\"Dimension of this matrix: \", mat1.ndim,sep='')"
   ]
  },
  {
   "cell_type": "code",
   "execution_count": 32,
   "metadata": {},
   "outputs": [
    {
     "name": "stdout",
     "output_type": "stream",
     "text": [
      "Size of this matrix: 9\n"
     ]
    }
   ],
   "source": [
    "# print the size of the matrix\n",
    "print(\"Size of this matrix: \", mat1.size,sep='')"
   ]
  },
  {
   "cell_type": "code",
   "execution_count": 33,
   "metadata": {},
   "outputs": [
    {
     "name": "stdout",
     "output_type": "stream",
     "text": [
      "Shape of this matrix: (3, 3)\n"
     ]
    }
   ],
   "source": [
    "# print the shape of the matrix\n",
    "print(\"Shape of this matrix: \", mat1.shape,sep='')"
   ]
  },
  {
   "cell_type": "code",
   "execution_count": 34,
   "metadata": {},
   "outputs": [
    {
     "name": "stdout",
     "output_type": "stream",
     "text": [
      "Data type of this matrix: int64\n"
     ]
    }
   ],
   "source": [
    "# print the dimension \n",
    "print(\"Data type of this matrix: \", mat1.dtype,sep='')"
   ]
  },
  {
   "cell_type": "markdown",
   "metadata": {},
   "source": [
    "## Exercise 3.08: Zeros, Ones, Random, Identity Matrices, and Vectors"
   ]
  },
  {
   "cell_type": "code",
   "execution_count": 35,
   "metadata": {},
   "outputs": [
    {
     "name": "stdout",
     "output_type": "stream",
     "text": [
      "Vector of zeros:  [0. 0. 0. 0. 0.]\n"
     ]
    }
   ],
   "source": [
    "# print the vector of zeros\n",
    "print(\"Vector of zeros: \", np.zeros(5))"
   ]
  },
  {
   "cell_type": "code",
   "execution_count": 37,
   "metadata": {},
   "outputs": [
    {
     "name": "stdout",
     "output_type": "stream",
     "text": [
      "Matrix of zeros:  [[0. 0. 0. 0.]\n",
      " [0. 0. 0. 0.]\n",
      " [0. 0. 0. 0.]]\n"
     ]
    }
   ],
   "source": [
    "# print the matrix of zeros \n",
    "print(\"Matrix of zeros: \", np.zeros((3,4)))"
   ]
  },
  {
   "cell_type": "code",
   "execution_count": 38,
   "metadata": {},
   "outputs": [
    {
     "name": "stdout",
     "output_type": "stream",
     "text": [
      "Matrix of 5's:  [[5. 5. 5.]\n",
      " [5. 5. 5.]\n",
      " [5. 5. 5.]]\n"
     ]
    }
   ],
   "source": [
    "# print the matrix of fives\n",
    "print(\"Matrix of 5's: \", 5*np.ones((3,3)))"
   ]
  },
  {
   "cell_type": "code",
   "execution_count": 39,
   "metadata": {},
   "outputs": [
    {
     "name": "stdout",
     "output_type": "stream",
     "text": [
      "Identity matrix of dimension 2:  [[1. 0.]\n",
      " [0. 1.]]\n"
     ]
    }
   ],
   "source": [
    "# print an identity matrix\n",
    "print(\"Identity matrix of dimension 2: \", np.eye(2))"
   ]
  },
  {
   "cell_type": "code",
   "execution_count": 40,
   "metadata": {},
   "outputs": [
    {
     "name": "stdout",
     "output_type": "stream",
     "text": [
      "Identity matrix of dimension 4:  [[1. 0. 0. 0.]\n",
      " [0. 1. 0. 0.]\n",
      " [0. 0. 1. 0.]\n",
      " [0. 0. 0. 1.]]\n"
     ]
    }
   ],
   "source": [
    "# print an identity matrix with a dimension of 4x4\n",
    "print(\"Identity matrix of dimension 4: \", np.eye(4))"
   ]
  },
  {
   "cell_type": "code",
   "execution_count": 42,
   "metadata": {},
   "outputs": [
    {
     "name": "stdout",
     "output_type": "stream",
     "text": [
      "Random matrix shape(4,3):\n",
      " [[1 4 9]\n",
      " [9 7 7]\n",
      " [1 1 1]\n",
      " [6 2 2]]\n"
     ]
    }
   ],
   "source": [
    "# print a matrix of random shape \n",
    "print(\"Random matrix shape(4,3):\\n\", \\\n",
    "     np.random.randint(low=1,high=10,size=(4,3)))"
   ]
  },
  {
   "cell_type": "code",
   "execution_count": null,
   "metadata": {},
   "outputs": [],
   "source": []
  }
 ],
 "metadata": {
  "kernelspec": {
   "display_name": "Python 3",
   "language": "python",
   "name": "python3"
  },
  "language_info": {
   "codemirror_mode": {
    "name": "ipython",
    "version": 3
   },
   "file_extension": ".py",
   "mimetype": "text/x-python",
   "name": "python",
   "nbconvert_exporter": "python",
   "pygments_lexer": "ipython3",
   "version": "3.8.5"
  }
 },
 "nbformat": 4,
 "nbformat_minor": 4
}
