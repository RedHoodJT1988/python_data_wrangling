{
 "cells": [
  {
   "cell_type": "markdown",
   "metadata": {},
   "source": [
    "# NumPy Arrays "
   ]
  },
  {
   "cell_type": "markdown",
   "metadata": {},
   "source": [
    "## Exercise 3.01: Creating a NumPy Array (from a List)"
   ]
  },
  {
   "cell_type": "code",
   "execution_count": 1,
   "metadata": {},
   "outputs": [
    {
     "data": {
      "text/plain": [
       "[1, 2, 3]"
      ]
     },
     "execution_count": 1,
     "metadata": {},
     "output_type": "execute_result"
    }
   ],
   "source": [
    "# import NumPy\n",
    "import numpy as np\n",
    "\n",
    "# create a list with three elements\n",
    "list_1 = [1,2,3]\n",
    "list_1"
   ]
  },
  {
   "cell_type": "code",
   "execution_count": 2,
   "metadata": {},
   "outputs": [
    {
     "data": {
      "text/plain": [
       "array([1, 2, 3])"
      ]
     },
     "execution_count": 2,
     "metadata": {},
     "output_type": "execute_result"
    }
   ],
   "source": [
    "# use the array function to convert it to an array\n",
    "array_1 = np.array(list_1)\n",
    "array_1"
   ]
  },
  {
   "cell_type": "code",
   "execution_count": 3,
   "metadata": {},
   "outputs": [
    {
     "data": {
      "text/plain": [
       "array([1.2, 3.4, 5.6])"
      ]
     },
     "execution_count": 3,
     "metadata": {},
     "output_type": "execute_result"
    }
   ],
   "source": [
    "# create an array of floating type elements\n",
    "a = np.array([1.2, 3.4, 5.6])\n",
    "a"
   ]
  },
  {
   "cell_type": "code",
   "execution_count": 4,
   "metadata": {},
   "outputs": [
    {
     "data": {
      "text/plain": [
       "numpy.ndarray"
      ]
     },
     "execution_count": 4,
     "metadata": {},
     "output_type": "execute_result"
    }
   ],
   "source": [
    "# check the type of the newly created object\n",
    "type(a)"
   ]
  },
  {
   "cell_type": "code",
   "execution_count": 5,
   "metadata": {},
   "outputs": [
    {
     "data": {
      "text/plain": [
       "numpy.ndarray"
      ]
     },
     "execution_count": 5,
     "metadata": {},
     "output_type": "execute_result"
    }
   ],
   "source": [
    "# use the type function to check the type\n",
    "type(array_1)"
   ]
  },
  {
   "cell_type": "code",
   "execution_count": 6,
   "metadata": {},
   "outputs": [
    {
     "data": {
      "text/plain": [
       "list"
      ]
     },
     "execution_count": 6,
     "metadata": {},
     "output_type": "execute_result"
    }
   ],
   "source": [
    "# use the type function on list_1\n",
    "type(list_1)"
   ]
  },
  {
   "cell_type": "code",
   "execution_count": 8,
   "metadata": {},
   "outputs": [
    {
     "data": {
      "text/plain": [
       "array([('MMM', 100), ('AOS', 101), ('ABT', 102), ('ABBV', 103),\n",
       "       ('ACN', 104), ('ATVI', 105), ('AYI', 106), ('ADBE', 107),\n",
       "       ('AAP', 108), ('AMD', 109), ('AES', 110), ('AET', 111),\n",
       "       ('AMG', 112), ('AFL', 113), ('A', 114), ('APD', 115),\n",
       "       ('AKAM', 116), ('ALK', 117), ('ALB', 118), ('ARE', 119),\n",
       "       ('ALXN', 120), ('ALGN', 121), ('ALLE', 122), ('AGN', 123),\n",
       "       ('ADS', 124), ('LNT', 125), ('ALL', 126), ('GOOGL', 127),\n",
       "       ('GOOG', 128), ('MO', 129), ('AMZN', 130), ('AEE', 131),\n",
       "       ('AAL', 132), ('AEP', 133), ('AXP', 134), ('AIG', 135),\n",
       "       ('AMT', 136), ('AWK', 137), ('AMP', 138), ('ABC', 139),\n",
       "       ('AME', 140), ('AMGN', 141), ('APH', 142), ('APC', 143),\n",
       "       ('ADI', 144), ('ANDV', 145), ('ANSS', 146), ('ANTM', 147),\n",
       "       ('AON', 148)], dtype=[('Symbol', '<U5'), ('Price', '<i4')])"
      ]
     },
     "execution_count": 8,
     "metadata": {},
     "output_type": "execute_result"
    }
   ],
   "source": [
    "# read a .csv file as a NumPy array using the genfromtxt function built-in to NumPy\n",
    "data = np.genfromtxt('./datasets/stock.csv', \\\n",
    "                    delimiter=',',names=True,dtype=None, \\\n",
    "                    encoding='ascii')\n",
    "data"
   ]
  },
  {
   "cell_type": "code",
   "execution_count": 9,
   "metadata": {},
   "outputs": [
    {
     "data": {
      "text/plain": [
       "numpy.ndarray"
      ]
     },
     "execution_count": 9,
     "metadata": {},
     "output_type": "execute_result"
    }
   ],
   "source": [
    "# use the type function to check data\n",
    "type(data)"
   ]
  },
  {
   "cell_type": "markdown",
   "metadata": {},
   "source": [
    "## Exercise 3.02: Adding Two NumPy Arrays"
   ]
  },
  {
   "cell_type": "code",
   "execution_count": 10,
   "metadata": {},
   "outputs": [],
   "source": [
    "# declare a Python list\n",
    "list_1 = [1,2,3]\n",
    "# create an array from list_1\n",
    "array_1 = np.array(list_1)"
   ]
  },
  {
   "cell_type": "code",
   "execution_count": 11,
   "metadata": {},
   "outputs": [
    {
     "data": {
      "text/plain": [
       "[1, 2, 3, 1, 2, 3]"
      ]
     },
     "execution_count": 11,
     "metadata": {},
     "output_type": "execute_result"
    }
   ],
   "source": [
    "# use the `+` to concatenate two list_1 objects and save to a new variable\n",
    "list_2 = list_1 + list_1\n",
    "list_2"
   ]
  },
  {
   "cell_type": "code",
   "execution_count": 12,
   "metadata": {},
   "outputs": [
    {
     "data": {
      "text/plain": [
       "array([2, 4, 6])"
      ]
     },
     "execution_count": 12,
     "metadata": {},
     "output_type": "execute_result"
    }
   ],
   "source": [
    "# use the `+` to concatenate two array_1 objects and save to a new variable\n",
    "array_2 = array_1 + array_1\n",
    "array_2"
   ]
  },
  {
   "cell_type": "code",
   "execution_count": 15,
   "metadata": {},
   "outputs": [
    {
     "data": {
      "text/plain": [
       "array([202., 204., 206., 208., 210., 212., 214., 216., 218., 220., 222.,\n",
       "       224., 226., 228., 230., 232., 234., 236., 238., 240., 242., 244.,\n",
       "       246., 248., 250., 252., 254., 256., 258., 260., 262., 264., 266.,\n",
       "       268., 270., 272., 274., 276., 278., 280., 282., 284., 286., 288.,\n",
       "       290., 292., 294., 296.])"
      ]
     },
     "execution_count": 15,
     "metadata": {},
     "output_type": "execute_result"
    }
   ],
   "source": [
    "# load a .csv file and concatenate it with itself\n",
    "data = np.genfromtxt('./datasets/numbers.csv', \\\n",
    "                    delimiter=',', names=True)\n",
    "data = data.astype('float64')\n",
    "data + data"
   ]
  },
  {
   "cell_type": "markdown",
   "metadata": {},
   "source": [
    "## Exercise 3.03: Mathematical Operations on NumPy Arrays"
   ]
  },
  {
   "cell_type": "code",
   "execution_count": 17,
   "metadata": {},
   "outputs": [
    {
     "data": {
      "text/plain": [
       "array([101., 102., 103., 104., 105., 106., 107., 108., 109., 110., 111.,\n",
       "       112., 113., 114., 115., 116., 117., 118., 119., 120., 121., 122.,\n",
       "       123., 124., 125., 126., 127., 128., 129., 130., 131., 132., 133.,\n",
       "       134., 135., 136., 137., 138., 139., 140., 141., 142., 143., 144.,\n",
       "       145., 146., 147., 148.])"
      ]
     },
     "execution_count": 17,
     "metadata": {},
     "output_type": "execute_result"
    }
   ],
   "source": [
    "# create a NumPy array from the .csv file\n",
    "data = np.genfromtxt('./datasets/numbers.csv', \\\n",
    "                    delimiter=',', names=True)\n",
    "data = data.astype('float64')\n",
    "data"
   ]
  },
  {
   "cell_type": "code",
   "execution_count": 18,
   "metadata": {},
   "outputs": [
    {
     "data": {
      "text/plain": [
       "array([4545., 4590., 4635., 4680., 4725., 4770., 4815., 4860., 4905.,\n",
       "       4950., 4995., 5040., 5085., 5130., 5175., 5220., 5265., 5310.,\n",
       "       5355., 5400., 5445., 5490., 5535., 5580., 5625., 5670., 5715.,\n",
       "       5760., 5805., 5850., 5895., 5940., 5985., 6030., 6075., 6120.,\n",
       "       6165., 6210., 6255., 6300., 6345., 6390., 6435., 6480., 6525.,\n",
       "       6570., 6615., 6660.])"
      ]
     },
     "execution_count": 18,
     "metadata": {},
     "output_type": "execute_result"
    }
   ],
   "source": [
    "# multiply 45 by every element in the array\n",
    "data * 45"
   ]
  },
  {
   "cell_type": "code",
   "execution_count": 19,
   "metadata": {},
   "outputs": [
    {
     "data": {
      "text/plain": [
       "array([1.49187592, 1.50664697, 1.52141802, 1.53618907, 1.55096012,\n",
       "       1.56573117, 1.58050222, 1.59527326, 1.61004431, 1.62481536,\n",
       "       1.63958641, 1.65435746, 1.66912851, 1.68389956, 1.69867061,\n",
       "       1.71344165, 1.7282127 , 1.74298375, 1.7577548 , 1.77252585,\n",
       "       1.7872969 , 1.80206795, 1.816839  , 1.83161004, 1.84638109,\n",
       "       1.86115214, 1.87592319, 1.89069424, 1.90546529, 1.92023634,\n",
       "       1.93500739, 1.94977843, 1.96454948, 1.97932053, 1.99409158,\n",
       "       2.00886263, 2.02363368, 2.03840473, 2.05317578, 2.06794682,\n",
       "       2.08271787, 2.09748892, 2.11225997, 2.12703102, 2.14180207,\n",
       "       2.15657312, 2.17134417, 2.18611521])"
      ]
     },
     "execution_count": 19,
     "metadata": {},
     "output_type": "execute_result"
    }
   ],
   "source": [
    "# divide the array by 67.7\n",
    "data / 67.7"
   ]
  },
  {
   "cell_type": "code",
   "execution_count": 20,
   "metadata": {},
   "outputs": [
    {
     "name": "stdout",
     "output_type": "stream",
     "text": [
      "array_1 raised to the power of array_1:  [ 1  4 27]\n"
     ]
    }
   ],
   "source": [
    "# raise one array to the second array's power\n",
    "list_1 = [1,2,3]\n",
    "array_1 = np.array(list_1)\n",
    "print(\"array_1 raised to the power of array_1: \", \\\n",
    "     array_1**array_1)"
   ]
  },
  {
   "cell_type": "code",
   "execution_count": null,
   "metadata": {},
   "outputs": [],
   "source": []
  }
 ],
 "metadata": {
  "kernelspec": {
   "display_name": "Python 3",
   "language": "python",
   "name": "python3"
  },
  "language_info": {
   "codemirror_mode": {
    "name": "ipython",
    "version": 3
   },
   "file_extension": ".py",
   "mimetype": "text/x-python",
   "name": "python",
   "nbconvert_exporter": "python",
   "pygments_lexer": "ipython3",
   "version": "3.8.5"
  }
 },
 "nbformat": 4,
 "nbformat_minor": 4
}
