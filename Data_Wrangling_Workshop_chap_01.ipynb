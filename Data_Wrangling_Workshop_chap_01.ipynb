{
 "cells": [
  {
   "cell_type": "markdown",
   "metadata": {},
   "source": [
    "# Exercise 1.01: Accessing List Members"
   ]
  },
  {
   "cell_type": "code",
   "execution_count": 10,
   "metadata": {},
   "outputs": [
    {
     "name": "stdout",
     "output_type": "stream",
     "text": [
      "['218-68-9955', '165-73-3124', '432-47-4043', '563-93-1393', '153-93-3401', '670-09-7369', '123-05-9652', '812-13-2476', '726-13-1007', '825-05-4836']\n"
     ]
    }
   ],
   "source": [
    "import pandas as pd\n",
    "ssn = list(pd.read_csv(\"./ssn.csv\"))\n",
    "print(ssn)"
   ]
  },
  {
   "cell_type": "code",
   "execution_count": 11,
   "metadata": {},
   "outputs": [
    {
     "data": {
      "text/plain": [
       "'218-68-9955'"
      ]
     },
     "execution_count": 11,
     "metadata": {},
     "output_type": "execute_result"
    }
   ],
   "source": [
    "# Access the first element of ssn using its foward index:\n",
    "ssn[0]"
   ]
  },
  {
   "cell_type": "code",
   "execution_count": 12,
   "metadata": {},
   "outputs": [
    {
     "data": {
      "text/plain": [
       "'563-93-1393'"
      ]
     },
     "execution_count": 12,
     "metadata": {},
     "output_type": "execute_result"
    }
   ],
   "source": [
    "# Access the fourth element of ssn using its forward index:\n",
    "ssn[3]"
   ]
  },
  {
   "cell_type": "code",
   "execution_count": 13,
   "metadata": {},
   "outputs": [
    {
     "data": {
      "text/plain": [
       "'825-05-4836'"
      ]
     },
     "execution_count": 13,
     "metadata": {},
     "output_type": "execute_result"
    }
   ],
   "source": [
    "# Access the last element of ssn using the len function\n",
    "ssn[len(ssn) -1]"
   ]
  },
  {
   "cell_type": "code",
   "execution_count": 14,
   "metadata": {},
   "outputs": [
    {
     "data": {
      "text/plain": [
       "'825-05-4836'"
      ]
     },
     "execution_count": 14,
     "metadata": {},
     "output_type": "execute_result"
    }
   ],
   "source": [
    "# Access the last element of ssn using its backward index:\n",
    "ssn[-1]"
   ]
  },
  {
   "cell_type": "code",
   "execution_count": 15,
   "metadata": {},
   "outputs": [
    {
     "data": {
      "text/plain": [
       "['165-73-3124', '432-47-4043']"
      ]
     },
     "execution_count": 15,
     "metadata": {},
     "output_type": "execute_result"
    }
   ],
   "source": [
    "# Access the first three elements of ssn using forward indices:\n",
    "ssn[1:3]"
   ]
  },
  {
   "cell_type": "code",
   "execution_count": 16,
   "metadata": {},
   "outputs": [
    {
     "data": {
      "text/plain": [
       "['726-13-1007', '825-05-4836']"
      ]
     },
     "execution_count": 16,
     "metadata": {},
     "output_type": "execute_result"
    }
   ],
   "source": [
    "# Access the last two elements of ssn by slicing:\n",
    "ssn[-2:]"
   ]
  },
  {
   "cell_type": "code",
   "execution_count": 17,
   "metadata": {},
   "outputs": [
    {
     "data": {
      "text/plain": [
       "['218-68-9955',\n",
       " '165-73-3124',\n",
       " '432-47-4043',\n",
       " '563-93-1393',\n",
       " '153-93-3401',\n",
       " '670-09-7369',\n",
       " '123-05-9652',\n",
       " '812-13-2476']"
      ]
     },
     "execution_count": 17,
     "metadata": {},
     "output_type": "execute_result"
    }
   ],
   "source": [
    "# Access the first two elements using backward indices:\n",
    "ssn[:-2]"
   ]
  },
  {
   "cell_type": "code",
   "execution_count": 18,
   "metadata": {},
   "outputs": [
    {
     "data": {
      "text/plain": [
       "['825-05-4836',\n",
       " '726-13-1007',\n",
       " '812-13-2476',\n",
       " '123-05-9652',\n",
       " '670-09-7369',\n",
       " '153-93-3401',\n",
       " '563-93-1393',\n",
       " '432-47-4043',\n",
       " '165-73-3124',\n",
       " '218-68-9955']"
      ]
     },
     "execution_count": 18,
     "metadata": {},
     "output_type": "execute_result"
    }
   ],
   "source": [
    "# Reverse the elements in the list:\n",
    "ssn[-1::-1]"
   ]
  },
  {
   "cell_type": "markdown",
   "metadata": {},
   "source": [
    "# Exercise 1.02: Generating and Iterating through a List"
   ]
  },
  {
   "cell_type": "code",
   "execution_count": 19,
   "metadata": {},
   "outputs": [
    {
     "data": {
      "text/plain": [
       "['218-68-9955',\n",
       " '165-73-3124',\n",
       " '432-47-4043',\n",
       " '563-93-1393',\n",
       " '153-93-3401',\n",
       " '670-09-7369',\n",
       " '123-05-9652',\n",
       " '812-13-2476',\n",
       " '726-13-1007',\n",
       " '825-05-4836']"
      ]
     },
     "execution_count": 19,
     "metadata": {},
     "output_type": "execute_result"
    }
   ],
   "source": [
    "# Create a list using the append method\n",
    "ssn_2 = []\n",
    "for x in ssn:\n",
    "    ssn_2.append(x)\n",
    "ssn_2"
   ]
  },
  {
   "cell_type": "code",
   "execution_count": 20,
   "metadata": {},
   "outputs": [
    {
     "data": {
      "text/plain": [
       "['soc: 218-68-9955',\n",
       " 'soc: 165-73-3124',\n",
       " 'soc: 432-47-4043',\n",
       " 'soc: 563-93-1393',\n",
       " 'soc: 153-93-3401',\n",
       " 'soc: 670-09-7369',\n",
       " 'soc: 123-05-9652',\n",
       " 'soc: 812-13-2476',\n",
       " 'soc: 726-13-1007',\n",
       " 'soc: 825-05-4836']"
      ]
     },
     "execution_count": 20,
     "metadata": {},
     "output_type": "execute_result"
    }
   ],
   "source": [
    "# Generate a list using list comprehension\n",
    "ssn_3 = [\"soc: \" + x for x in ssn_2]\n",
    "ssn_3"
   ]
  },
  {
   "cell_type": "code",
   "execution_count": 21,
   "metadata": {},
   "outputs": [
    {
     "name": "stdout",
     "output_type": "stream",
     "text": [
      "soc: 218-68-9955\n",
      "soc: 165-73-3124\n",
      "soc: 432-47-4043\n",
      "soc: 563-93-1393\n",
      "soc: 153-93-3401\n",
      "soc: 670-09-7369\n",
      "soc: 123-05-9652\n",
      "soc: 812-13-2476\n",
      "soc: 726-13-1007\n",
      "soc: 825-05-4836\n"
     ]
    }
   ],
   "source": [
    "# Using a while loop\n",
    "i = 0\n",
    "while i < len(ssn_3):\n",
    "    print(ssn_3[i])\n",
    "    i += 1"
   ]
  },
  {
   "cell_type": "code",
   "execution_count": 22,
   "metadata": {},
   "outputs": [
    {
     "data": {
      "text/plain": [
       "['soc: 218-68-9955',\n",
       " 'soc: 165-73-3124',\n",
       " 'soc: 563-93-1393',\n",
       " 'soc: 153-93-3401',\n",
       " 'soc: 123-05-9652',\n",
       " 'soc: 825-05-4836']"
      ]
     },
     "execution_count": 22,
     "metadata": {},
     "output_type": "execute_result"
    }
   ],
   "source": [
    "# Search all ssn with the number 5 in them\n",
    "numbers = [x for x in ssn_3 if \"5\" in x]\n",
    "numbers"
   ]
  },
  {
   "cell_type": "code",
   "execution_count": 23,
   "metadata": {},
   "outputs": [
    {
     "data": {
      "text/plain": [
       "['102-90-0314',\n",
       " '247-17-2338',\n",
       " '318-22-2760',\n",
       " '218-68-9955',\n",
       " '165-73-3124',\n",
       " '432-47-4043',\n",
       " '563-93-1393',\n",
       " '153-93-3401',\n",
       " '670-09-7369',\n",
       " '123-05-9652',\n",
       " '812-13-2476',\n",
       " '726-13-1007',\n",
       " '825-05-4836']"
      ]
     },
     "execution_count": 23,
     "metadata": {},
     "output_type": "execute_result"
    }
   ],
   "source": [
    "# using the `+` operator to add contents of two lists\n",
    "ssn_4 = [\"102-90-0314\", \"247-17-2338\", \"318-22-2760\"]\n",
    "ssn_5 = ssn_4 + ssn\n",
    "ssn_5"
   ]
  },
  {
   "cell_type": "code",
   "execution_count": 24,
   "metadata": {},
   "outputs": [
    {
     "data": {
      "text/plain": [
       "['218-68-9955',\n",
       " '165-73-3124',\n",
       " '432-47-4043',\n",
       " '563-93-1393',\n",
       " '153-93-3401',\n",
       " '670-09-7369',\n",
       " '123-05-9652',\n",
       " '812-13-2476',\n",
       " '726-13-1007',\n",
       " '825-05-4836',\n",
       " '102-90-0314',\n",
       " '247-17-2338',\n",
       " '318-22-2760']"
      ]
     },
     "execution_count": 24,
     "metadata": {},
     "output_type": "execute_result"
    }
   ],
   "source": [
    "# Use `extend` keyword\n",
    "ssn_2.extend(ssn_4)\n",
    "ssn_2"
   ]
  },
  {
   "cell_type": "code",
   "execution_count": 25,
   "metadata": {},
   "outputs": [
    {
     "name": "stdout",
     "output_type": "stream",
     "text": [
      "218-68-9955 , 102-90-0314\n",
      "218-68-9955 , 247-17-2338\n",
      "218-68-9955 , 318-22-2760\n",
      "218-68-9955 , 218-68-9955\n",
      "218-68-9955 , 165-73-3124\n",
      "218-68-9955 , 432-47-4043\n",
      "218-68-9955 , 563-93-1393\n",
      "218-68-9955 , 153-93-3401\n",
      "218-68-9955 , 670-09-7369\n",
      "218-68-9955 , 123-05-9652\n",
      "218-68-9955 , 812-13-2476\n",
      "218-68-9955 , 726-13-1007\n",
      "218-68-9955 , 825-05-4836\n",
      "165-73-3124 , 102-90-0314\n",
      "165-73-3124 , 247-17-2338\n",
      "165-73-3124 , 318-22-2760\n",
      "165-73-3124 , 218-68-9955\n",
      "165-73-3124 , 165-73-3124\n",
      "165-73-3124 , 432-47-4043\n",
      "165-73-3124 , 563-93-1393\n",
      "165-73-3124 , 153-93-3401\n",
      "165-73-3124 , 670-09-7369\n",
      "165-73-3124 , 123-05-9652\n",
      "165-73-3124 , 812-13-2476\n",
      "165-73-3124 , 726-13-1007\n",
      "165-73-3124 , 825-05-4836\n",
      "432-47-4043 , 102-90-0314\n",
      "432-47-4043 , 247-17-2338\n",
      "432-47-4043 , 318-22-2760\n",
      "432-47-4043 , 218-68-9955\n",
      "432-47-4043 , 165-73-3124\n",
      "432-47-4043 , 432-47-4043\n",
      "432-47-4043 , 563-93-1393\n",
      "432-47-4043 , 153-93-3401\n",
      "432-47-4043 , 670-09-7369\n",
      "432-47-4043 , 123-05-9652\n",
      "432-47-4043 , 812-13-2476\n",
      "432-47-4043 , 726-13-1007\n",
      "432-47-4043 , 825-05-4836\n",
      "563-93-1393 , 102-90-0314\n",
      "563-93-1393 , 247-17-2338\n",
      "563-93-1393 , 318-22-2760\n",
      "563-93-1393 , 218-68-9955\n",
      "563-93-1393 , 165-73-3124\n",
      "563-93-1393 , 432-47-4043\n",
      "563-93-1393 , 563-93-1393\n",
      "563-93-1393 , 153-93-3401\n",
      "563-93-1393 , 670-09-7369\n",
      "563-93-1393 , 123-05-9652\n",
      "563-93-1393 , 812-13-2476\n",
      "563-93-1393 , 726-13-1007\n",
      "563-93-1393 , 825-05-4836\n",
      "153-93-3401 , 102-90-0314\n",
      "153-93-3401 , 247-17-2338\n",
      "153-93-3401 , 318-22-2760\n",
      "153-93-3401 , 218-68-9955\n",
      "153-93-3401 , 165-73-3124\n",
      "153-93-3401 , 432-47-4043\n",
      "153-93-3401 , 563-93-1393\n",
      "153-93-3401 , 153-93-3401\n",
      "153-93-3401 , 670-09-7369\n",
      "153-93-3401 , 123-05-9652\n",
      "153-93-3401 , 812-13-2476\n",
      "153-93-3401 , 726-13-1007\n",
      "153-93-3401 , 825-05-4836\n",
      "670-09-7369 , 102-90-0314\n",
      "670-09-7369 , 247-17-2338\n",
      "670-09-7369 , 318-22-2760\n",
      "670-09-7369 , 218-68-9955\n",
      "670-09-7369 , 165-73-3124\n",
      "670-09-7369 , 432-47-4043\n",
      "670-09-7369 , 563-93-1393\n",
      "670-09-7369 , 153-93-3401\n",
      "670-09-7369 , 670-09-7369\n",
      "670-09-7369 , 123-05-9652\n",
      "670-09-7369 , 812-13-2476\n",
      "670-09-7369 , 726-13-1007\n",
      "670-09-7369 , 825-05-4836\n",
      "123-05-9652 , 102-90-0314\n",
      "123-05-9652 , 247-17-2338\n",
      "123-05-9652 , 318-22-2760\n",
      "123-05-9652 , 218-68-9955\n",
      "123-05-9652 , 165-73-3124\n",
      "123-05-9652 , 432-47-4043\n",
      "123-05-9652 , 563-93-1393\n",
      "123-05-9652 , 153-93-3401\n",
      "123-05-9652 , 670-09-7369\n",
      "123-05-9652 , 123-05-9652\n",
      "123-05-9652 , 812-13-2476\n",
      "123-05-9652 , 726-13-1007\n",
      "123-05-9652 , 825-05-4836\n",
      "812-13-2476 , 102-90-0314\n",
      "812-13-2476 , 247-17-2338\n",
      "812-13-2476 , 318-22-2760\n",
      "812-13-2476 , 218-68-9955\n",
      "812-13-2476 , 165-73-3124\n",
      "812-13-2476 , 432-47-4043\n",
      "812-13-2476 , 563-93-1393\n",
      "812-13-2476 , 153-93-3401\n",
      "812-13-2476 , 670-09-7369\n",
      "812-13-2476 , 123-05-9652\n",
      "812-13-2476 , 812-13-2476\n",
      "812-13-2476 , 726-13-1007\n",
      "812-13-2476 , 825-05-4836\n",
      "726-13-1007 , 102-90-0314\n",
      "726-13-1007 , 247-17-2338\n",
      "726-13-1007 , 318-22-2760\n",
      "726-13-1007 , 218-68-9955\n",
      "726-13-1007 , 165-73-3124\n",
      "726-13-1007 , 432-47-4043\n",
      "726-13-1007 , 563-93-1393\n",
      "726-13-1007 , 153-93-3401\n",
      "726-13-1007 , 670-09-7369\n",
      "726-13-1007 , 123-05-9652\n",
      "726-13-1007 , 812-13-2476\n",
      "726-13-1007 , 726-13-1007\n",
      "726-13-1007 , 825-05-4836\n",
      "825-05-4836 , 102-90-0314\n",
      "825-05-4836 , 247-17-2338\n",
      "825-05-4836 , 318-22-2760\n",
      "825-05-4836 , 218-68-9955\n",
      "825-05-4836 , 165-73-3124\n",
      "825-05-4836 , 432-47-4043\n",
      "825-05-4836 , 563-93-1393\n",
      "825-05-4836 , 153-93-3401\n",
      "825-05-4836 , 670-09-7369\n",
      "825-05-4836 , 123-05-9652\n",
      "825-05-4836 , 812-13-2476\n",
      "825-05-4836 , 726-13-1007\n",
      "825-05-4836 , 825-05-4836\n",
      "102-90-0314 , 102-90-0314\n",
      "102-90-0314 , 247-17-2338\n",
      "102-90-0314 , 318-22-2760\n",
      "102-90-0314 , 218-68-9955\n",
      "102-90-0314 , 165-73-3124\n",
      "102-90-0314 , 432-47-4043\n",
      "102-90-0314 , 563-93-1393\n",
      "102-90-0314 , 153-93-3401\n",
      "102-90-0314 , 670-09-7369\n",
      "102-90-0314 , 123-05-9652\n",
      "102-90-0314 , 812-13-2476\n",
      "102-90-0314 , 726-13-1007\n",
      "102-90-0314 , 825-05-4836\n",
      "247-17-2338 , 102-90-0314\n",
      "247-17-2338 , 247-17-2338\n",
      "247-17-2338 , 318-22-2760\n",
      "247-17-2338 , 218-68-9955\n",
      "247-17-2338 , 165-73-3124\n",
      "247-17-2338 , 432-47-4043\n",
      "247-17-2338 , 563-93-1393\n",
      "247-17-2338 , 153-93-3401\n",
      "247-17-2338 , 670-09-7369\n",
      "247-17-2338 , 123-05-9652\n",
      "247-17-2338 , 812-13-2476\n",
      "247-17-2338 , 726-13-1007\n",
      "247-17-2338 , 825-05-4836\n",
      "318-22-2760 , 102-90-0314\n",
      "318-22-2760 , 247-17-2338\n",
      "318-22-2760 , 318-22-2760\n",
      "318-22-2760 , 218-68-9955\n",
      "318-22-2760 , 165-73-3124\n",
      "318-22-2760 , 432-47-4043\n",
      "318-22-2760 , 563-93-1393\n",
      "318-22-2760 , 153-93-3401\n",
      "318-22-2760 , 670-09-7369\n",
      "318-22-2760 , 123-05-9652\n",
      "318-22-2760 , 812-13-2476\n",
      "318-22-2760 , 726-13-1007\n",
      "318-22-2760 , 825-05-4836\n"
     ]
    }
   ],
   "source": [
    "# Loop over the first list and create a nested list inside that list\n",
    "for x in ssn_2:\n",
    "    for y in ssn_5:\n",
    "        print(str(x) + ' , ' + str(y))"
   ]
  },
  {
   "cell_type": "markdown",
   "metadata": {},
   "source": [
    "# Exercise 1.03: Iterating over a List and Checking Membership"
   ]
  },
  {
   "cell_type": "code",
   "execution_count": 26,
   "metadata": {},
   "outputs": [
    {
     "data": {
      "text/plain": [
       "['Escalade',\n",
       " ' X5 M',\n",
       " ' D150',\n",
       " ' Camaro',\n",
       " ' F350',\n",
       " ' Aurora',\n",
       " ' S8',\n",
       " ' E350',\n",
       " ' Tiburon',\n",
       " ' F-Series Super Duty']"
      ]
     },
     "execution_count": 26,
     "metadata": {},
     "output_type": "execute_result"
    }
   ],
   "source": [
    "car_models = list(pd.read_csv(\"./car_models.csv\"))\n",
    "car_models"
   ]
  },
  {
   "cell_type": "code",
   "execution_count": 27,
   "metadata": {},
   "outputs": [
    {
     "name": "stdout",
     "output_type": "stream",
     "text": [
      "Escalade\n",
      " X5 M\n",
      " D150\n",
      " Camaro\n",
      " F350\n",
      " Aurora\n",
      " S8\n",
      " E350\n",
      " Tiburon\n",
      " F-Series Super Duty\n"
     ]
    }
   ],
   "source": [
    "# Iterate over a list non-Pythonic\n",
    "list_1 = [x for x in car_models]\n",
    "for i in range(0, len(list_1)):\n",
    "    print(list_1[i])"
   ]
  },
  {
   "cell_type": "code",
   "execution_count": 28,
   "metadata": {},
   "outputs": [
    {
     "name": "stdout",
     "output_type": "stream",
     "text": [
      "Escalade\n",
      " X5 M\n",
      " D150\n",
      " Camaro\n",
      " F350\n",
      " Aurora\n",
      " S8\n",
      " E350\n",
      " Tiburon\n",
      " F-Series Super Duty\n"
     ]
    }
   ],
   "source": [
    "# Iterate over same list Pythonic\n",
    "for i in list_1:\n",
    "    print(i)"
   ]
  },
  {
   "cell_type": "code",
   "execution_count": 29,
   "metadata": {},
   "outputs": [
    {
     "data": {
      "text/plain": [
       "False"
      ]
     },
     "execution_count": 29,
     "metadata": {},
     "output_type": "execute_result"
    }
   ],
   "source": [
    "# Check for existing string value 1\n",
    "\"D150\" in list_1"
   ]
  },
  {
   "cell_type": "code",
   "execution_count": 30,
   "metadata": {},
   "outputs": [
    {
     "data": {
      "text/plain": [
       "False"
      ]
     },
     "execution_count": 30,
     "metadata": {},
     "output_type": "execute_result"
    }
   ],
   "source": [
    "# Check for existing string value 2\n",
    "\"Mustang\" in list_1"
   ]
  },
  {
   "cell_type": "markdown",
   "metadata": {},
   "source": [
    "# Exercise 1.04: Sorting a list"
   ]
  },
  {
   "cell_type": "code",
   "execution_count": 31,
   "metadata": {},
   "outputs": [
    {
     "data": {
      "text/plain": [
       "[20, 19, 18, 17, 16, 15, 14, 13, 12, 11, 10, 9, 8, 7, 6, 5, 4, 3, 2, 1, 0]"
      ]
     },
     "execution_count": 31,
     "metadata": {},
     "output_type": "execute_result"
    }
   ],
   "source": [
    "# Use the sort method with reverse=True\n",
    "list_1 = [*range(0, 21, 1)]\n",
    "list_1.sort(reverse=True)\n",
    "list_1"
   ]
  },
  {
   "cell_type": "code",
   "execution_count": 32,
   "metadata": {},
   "outputs": [
    {
     "data": {
      "text/plain": [
       "[0, 1, 2, 3, 4, 5, 6, 7, 8, 9, 10, 11, 12, 13, 14, 15, 16, 17, 18, 19, 20]"
      ]
     },
     "execution_count": 32,
     "metadata": {},
     "output_type": "execute_result"
    }
   ],
   "source": [
    "# Use the reverse method directly\n",
    "list_1.reverse()\n",
    "list_1"
   ]
  },
  {
   "cell_type": "markdown",
   "metadata": {},
   "source": [
    "# Exercise 1.05: Generating a Random List"
   ]
  },
  {
   "cell_type": "code",
   "execution_count": 33,
   "metadata": {},
   "outputs": [],
   "source": [
    "import random"
   ]
  },
  {
   "cell_type": "code",
   "execution_count": 34,
   "metadata": {},
   "outputs": [],
   "source": [
    "list_1 = [random.randint(0, 30) for x in range(0, 100)]"
   ]
  },
  {
   "cell_type": "code",
   "execution_count": 35,
   "metadata": {},
   "outputs": [
    {
     "data": {
      "text/plain": [
       "[3,\n",
       " 30,\n",
       " 16,\n",
       " 22,\n",
       " 22,\n",
       " 25,\n",
       " 23,\n",
       " 27,\n",
       " 1,\n",
       " 21,\n",
       " 0,\n",
       " 20,\n",
       " 3,\n",
       " 23,\n",
       " 15,\n",
       " 15,\n",
       " 11,\n",
       " 15,\n",
       " 0,\n",
       " 28,\n",
       " 13,\n",
       " 2,\n",
       " 6,\n",
       " 6,\n",
       " 12,\n",
       " 3,\n",
       " 1,\n",
       " 17,\n",
       " 17,\n",
       " 15,\n",
       " 8,\n",
       " 23,\n",
       " 23,\n",
       " 8,\n",
       " 15,\n",
       " 9,\n",
       " 13,\n",
       " 18,\n",
       " 23,\n",
       " 7,\n",
       " 11,\n",
       " 22,\n",
       " 16,\n",
       " 29,\n",
       " 2,\n",
       " 6,\n",
       " 30,\n",
       " 21,\n",
       " 12,\n",
       " 23,\n",
       " 21,\n",
       " 9,\n",
       " 24,\n",
       " 7,\n",
       " 0,\n",
       " 29,\n",
       " 10,\n",
       " 11,\n",
       " 0,\n",
       " 24,\n",
       " 25,\n",
       " 3,\n",
       " 24,\n",
       " 13,\n",
       " 15,\n",
       " 11,\n",
       " 2,\n",
       " 24,\n",
       " 28,\n",
       " 3,\n",
       " 20,\n",
       " 5,\n",
       " 17,\n",
       " 19,\n",
       " 26,\n",
       " 26,\n",
       " 0,\n",
       " 22,\n",
       " 18,\n",
       " 21,\n",
       " 12,\n",
       " 28,\n",
       " 5,\n",
       " 14,\n",
       " 26,\n",
       " 4,\n",
       " 6,\n",
       " 14,\n",
       " 22,\n",
       " 4,\n",
       " 2,\n",
       " 27,\n",
       " 29,\n",
       " 6,\n",
       " 2,\n",
       " 20,\n",
       " 15,\n",
       " 15,\n",
       " 5,\n",
       " 22]"
      ]
     },
     "execution_count": 35,
     "metadata": {},
     "output_type": "execute_result"
    }
   ],
   "source": [
    "list_1"
   ]
  },
  {
   "cell_type": "code",
   "execution_count": 36,
   "metadata": {},
   "outputs": [
    {
     "data": {
      "text/plain": [
       "[9,\n",
       " 900,\n",
       " 256,\n",
       " 484,\n",
       " 484,\n",
       " 625,\n",
       " 529,\n",
       " 729,\n",
       " 1,\n",
       " 441,\n",
       " 0,\n",
       " 400,\n",
       " 9,\n",
       " 529,\n",
       " 225,\n",
       " 225,\n",
       " 121,\n",
       " 225,\n",
       " 0,\n",
       " 784,\n",
       " 169,\n",
       " 4,\n",
       " 36,\n",
       " 36,\n",
       " 144,\n",
       " 9,\n",
       " 1,\n",
       " 289,\n",
       " 289,\n",
       " 225,\n",
       " 64,\n",
       " 529,\n",
       " 529,\n",
       " 64,\n",
       " 225,\n",
       " 81,\n",
       " 169,\n",
       " 324,\n",
       " 529,\n",
       " 49,\n",
       " 121,\n",
       " 484,\n",
       " 256,\n",
       " 841,\n",
       " 4,\n",
       " 36,\n",
       " 900,\n",
       " 441,\n",
       " 144,\n",
       " 529,\n",
       " 441,\n",
       " 81,\n",
       " 576,\n",
       " 49,\n",
       " 0,\n",
       " 841,\n",
       " 100,\n",
       " 121,\n",
       " 0,\n",
       " 576,\n",
       " 625,\n",
       " 9,\n",
       " 576,\n",
       " 169,\n",
       " 225,\n",
       " 121,\n",
       " 4,\n",
       " 576,\n",
       " 784,\n",
       " 9,\n",
       " 400,\n",
       " 25,\n",
       " 289,\n",
       " 361,\n",
       " 676,\n",
       " 676,\n",
       " 0,\n",
       " 484,\n",
       " 324,\n",
       " 441,\n",
       " 144,\n",
       " 784,\n",
       " 25,\n",
       " 196,\n",
       " 676,\n",
       " 16,\n",
       " 36,\n",
       " 196,\n",
       " 484,\n",
       " 16,\n",
       " 4,\n",
       " 729,\n",
       " 841,\n",
       " 36,\n",
       " 4,\n",
       " 400,\n",
       " 225,\n",
       " 225,\n",
       " 25,\n",
       " 484]"
      ]
     },
     "execution_count": 36,
     "metadata": {},
     "output_type": "execute_result"
    }
   ],
   "source": [
    "# Finding the square of each element\n",
    "list_2 = [x**2 for x in list_1]\n",
    "list_2"
   ]
  },
  {
   "cell_type": "code",
   "execution_count": 37,
   "metadata": {},
   "outputs": [
    {
     "data": {
      "text/plain": [
       "[1.0,\n",
       " 2.9547247909790624,\n",
       " 2.4099331233312946,\n",
       " 2.6857417386022635,\n",
       " 2.6857417386022635,\n",
       " 2.796574333210429,\n",
       " 2.7242758696007887,\n",
       " 2.8633228601204554,\n",
       " 0.30102999566398114,\n",
       " 2.6454222693490914,\n",
       " 0.0,\n",
       " 2.603144372620182,\n",
       " 1.0,\n",
       " 2.7242758696007887,\n",
       " 2.3541084391474008,\n",
       " 2.3541084391474008,\n",
       " 2.086359830674748,\n",
       " 2.3541084391474008,\n",
       " 0.0,\n",
       " 2.8948696567452523,\n",
       " 2.2304489213782737,\n",
       " 0.6989700043360187,\n",
       " 1.5682017240669948,\n",
       " 1.5682017240669948,\n",
       " 2.1613680022349744,\n",
       " 1.0,\n",
       " 0.30102999566398114,\n",
       " 2.4623979978989556,\n",
       " 2.4623979978989556,\n",
       " 2.3541084391474008,\n",
       " 1.8129133566428552,\n",
       " 2.7242758696007887,\n",
       " 2.7242758696007887,\n",
       " 1.8129133566428552,\n",
       " 2.3541084391474008,\n",
       " 1.9138138523837167,\n",
       " 2.2304489213782737,\n",
       " 2.511883360978874,\n",
       " 2.7242758696007887,\n",
       " 1.6989700043360185,\n",
       " 2.086359830674748,\n",
       " 2.6857417386022635,\n",
       " 2.4099331233312946,\n",
       " 2.925312091499649,\n",
       " 0.6989700043360187,\n",
       " 1.5682017240669948,\n",
       " 2.9547247909790624,\n",
       " 2.6454222693490914,\n",
       " 2.1613680022349744,\n",
       " 2.7242758696007887,\n",
       " 2.6454222693490914,\n",
       " 1.9138138523837167,\n",
       " 2.7611758131557314,\n",
       " 1.6989700043360185,\n",
       " 0.0,\n",
       " 2.925312091499649,\n",
       " 2.0043213737826426,\n",
       " 2.086359830674748,\n",
       " 0.0,\n",
       " 2.7611758131557314,\n",
       " 2.796574333210429,\n",
       " 1.0,\n",
       " 2.7611758131557314,\n",
       " 2.2304489213782737,\n",
       " 2.3541084391474008,\n",
       " 2.086359830674748,\n",
       " 0.6989700043360187,\n",
       " 2.7611758131557314,\n",
       " 2.8948696567452523,\n",
       " 1.0,\n",
       " 2.603144372620182,\n",
       " 1.414973347970818,\n",
       " 2.4623979978989556,\n",
       " 2.558708570533166,\n",
       " 2.8305886686851442,\n",
       " 2.8305886686851442,\n",
       " 0.0,\n",
       " 2.6857417386022635,\n",
       " 2.511883360978874,\n",
       " 2.6454222693490914,\n",
       " 2.1613680022349744,\n",
       " 2.8948696567452523,\n",
       " 1.414973347970818,\n",
       " 2.294466226161593,\n",
       " 2.8305886686851442,\n",
       " 1.2304489213782739,\n",
       " 1.5682017240669948,\n",
       " 2.294466226161593,\n",
       " 2.6857417386022635,\n",
       " 1.2304489213782739,\n",
       " 0.6989700043360187,\n",
       " 2.8633228601204554,\n",
       " 2.925312091499649,\n",
       " 1.5682017240669948,\n",
       " 0.6989700043360187,\n",
       " 2.603144372620182,\n",
       " 2.3541084391474008,\n",
       " 2.3541084391474008,\n",
       " 1.414973347970818,\n",
       " 2.6857417386022635]"
      ]
     },
     "execution_count": 37,
     "metadata": {},
     "output_type": "execute_result"
    }
   ],
   "source": [
    "# Finding the log of the 1 elements of list_2\n",
    "import math\n",
    "list_2 = [math.log(x+1,10) for x in list_2]\n",
    "list_2"
   ]
  },
  {
   "cell_type": "markdown",
   "metadata": {},
   "source": [
    "# Activity 1.01: Handling Lists"
   ]
  },
  {
   "cell_type": "code",
   "execution_count": 38,
   "metadata": {},
   "outputs": [
    {
     "data": {
      "text/plain": [
       "[63,\n",
       " 85,\n",
       " 63,\n",
       " 68,\n",
       " 74,\n",
       " 90,\n",
       " 10,\n",
       " 36,\n",
       " 14,\n",
       " 86,\n",
       " 63,\n",
       " 32,\n",
       " 15,\n",
       " 75,\n",
       " 49,\n",
       " 27,\n",
       " 36,\n",
       " 46,\n",
       " 34,\n",
       " 92,\n",
       " 67,\n",
       " 28,\n",
       " 65,\n",
       " 29,\n",
       " 72,\n",
       " 10,\n",
       " 59,\n",
       " 4,\n",
       " 68,\n",
       " 91,\n",
       " 73,\n",
       " 98,\n",
       " 89,\n",
       " 91,\n",
       " 98,\n",
       " 94,\n",
       " 97,\n",
       " 10,\n",
       " 43,\n",
       " 37,\n",
       " 37,\n",
       " 39,\n",
       " 27,\n",
       " 55,\n",
       " 39,\n",
       " 33,\n",
       " 4,\n",
       " 81,\n",
       " 57,\n",
       " 99,\n",
       " 38,\n",
       " 68,\n",
       " 94,\n",
       " 62,\n",
       " 21,\n",
       " 57,\n",
       " 71,\n",
       " 93,\n",
       " 60,\n",
       " 75,\n",
       " 34,\n",
       " 91,\n",
       " 47,\n",
       " 74,\n",
       " 69,\n",
       " 14,\n",
       " 5,\n",
       " 92,\n",
       " 73,\n",
       " 42,\n",
       " 32,\n",
       " 26,\n",
       " 57,\n",
       " 52,\n",
       " 88,\n",
       " 82,\n",
       " 19,\n",
       " 15,\n",
       " 0,\n",
       " 7,\n",
       " 69,\n",
       " 24,\n",
       " 84,\n",
       " 91,\n",
       " 41,\n",
       " 94,\n",
       " 39,\n",
       " 89,\n",
       " 0,\n",
       " 48,\n",
       " 97,\n",
       " 44,\n",
       " 50,\n",
       " 99,\n",
       " 85,\n",
       " 74,\n",
       " 52,\n",
       " 31,\n",
       " 8,\n",
       " 83]"
      ]
     },
     "execution_count": 38,
     "metadata": {},
     "output_type": "execute_result"
    }
   ],
   "source": [
    "# import the random library\n",
    "import random\n",
    "# use the randint method to create 100 random numbers\n",
    "random_int_list = [random.randint(0, 100) for x in range(0, 100)]\n",
    "# print out the list\n",
    "random_int_list"
   ]
  },
  {
   "cell_type": "code",
   "execution_count": 39,
   "metadata": {},
   "outputs": [
    {
     "data": {
      "text/plain": [
       "[63,\n",
       " 63,\n",
       " 90,\n",
       " 36,\n",
       " 63,\n",
       " 15,\n",
       " 75,\n",
       " 27,\n",
       " 36,\n",
       " 72,\n",
       " 39,\n",
       " 27,\n",
       " 39,\n",
       " 33,\n",
       " 81,\n",
       " 57,\n",
       " 99,\n",
       " 21,\n",
       " 57,\n",
       " 93,\n",
       " 60,\n",
       " 75,\n",
       " 69,\n",
       " 42,\n",
       " 57,\n",
       " 15,\n",
       " 0,\n",
       " 69,\n",
       " 24,\n",
       " 84,\n",
       " 39,\n",
       " 0,\n",
       " 48,\n",
       " 99]"
      ]
     },
     "execution_count": 39,
     "metadata": {},
     "output_type": "execute_result"
    }
   ],
   "source": [
    "# create a list from random_int_list with ints divisible by 3\n",
    "list_divisible_by_3 = [a for a in random_int_list if a % 3 == 0]\n",
    "list_divisible_by_3"
   ]
  },
  {
   "cell_type": "code",
   "execution_count": 40,
   "metadata": {},
   "outputs": [
    {
     "data": {
      "text/plain": [
       "66"
      ]
     },
     "execution_count": 40,
     "metadata": {},
     "output_type": "execute_result"
    }
   ],
   "source": [
    "# use the len function to measure the lenght of the first list and teh second list\n",
    "length_of_random_int_list = len(random_int_list)\n",
    "length_of_divisible_by_3_list = len(list_divisible_by_3)\n",
    "# store them in two different variables\n",
    "difference = length_of_random_int_list - length_of_divisible_by_3_list\n",
    "# calculate the difference in length\n",
    "difference"
   ]
  },
  {
   "cell_type": "code",
   "execution_count": 41,
   "metadata": {},
   "outputs": [
    {
     "data": {
      "text/plain": [
       "[63, 66, 69, 73, 69, 66, 70, 61, 67, 68]"
      ]
     },
     "execution_count": 41,
     "metadata": {},
     "output_type": "execute_result"
    }
   ],
   "source": [
    "# combine the tasks used so far in a for loop\n",
    "EXPERIMENTS = 10\n",
    "difference_list = []\n",
    "for i in range(0, EXPERIMENTS):\n",
    "    random_number_list = [random.randint(0, 100) for x in range(0, 100)]\n",
    "    list_divisible_by_3 = [a for a in random_number_list if a % 3 == 0]\n",
    "    \n",
    "    length_of_random_list = len(random_number_list)\n",
    "    length_of_3_divisible_list = len(list_divisible_by_3)\n",
    "    difference = length_of_random_list - length_of_3_divisible_list\n",
    "    difference_list.append(difference)\n",
    "    \n",
    "difference_list"
   ]
  },
  {
   "cell_type": "code",
   "execution_count": 42,
   "metadata": {},
   "outputs": [
    {
     "data": {
      "text/plain": [
       "67.2"
      ]
     },
     "execution_count": 42,
     "metadata": {},
     "output_type": "execute_result"
    }
   ],
   "source": [
    "# calculate the arithmetic mean(common average) for the differences in the length\n",
    "avg_diff = sum(difference_list) / float(len(difference_list))\n",
    "avg_diff"
   ]
  },
  {
   "cell_type": "markdown",
   "metadata": {},
   "source": [
    "# Introduction to Sets"
   ]
  },
  {
   "cell_type": "code",
   "execution_count": 43,
   "metadata": {},
   "outputs": [],
   "source": [
    "list_12 = list(set(list_1))"
   ]
  },
  {
   "cell_type": "code",
   "execution_count": 44,
   "metadata": {},
   "outputs": [
    {
     "data": {
      "text/plain": [
       "[0,\n",
       " 1,\n",
       " 2,\n",
       " 3,\n",
       " 4,\n",
       " 5,\n",
       " 6,\n",
       " 7,\n",
       " 8,\n",
       " 9,\n",
       " 10,\n",
       " 11,\n",
       " 12,\n",
       " 13,\n",
       " 14,\n",
       " 15,\n",
       " 16,\n",
       " 17,\n",
       " 18,\n",
       " 19,\n",
       " 20,\n",
       " 21,\n",
       " 22,\n",
       " 23,\n",
       " 24,\n",
       " 25,\n",
       " 26,\n",
       " 27,\n",
       " 28,\n",
       " 29,\n",
       " 30]"
      ]
     },
     "execution_count": 44,
     "metadata": {},
     "output_type": "execute_result"
    }
   ],
   "source": [
    "list_12"
   ]
  },
  {
   "cell_type": "code",
   "execution_count": 46,
   "metadata": {},
   "outputs": [],
   "source": [
    "# create two sets\n",
    "set1 = {\"Apple\", \"Orange\", \"Banana\"}\n",
    "set2 = {\"Pear\", \"Peach\", \"Mango\", \"Banana\"}"
   ]
  },
  {
   "cell_type": "code",
   "execution_count": 47,
   "metadata": {},
   "outputs": [
    {
     "data": {
      "text/plain": [
       "{'Apple', 'Banana', 'Mango', 'Orange', 'Peach', 'Pear'}"
      ]
     },
     "execution_count": 47,
     "metadata": {},
     "output_type": "execute_result"
    }
   ],
   "source": [
    "# find the union of two sets\n",
    "set1 | set2"
   ]
  },
  {
   "cell_type": "code",
   "execution_count": 48,
   "metadata": {},
   "outputs": [
    {
     "data": {
      "text/plain": [
       "{'Banana'}"
      ]
     },
     "execution_count": 48,
     "metadata": {},
     "output_type": "execute_result"
    }
   ],
   "source": [
    "# get the intersection of two sets\n",
    "set1 & set2"
   ]
  },
  {
   "cell_type": "markdown",
   "metadata": {},
   "source": [
    "# Creating Null Sets"
   ]
  },
  {
   "cell_type": "code",
   "execution_count": 49,
   "metadata": {},
   "outputs": [
    {
     "data": {
      "text/plain": [
       "set()"
      ]
     },
     "execution_count": 49,
     "metadata": {},
     "output_type": "execute_result"
    }
   ],
   "source": [
    "# create a null set\n",
    "null_set_1 = set({})\n",
    "null_set_1"
   ]
  },
  {
   "cell_type": "code",
   "execution_count": 50,
   "metadata": {},
   "outputs": [
    {
     "data": {
      "text/plain": [
       "{}"
      ]
     },
     "execution_count": 50,
     "metadata": {},
     "output_type": "execute_result"
    }
   ],
   "source": [
    "# create a null dictionary\n",
    "null_set_2 = {}\n",
    "null_set_2"
   ]
  },
  {
   "cell_type": "markdown",
   "metadata": {},
   "source": [
    "# Dictionary"
   ]
  },
  {
   "cell_type": "code",
   "execution_count": 52,
   "metadata": {},
   "outputs": [
    {
     "data": {
      "text/plain": [
       "{'key1': 'value1', 'key2': 'value2'}"
      ]
     },
     "execution_count": 52,
     "metadata": {},
     "output_type": "execute_result"
    }
   ],
   "source": [
    "# creating a dictionary\n",
    "dict_1 = {\"key1\": \"value1\", \"key2\": \"value2\"}\n",
    "dict_1"
   ]
  },
  {
   "cell_type": "code",
   "execution_count": 53,
   "metadata": {},
   "outputs": [
    {
     "data": {
      "text/plain": [
       "{'key1': 1,\n",
       " 'key2': ['list_element1', 34],\n",
       " 'key3': 'value3',\n",
       " 'key4': {'subkey': 'v1'},\n",
       " 'key5': 4.5}"
      ]
     },
     "execution_count": 53,
     "metadata": {},
     "output_type": "execute_result"
    }
   ],
   "source": [
    "# another dictionar example\n",
    "dict_2 = {\"key1\": 1, \"key2\": [\"list_element1\", 34], \n",
    "          \"key3\": \"value3\", \"key4\": {\"subkey\": \"v1\"}, \n",
    "          \"key5\": 4.5}\n",
    "dict_2"
   ]
  },
  {
   "cell_type": "markdown",
   "metadata": {},
   "source": [
    "# Exercise1.06: Accessing and Setting Values in a Dictionary"
   ]
  },
  {
   "cell_type": "code",
   "execution_count": 56,
   "metadata": {},
   "outputs": [],
   "source": [
    "# access a value in a dictionary by providing the key,\n",
    "# keep in mind there is no given order in a dictionary\n",
    "stocks = {\"Solar Capital Ltd\": \"$920.44\", \"Zoe's Kitchen, Inc.\": \"$262.32M\", \"Toyota Motor Corp Ltd Ord\": \"$156.02B\", \n",
    "         \"Nuveen Virginia Quality Municipal Income Fund\": \"$238.33M\", \"Kinross Gold Corporation\": \"$5.1B\",\n",
    "         \"Vulcan Materials Company\": \"$17.1B\", \"Hi-Crush Partners LP\": \"$955.69M\", \"Lennox International, Inc.\": \"$8.05B\",\n",
    "         \"WMIH Corp.\": \"$247.66M\", \"Comerica Incorporated\": \"n/a\"}"
   ]
  },
  {
   "cell_type": "code",
   "execution_count": 57,
   "metadata": {},
   "outputs": [
    {
     "data": {
      "text/plain": [
       "'$247.66M'"
      ]
     },
     "execution_count": 57,
     "metadata": {},
     "output_type": "execute_result"
    }
   ],
   "source": [
    "# print a particular element from the list\n",
    "stocks[\"WMIH Corp.\"]"
   ]
  },
  {
   "cell_type": "code",
   "execution_count": 58,
   "metadata": {},
   "outputs": [],
   "source": [
    "# set a value using the same method as above\n",
    "stocks[\"WMIH Copr.\"] = \"$300M\""
   ]
  },
  {
   "cell_type": "code",
   "execution_count": 59,
   "metadata": {},
   "outputs": [
    {
     "data": {
      "text/plain": [
       "{'key1': 'Value1'}"
      ]
     },
     "execution_count": 59,
     "metadata": {},
     "output_type": "execute_result"
    }
   ],
   "source": [
    "# define a blank(empty) dictionary and use key notation to assign values\n",
    "dict_3 = {} # Not a null set, it is a dictionary\n",
    "dict_3[\"key1\"] = \"Value1\"\n",
    "dict_3"
   ]
  },
  {
   "cell_type": "code",
   "execution_count": 61,
   "metadata": {},
   "outputs": [
    {
     "data": {
      "text/plain": [
       "{'Solar Capital Ltd': '920.44',\n",
       " \"Zoe's Kitchen, Inc.\": '262.32M',\n",
       " 'Toyota Motor Corp Ltd Ord': '156.02B',\n",
       " 'Nuveen Virginia Quality Municipal Income Fund': '238.33M',\n",
       " 'Kinross Gold Corporation': '5.1B',\n",
       " 'Vulcan Materials Company': '17.1B',\n",
       " 'Hi-Crush Partners LP': '955.69M',\n",
       " 'Lennox International, Inc.': '8.05B',\n",
       " 'WMIH Corp.': '247.66M',\n",
       " 'Comerica Incorporated': 'n/a',\n",
       " 'WMIH Copr.': '300M'}"
      ]
     },
     "execution_count": 61,
     "metadata": {},
     "output_type": "execute_result"
    }
   ],
   "source": [
    "# remove the `$` from the dictionary\n",
    "for key,val in stocks.items():\n",
    "    stocks[key] = val.replace('$', '')\n",
    "stocks"
   ]
  },
  {
   "cell_type": "code",
   "execution_count": 62,
   "metadata": {},
   "outputs": [
    {
     "data": {
      "text/plain": [
       "{'Solar Capital Ltd': ['920.4', '4'],\n",
       " \"Zoe's Kitchen, Inc.\": ['262.32', 'M'],\n",
       " 'Toyota Motor Corp Ltd Ord': ['156.02', 'B'],\n",
       " 'Nuveen Virginia Quality Municipal Income Fund': ['238.33', 'M'],\n",
       " 'Kinross Gold Corporation': ['5.1', 'B'],\n",
       " 'Vulcan Materials Company': ['17.1', 'B'],\n",
       " 'Hi-Crush Partners LP': ['955.69', 'M'],\n",
       " 'Lennox International, Inc.': ['8.05', 'B'],\n",
       " 'WMIH Corp.': ['247.66', 'M'],\n",
       " 'Comerica Incorporated': ['n/', 'a'],\n",
       " 'WMIH Copr.': ['300', 'M']}"
      ]
     },
     "execution_count": 62,
     "metadata": {},
     "output_type": "execute_result"
    }
   ],
   "source": [
    "# iterate over stocks dictionary again and split the value into a list\n",
    "# with price (val) and multiplier (mult) as separate elements whee\n",
    "# a single value is assigned to each key\n",
    "for key, val in stocks.items():\n",
    "    mult = val[-1]\n",
    "    stocks[key] = [val[:-1], mult]\n",
    "stocks"
   ]
  },
  {
   "cell_type": "markdown",
   "metadata": {},
   "source": [
    "# Exercise 1.08: Revisiting the Unique Valued List Problem"
   ]
  },
  {
   "cell_type": "code",
   "execution_count": 66,
   "metadata": {},
   "outputs": [],
   "source": [
    "# generate a list with duplicate values\n",
    "import random\n",
    "list_13 = [random.randint(0, 30) for x in range (0, 100)]"
   ]
  },
  {
   "cell_type": "code",
   "execution_count": 68,
   "metadata": {},
   "outputs": [
    {
     "data": {
      "text/plain": [
       "[23,\n",
       " 4,\n",
       " 17,\n",
       " 29,\n",
       " 7,\n",
       " 16,\n",
       " 9,\n",
       " 5,\n",
       " 11,\n",
       " 30,\n",
       " 27,\n",
       " 20,\n",
       " 3,\n",
       " 21,\n",
       " 14,\n",
       " 8,\n",
       " 25,\n",
       " 12,\n",
       " 0,\n",
       " 13,\n",
       " 18,\n",
       " 15,\n",
       " 28,\n",
       " 1,\n",
       " 26,\n",
       " 24,\n",
       " 19,\n",
       " 6,\n",
       " 22,\n",
       " 2,\n",
       " 10]"
      ]
     },
     "execution_count": 68,
     "metadata": {},
     "output_type": "execute_result"
    }
   ],
   "source": [
    "# create a unique valued list form list_13\n",
    "list(dict.fromkeys(list_13).keys())"
   ]
  },
  {
   "cell_type": "markdown",
   "metadata": {},
   "source": [
    "# Exercise 1.09: Deleting a Value from Dict"
   ]
  },
  {
   "cell_type": "code",
   "execution_count": 73,
   "metadata": {},
   "outputs": [
    {
     "data": {
      "text/plain": [
       "{'key1': 1,\n",
       " 'key2': ['list_element1', 34],\n",
       " 'key3': 'value3',\n",
       " 'key4': {'subkey1': 'v1'},\n",
       " 'key5': 4.5}"
      ]
     },
     "execution_count": 73,
     "metadata": {},
     "output_type": "execute_result"
    }
   ],
   "source": [
    "# create dict_4 with five elements\n",
    "dict_4 = {\"key1\": 1, \"key2\": [\"list_element1\", 34], \\\n",
    "          \"key3\": \"value3\", \"key4\": {\"subkey1\": \"v1\"}, \\\n",
    "          \"key5\": 4.5}\n",
    "dict_4"
   ]
  },
  {
   "cell_type": "code",
   "execution_count": 74,
   "metadata": {},
   "outputs": [
    {
     "data": {
      "text/plain": [
       "{'key1': 1, 'key3': 'value3', 'key4': {'subkey1': 'v1'}, 'key5': 4.5}"
      ]
     },
     "execution_count": 74,
     "metadata": {},
     "output_type": "execute_result"
    }
   ],
   "source": [
    "del dict_4[\"key2\"]\n",
    "dict_4"
   ]
  },
  {
   "cell_type": "code",
   "execution_count": 75,
   "metadata": {},
   "outputs": [],
   "source": [
    "del dict_4[\"key3\"]\n",
    "del dict_4[\"key4\"]"
   ]
  },
  {
   "cell_type": "code",
   "execution_count": 76,
   "metadata": {},
   "outputs": [
    {
     "data": {
      "text/plain": [
       "{'key1': 1, 'key5': 4.5}"
      ]
     },
     "execution_count": 76,
     "metadata": {},
     "output_type": "execute_result"
    }
   ],
   "source": [
    "dict_4"
   ]
  },
  {
   "cell_type": "markdown",
   "metadata": {},
   "source": [
    "# Exercise 1.10: Dictionary Comprehension"
   ]
  },
  {
   "cell_type": "code",
   "execution_count": 78,
   "metadata": {},
   "outputs": [
    {
     "data": {
      "text/plain": [
       "{3: 9,\n",
       " 30: 900,\n",
       " 16: 256,\n",
       " 22: 484,\n",
       " 25: 625,\n",
       " 23: 529,\n",
       " 27: 729,\n",
       " 1: 1,\n",
       " 21: 441,\n",
       " 0: 0,\n",
       " 20: 400,\n",
       " 15: 225,\n",
       " 11: 121,\n",
       " 28: 784,\n",
       " 13: 169,\n",
       " 2: 4,\n",
       " 6: 36,\n",
       " 12: 144,\n",
       " 17: 289,\n",
       " 8: 64,\n",
       " 9: 81,\n",
       " 18: 324,\n",
       " 7: 49,\n",
       " 29: 841,\n",
       " 24: 576,\n",
       " 10: 100,\n",
       " 5: 25,\n",
       " 19: 361,\n",
       " 26: 676,\n",
       " 14: 196,\n",
       " 4: 16}"
      ]
     },
     "execution_count": 78,
     "metadata": {},
     "output_type": "execute_result"
    }
   ],
   "source": [
    "# generate a dict that has 0 - 9 as the keys and the square of the key as values\n",
    "list_15 = [x for x in range(0, 10)]\n",
    "dict_5 = {x : x**2 for x in list_1}\n",
    "dict_5"
   ]
  },
  {
   "cell_type": "code",
   "execution_count": 80,
   "metadata": {},
   "outputs": [
    {
     "data": {
      "text/plain": [
       "{'Tom': 100, 'Dick': 200, 'Harry': 300}"
      ]
     },
     "execution_count": 80,
     "metadata": {},
     "output_type": "execute_result"
    }
   ],
   "source": [
    "# generate a dictionary using the dict function\n",
    "dict_6 = dict([('Tom', 100), ('Dick', 200), ('Harry', 300)])\n",
    "dict_6"
   ]
  },
  {
   "cell_type": "code",
   "execution_count": 81,
   "metadata": {},
   "outputs": [
    {
     "data": {
      "text/plain": [
       "{'Tom': 100, 'Dick': 200, 'Harry': 300}"
      ]
     },
     "execution_count": 81,
     "metadata": {},
     "output_type": "execute_result"
    }
   ],
   "source": [
    "# you can also create a dictionary using the dict function as follows:\n",
    "dict_7 = dict(Tom=100, Dick=200, Harry=300)\n",
    "dict_7"
   ]
  },
  {
   "cell_type": "markdown",
   "metadata": {},
   "source": [
    "# Tuples"
   ]
  },
  {
   "cell_type": "code",
   "execution_count": 82,
   "metadata": {},
   "outputs": [],
   "source": [
    "# example tuple\n",
    "tuple_1 = 24, 42, 2.3456, \"Hello\""
   ]
  },
  {
   "cell_type": "markdown",
   "metadata": {},
   "source": [
    "# Creating a Tuple with Different Cardinalities"
   ]
  },
  {
   "cell_type": "code",
   "execution_count": 83,
   "metadata": {},
   "outputs": [],
   "source": [
    "# creating an empty tuple\n",
    "tuple_1 = ()"
   ]
  },
  {
   "cell_type": "code",
   "execution_count": 85,
   "metadata": {},
   "outputs": [],
   "source": [
    "# creating a tuple with only one value\n",
    "tuple_1 = \"Hello\", # <- you must have the trailing comma"
   ]
  },
  {
   "cell_type": "code",
   "execution_count": 86,
   "metadata": {},
   "outputs": [],
   "source": [
    "# nest tuples, similar to lists and dicts\n",
    "tuple_1 = \"hello\", \"there\"\n",
    "tuple_12 = tuple_1, 45, \"Sam\""
   ]
  },
  {
   "cell_type": "code",
   "execution_count": 87,
   "metadata": {},
   "outputs": [
    {
     "ename": "TypeError",
     "evalue": "'tuple' object does not support item assignment",
     "output_type": "error",
     "traceback": [
      "\u001b[1;31m---------------------------------------------------------------------------\u001b[0m",
      "\u001b[1;31mTypeError\u001b[0m                                 Traceback (most recent call last)",
      "\u001b[1;32m<ipython-input-87-9a99229a9270>\u001b[0m in \u001b[0;36m<module>\u001b[1;34m\u001b[0m\n\u001b[0;32m      2\u001b[0m \u001b[1;31m# only access them\u001b[0m\u001b[1;33m\u001b[0m\u001b[1;33m\u001b[0m\u001b[1;33m\u001b[0m\u001b[0m\n\u001b[0;32m      3\u001b[0m \u001b[0mtuple_1\u001b[0m \u001b[1;33m=\u001b[0m \u001b[1;34m\"Hello\"\u001b[0m\u001b[1;33m,\u001b[0m \u001b[1;34m\"World!\"\u001b[0m\u001b[1;33m\u001b[0m\u001b[1;33m\u001b[0m\u001b[0m\n\u001b[1;32m----> 4\u001b[1;33m \u001b[0mtuple_1\u001b[0m\u001b[1;33m[\u001b[0m\u001b[1;36m1\u001b[0m\u001b[1;33m]\u001b[0m \u001b[1;33m=\u001b[0m \u001b[1;34m\"Universe!\"\u001b[0m\u001b[1;33m\u001b[0m\u001b[1;33m\u001b[0m\u001b[0m\n\u001b[0m",
      "\u001b[1;31mTypeError\u001b[0m: 'tuple' object does not support item assignment"
     ]
    }
   ],
   "source": [
    "# tuples are immutable, you are not able to change their values\n",
    "# only access them\n",
    "tuple_1 = \"Hello\", \"World!\"\n",
    "tuple_1[1] = \"Universe!\""
   ]
  },
  {
   "cell_type": "code",
   "execution_count": 88,
   "metadata": {},
   "outputs": [
    {
     "data": {
      "text/plain": [
       "'good'"
      ]
     },
     "execution_count": 88,
     "metadata": {},
     "output_type": "execute_result"
    }
   ],
   "source": [
    "# access the elements ofa  tuple similar to lists\n",
    "tuple_1 = (\"good\", \"morning!\", \"how\", \"are\", \"you?\")\n",
    "tuple_1[0]"
   ]
  },
  {
   "cell_type": "code",
   "execution_count": 89,
   "metadata": {},
   "outputs": [
    {
     "data": {
      "text/plain": [
       "'you?'"
      ]
     },
     "execution_count": 89,
     "metadata": {},
     "output_type": "execute_result"
    }
   ],
   "source": [
    "# access another element\n",
    "tuple_1[4]"
   ]
  },
  {
   "cell_type": "markdown",
   "metadata": {},
   "source": [
    "# Unpacking a Tuple"
   ]
  },
  {
   "cell_type": "code",
   "execution_count": 91,
   "metadata": {},
   "outputs": [
    {
     "name": "stdout",
     "output_type": "stream",
     "text": [
      "Hello\n",
      "World\n"
     ]
    }
   ],
   "source": [
    "# unpacking a tuple simply means getting the values contained in the tuple in different variables\n",
    "tuple_1 = \"Hello\", \"World\"\n",
    "hello, world = tuple_1\n",
    "print(hello)\n",
    "print(world)\n",
    "# we can now modify the values of the variables in any way we like"
   ]
  },
  {
   "cell_type": "markdown",
   "metadata": {},
   "source": [
    "# Exercise 1.11: Handling Tuples"
   ]
  },
  {
   "cell_type": "code",
   "execution_count": 92,
   "metadata": {},
   "outputs": [
    {
     "data": {
      "text/plain": [
       "('1', '3', '5')"
      ]
     },
     "execution_count": 92,
     "metadata": {},
     "output_type": "execute_result"
    }
   ],
   "source": [
    "# create a tuple to demonstrate how tupels are immutable\n",
    "# unpack it to read all the elements\n",
    "tupleE = \"1\", \"3\", \"5\"\n",
    "tupleE"
   ]
  },
  {
   "cell_type": "code",
   "execution_count": 93,
   "metadata": {},
   "outputs": [
    {
     "ename": "TypeError",
     "evalue": "'tuple' object does not support item assignment",
     "output_type": "error",
     "traceback": [
      "\u001b[1;31m---------------------------------------------------------------------------\u001b[0m",
      "\u001b[1;31mTypeError\u001b[0m                                 Traceback (most recent call last)",
      "\u001b[1;32m<ipython-input-93-9483c8a5dce7>\u001b[0m in \u001b[0;36m<module>\u001b[1;34m\u001b[0m\n\u001b[1;32m----> 1\u001b[1;33m \u001b[0mtupleE\u001b[0m\u001b[1;33m[\u001b[0m\u001b[1;36m1\u001b[0m\u001b[1;33m]\u001b[0m \u001b[1;33m=\u001b[0m \u001b[1;34m\"5\"\u001b[0m\u001b[1;33m\u001b[0m\u001b[1;33m\u001b[0m\u001b[0m\n\u001b[0m",
      "\u001b[1;31mTypeError\u001b[0m: 'tuple' object does not support item assignment"
     ]
    }
   ],
   "source": [
    "tupleE[1] = \"5\" # results in a TypeError"
   ]
  },
  {
   "cell_type": "code",
   "execution_count": 94,
   "metadata": {},
   "outputs": [
    {
     "ename": "SyntaxError",
     "evalue": "cannot assign to literal (<ipython-input-94-5f74113d4cba>, line 2)",
     "output_type": "error",
     "traceback": [
      "\u001b[1;36m  File \u001b[1;32m\"<ipython-input-94-5f74113d4cba>\"\u001b[1;36m, line \u001b[1;32m2\u001b[0m\n\u001b[1;33m    1, 3, 5 = tupleE\u001b[0m\n\u001b[1;37m    ^\u001b[0m\n\u001b[1;31mSyntaxError\u001b[0m\u001b[1;31m:\u001b[0m cannot assign to literal\n"
     ]
    }
   ],
   "source": [
    "# try to assign a series to the tuple\n",
    "1, 3, 5 = tupleE # results in a SyntaxError"
   ]
  },
  {
   "cell_type": "code",
   "execution_count": 95,
   "metadata": {},
   "outputs": [
    {
     "name": "stdout",
     "output_type": "stream",
     "text": [
      "1\n",
      "3\n"
     ]
    }
   ],
   "source": [
    "# print variables at 0th and 1st positions\n",
    "print(tupleE[0])\n",
    "print(tupleE[1])"
   ]
  },
  {
   "cell_type": "markdown",
   "metadata": {},
   "source": [
    "# Strings"
   ]
  },
  {
   "cell_type": "code",
   "execution_count": 98,
   "metadata": {},
   "outputs": [],
   "source": [
    "# example of a string\n",
    "string1 = 'Hello World!'"
   ]
  },
  {
   "cell_type": "code",
   "execution_count": 99,
   "metadata": {},
   "outputs": [],
   "source": [
    "# also this can declare a string\n",
    "string2 = \"Hello World 2!\""
   ]
  },
  {
   "cell_type": "markdown",
   "metadata": {},
   "source": [
    "# Exercise 1.12: Accessing Strings"
   ]
  },
  {
   "cell_type": "code",
   "execution_count": 100,
   "metadata": {},
   "outputs": [
    {
     "data": {
      "text/plain": [
       "'Hello World!'"
      ]
     },
     "execution_count": 100,
     "metadata": {},
     "output_type": "execute_result"
    }
   ],
   "source": [
    "# create a string called str_1\n",
    "str_1 = \"Hello World!\"\n",
    "str_1"
   ]
  },
  {
   "cell_type": "code",
   "execution_count": 101,
   "metadata": {},
   "outputs": [
    {
     "data": {
      "text/plain": [
       "'H'"
      ]
     },
     "execution_count": 101,
     "metadata": {},
     "output_type": "execute_result"
    }
   ],
   "source": [
    "# access the first member of the string\n",
    "str_1[0]"
   ]
  },
  {
   "cell_type": "code",
   "execution_count": 102,
   "metadata": {},
   "outputs": [
    {
     "data": {
      "text/plain": [
       "'o'"
      ]
     },
     "execution_count": 102,
     "metadata": {},
     "output_type": "execute_result"
    }
   ],
   "source": [
    "# access the fifth element of the string\n",
    "str_1[4]"
   ]
  },
  {
   "cell_type": "code",
   "execution_count": 103,
   "metadata": {},
   "outputs": [
    {
     "data": {
      "text/plain": [
       "'!'"
      ]
     },
     "execution_count": 103,
     "metadata": {},
     "output_type": "execute_result"
    }
   ],
   "source": [
    "# access the last member of the string\n",
    "str_1[len(str_1) - 1]"
   ]
  },
  {
   "cell_type": "code",
   "execution_count": 104,
   "metadata": {},
   "outputs": [
    {
     "data": {
      "text/plain": [
       "'!'"
      ]
     },
     "execution_count": 104,
     "metadata": {},
     "output_type": "execute_result"
    }
   ],
   "source": [
    "# another way to access the last member of a string\n",
    "str_1[-1]"
   ]
  },
  {
   "cell_type": "markdown",
   "metadata": {},
   "source": [
    "# Exercise 1.13: String Slices"
   ]
  },
  {
   "cell_type": "code",
   "execution_count": 105,
   "metadata": {},
   "outputs": [
    {
     "data": {
      "text/plain": [
       "'Hello World! I am learning data wrangling'"
      ]
     },
     "execution_count": 105,
     "metadata": {},
     "output_type": "execute_result"
    }
   ],
   "source": [
    "# create a string\n",
    "str_1 = \"Hello World! I am learning data wrangling\"\n",
    "str_1"
   ]
  },
  {
   "cell_type": "code",
   "execution_count": 106,
   "metadata": {},
   "outputs": [
    {
     "data": {
      "text/plain": [
       "'llo Worl'"
      ]
     },
     "execution_count": 106,
     "metadata": {},
     "output_type": "execute_result"
    }
   ],
   "source": [
    "# specify slicing values and slice the string\n",
    "str_1[2:10]"
   ]
  },
  {
   "cell_type": "code",
   "execution_count": 107,
   "metadata": {},
   "outputs": [
    {
     "data": {
      "text/plain": [
       "'d! I am learning data wrangling'"
      ]
     },
     "execution_count": 107,
     "metadata": {},
     "output_type": "execute_result"
    }
   ],
   "source": [
    "# slice a string by skipping a slice value\n",
    "str_1[-31:]"
   ]
  },
  {
   "cell_type": "code",
   "execution_count": 108,
   "metadata": {},
   "outputs": [
    {
     "data": {
      "text/plain": [
       "' wran'"
      ]
     },
     "execution_count": 108,
     "metadata": {},
     "output_type": "execute_result"
    }
   ],
   "source": [
    "# use negative numbers to slice the string\n",
    "str_1[-10:-5]"
   ]
  },
  {
   "cell_type": "markdown",
   "metadata": {},
   "source": [
    "# String Functions"
   ]
  },
  {
   "cell_type": "code",
   "execution_count": 110,
   "metadata": {},
   "outputs": [
    {
     "data": {
      "text/plain": [
       "41"
      ]
     },
     "execution_count": 110,
     "metadata": {},
     "output_type": "execute_result"
    }
   ],
   "source": [
    "# find the length of a string\n",
    "str_1 = \"Hello World! I am learning data wrangling\"\n",
    "len(str_1)"
   ]
  },
  {
   "cell_type": "code",
   "execution_count": 111,
   "metadata": {},
   "outputs": [
    {
     "data": {
      "text/plain": [
       "'a complete upper case string'"
      ]
     },
     "execution_count": 111,
     "metadata": {},
     "output_type": "execute_result"
    }
   ],
   "source": [
    "# change the case of the string to lower\n",
    "str_1 = \"A COMPLETE UPPER CASE STRING\"\n",
    "str_1.lower()"
   ]
  },
  {
   "cell_type": "code",
   "execution_count": 112,
   "metadata": {},
   "outputs": [
    {
     "data": {
      "text/plain": [
       "'A COMPLETE UPPER CASE STRING'"
      ]
     },
     "execution_count": 112,
     "metadata": {},
     "output_type": "execute_result"
    }
   ],
   "source": [
    "# back to upper\n",
    "str_1.upper()"
   ]
  },
  {
   "cell_type": "code",
   "execution_count": 114,
   "metadata": {},
   "outputs": [
    {
     "data": {
      "text/plain": [
       "-1"
      ]
     },
     "execution_count": 114,
     "metadata": {},
     "output_type": "execute_result"
    }
   ],
   "source": [
    "# search for a string within a string using find\n",
    "str_1 = \"A complicated string looks like this\"\n",
    "str_1.find(\"complicated\")\n",
    "str_1.find(\"hello\")"
   ]
  },
  {
   "cell_type": "code",
   "execution_count": 115,
   "metadata": {},
   "outputs": [
    {
     "data": {
      "text/plain": [
       "'A simple string looks like this'"
      ]
     },
     "execution_count": 115,
     "metadata": {},
     "output_type": "execute_result"
    }
   ],
   "source": [
    "# the replace method will return a new string since strings are immutable\n",
    "str_1 = \"A complicated string looks like this\"\n",
    "str_1.replace(\"complicated\", \"simple\")"
   ]
  },
  {
   "cell_type": "markdown",
   "metadata": {},
   "source": [
    "# Exercise 1.14: Splitting and Joining a String"
   ]
  },
  {
   "cell_type": "code",
   "execution_count": 117,
   "metadata": {},
   "outputs": [
    {
     "data": {
      "text/plain": [
       "['Name', ' Age', ' Sex', ' Address']"
      ]
     },
     "execution_count": 117,
     "metadata": {},
     "output_type": "execute_result"
    }
   ],
   "source": [
    "# create a string and convert it into a list\n",
    "str_1 = \"Name, Age, Sex, Address\"\n",
    "list_1 = str_1.split(\",\")\n",
    "list_1"
   ]
  },
  {
   "cell_type": "code",
   "execution_count": 118,
   "metadata": {},
   "outputs": [
    {
     "data": {
      "text/plain": [
       "'Name |  Age |  Sex |  Address'"
      ]
     },
     "execution_count": 118,
     "metadata": {},
     "output_type": "execute_result"
    }
   ],
   "source": [
    "# combine the list to another string using join\n",
    "s = \" | \"\n",
    "s.join(list_1)"
   ]
  },
  {
   "cell_type": "markdown",
   "metadata": {},
   "source": [
    "# Activity 1.02: Analyzing a Multiline String and Generating the Unique Word Count"
   ]
  },
  {
   "cell_type": "code",
   "execution_count": 120,
   "metadata": {},
   "outputs": [],
   "source": [
    "# create a multiline_text variable by copying the text from teh first chapter of pride and prejudice\n",
    "multiline_text = '''It is a truth universally acknowledged, that a single man in possession of a good fortune, must be in want of a wife.\n",
    "\n",
    "However little known the feelings or views of such a man may be on his first entering a neighbourhood, this truth is so well fixed in the minds of the surrounding families, that he is considered the rightful property of some one or other of their daughters.\n",
    "\n",
    "\"My dear Mr. Bennet,\" said his lady to him one day, \"have you heard that Netherfield Park is let at last?\"\n",
    "\n",
    "Mr. Bennet replied that he had not.\n",
    "\n",
    "\"But it is,\" returned she; \"for Mrs. Long has just been here, and she told me all about it.\"\n",
    "\n",
    "Mr. Bennet made no answer.\n",
    "\n",
    "\"Do you not want to know who has taken it?\" cried his wife impatiently.\n",
    "\n",
    "\"You want to tell me, and I have no objection to hearing it.\"\n",
    "\n",
    "This was invitation enough.\n",
    "\n",
    "\"Why, my dear, you must know, Mrs. Long says that Netherfield is taken by a young man of large fortune from the north of England; that he came down on Monday in a chaise and four to see the place, and was so much delighted with it, that he agreed with Mr. Morris immediately; that he is to take possession before Michaelmas, and some of his servants are to be in the house by the end of next week.\"\n",
    "\n",
    "\"What is his name?\"\n",
    "\n",
    "\"Bingley.\"\n",
    "\n",
    "\"Is he married or single?\"\n",
    "\n",
    "\"Oh! Single, my dear, to be sure! A single man of large fortune; four or five thousand a year. What a fine thing for our girls!\"\n",
    "\n",
    "\"How so? How can it affect them?\"\n",
    "\n",
    "\"My dear Mr. Bennet,\" replied his wife, \"how can you be so tiresome! You must know that I am thinking of his marrying one of them.\"\n",
    "\n",
    "\"Is that his design in settling here?\"\n",
    "\n",
    "\"Design! Nonsense, how can you talk so! But it is very likely that he may fall in love with one of them, and therefore you must visit him as soon as he comes.\"\n",
    "\n",
    "\"I see no occasion for that. You and the girls may go, or you may send them by themselves, which perhaps will be still better, for as you are as handsome as any of them, Mr. Bingley may like you the best of the party.\"\n",
    "\n",
    "\"My dear, you flatter me. I certainly have had my share of beauty, but I do not pretend to be anything extraordinary now. When a woman has five grown-up daughters, she ought to give over thinking of her own beauty.\"\n",
    "\n",
    "\"In such cases, a woman has not often much beauty to think of.\"\n",
    "\n",
    "\"But, my dear, you must indeed go and see Mr. Bingley when he comes into the neighbourhood.\"\n",
    "\n",
    "\"It is more than I engage for, I assure you.\"\n",
    "\n",
    "\"But consider your daughters. Only think what an establishment it would be for one of them. Sir William and Lady Lucas are determined to go, merely on that account, for in general, you know, they visit no newcomers. Indeed you must go, for it will be impossible for us to visit him if you do not.\"\n",
    "\n",
    "\"You are over-scrupulous, surely. I dare say Mr. Bingley will be very glad to see you; and I will send a few lines by you to assure him of my hearty consent to his marrying whichever he chooses of the girls; though I must throw in a good word for my little Lizzy.\"\n",
    "\n",
    "\"I desire you will do no such thing. Lizzy is not a bit better than the others; and I am sure she is not half so handsome as Jane, nor half so good-humoured as Lydia. But you are always giving her the preference.\"\n",
    "\n",
    "\"They have none of them much to recommend them,\" replied he; \"they are all silly and ignorant like other girls; but Lizzy has something more of quickness than her sisters.\"\n",
    "\n",
    "\"Mr. Bennet, how can you abuse your own children in such a way? You take delight in vexing me. You have no compassion for my poor nerves.\"\n",
    "\n",
    "\"You mistake me, my dear. I have a high respect for your nerves. They are my old friends. I have heard you mention them with consideration these last twenty years at least.\"\n",
    "\n",
    "\"Ah, you do not know what I suffer.\"\n",
    "\n",
    "\"But I hope you will get over it, and live to see many young men of four thousand a year come into the neighbourhood.\"\n",
    "\n",
    "\"It will be no use to us, if twenty such should come, since you will not visit them.\"\n",
    "\n",
    "\"Depend upon it, my dear, that when there are twenty, I will visit them all.\"\n",
    "\n",
    "Mr. Bennet was so odd a mixture of quick parts, sarcastic humour, reserve, and caprice, that the experience of three-and-twenty years had been insufficient to make his wife understand his character. Her mind was less difficult to develop. She was a woman of mean understanding, little information, and uncertain temper. When she was discontented, she fancied herself nervous. The business of her life was to get her daughters married; its solace was visiting and news.'''"
   ]
  },
  {
   "cell_type": "code",
   "execution_count": 121,
   "metadata": {},
   "outputs": [
    {
     "data": {
      "text/plain": [
       "4474"
      ]
     },
     "execution_count": 121,
     "metadata": {},
     "output_type": "execute_result"
    }
   ],
   "source": [
    "# find the length of mulitline_text\n",
    "len(multiline_text)"
   ]
  },
  {
   "cell_type": "code",
   "execution_count": 122,
   "metadata": {},
   "outputs": [
    {
     "data": {
      "text/plain": [
       "str"
      ]
     },
     "execution_count": 122,
     "metadata": {},
     "output_type": "execute_result"
    }
   ],
   "source": [
    "# find the type of multiline_text\n",
    "type(multiline_text)"
   ]
  },
  {
   "cell_type": "code",
   "execution_count": 131,
   "metadata": {},
   "outputs": [],
   "source": [
    "# remove new lines\n",
    "multiline_text = multiline_text.replace(\"\\n\", \"\")"
   ]
  },
  {
   "cell_type": "code",
   "execution_count": 134,
   "metadata": {},
   "outputs": [],
   "source": [
    "# remove special chars, punctuation etc.\n",
    "cleaned_multiline_text = \"\"\n",
    "for char in multiline_text:\n",
    "    if char == \" \":\n",
    "        cleaned_multiline_text += char\n",
    "    elif char.isalnum(): # using the isalnum() method of strings.\n",
    "        cleaned_multiline_text += char\n",
    "    else:\n",
    "        cleaned_multiline_text += \" \""
   ]
  },
  {
   "cell_type": "code",
   "execution_count": 135,
   "metadata": {},
   "outputs": [
    {
     "data": {
      "text/plain": [
       "'It is a truth universally acknowledged  that a single man in possession of a good fortune  must be in want of a wife However little known the feelings or views of such a man may be on his first entering a neighbourhood  this truth is so well fixed in the minds of the surrounding families  that he is considered the rightful property of some one or other of their daughters  My dear Mr  Bennet   said his lady to him one day   have you heard that Netherfield Park is let at last  Mr  Bennet replied that he had not  But it is   returned she   for Mrs  Long has just been here  and she told me all about it  Mr  Bennet made no answer  Do you not want to know who has taken it   cried his wife impatiently  You want to tell me  and I have no objection to hearing it  This was invitation enough  Why  my dear  you must know  Mrs  Long says that Netherfield is taken by a young man of large fortune from the north of England  that he came down on Monday in a chaise and four to see the place  and was so much delighted with it  that he agreed with Mr  Morris immediately  that he is to take possession before Michaelmas  and some of his servants are to be in the house by the end of next week   What is his name   Bingley   Is he married or single   Oh  Single  my dear  to be sure  A single man of large fortune  four or five thousand a year  What a fine thing for our girls   How so  How can it affect them   My dear Mr  Bennet   replied his wife   how can you be so tiresome  You must know that I am thinking of his marrying one of them   Is that his design in settling here   Design  Nonsense  how can you talk so  But it is very likely that he may fall in love with one of them  and therefore you must visit him as soon as he comes   I see no occasion for that  You and the girls may go  or you may send them by themselves  which perhaps will be still better  for as you are as handsome as any of them  Mr  Bingley may like you the best of the party   My dear  you flatter me  I certainly have had my share of beauty  but I do not pretend to be anything extraordinary now  When a woman has five grown up daughters  she ought to give over thinking of her own beauty   In such cases  a woman has not often much beauty to think of   But  my dear  you must indeed go and see Mr  Bingley when he comes into the neighbourhood   It is more than I engage for  I assure you   But consider your daughters  Only think what an establishment it would be for one of them  Sir William and Lady Lucas are determined to go  merely on that account  for in general  you know  they visit no newcomers  Indeed you must go  for it will be impossible for us to visit him if you do not   You are over scrupulous  surely  I dare say Mr  Bingley will be very glad to see you  and I will send a few lines by you to assure him of my hearty consent to his marrying whichever he chooses of the girls  though I must throw in a good word for my little Lizzy   I desire you will do no such thing  Lizzy is not a bit better than the others  and I am sure she is not half so handsome as Jane  nor half so good humoured as Lydia  But you are always giving her the preference   They have none of them much to recommend them   replied he   they are all silly and ignorant like other girls  but Lizzy has something more of quickness than her sisters   Mr  Bennet  how can you abuse your own children in such a way  You take delight in vexing me  You have no compassion for my poor nerves   You mistake me  my dear  I have a high respect for your nerves  They are my old friends  I have heard you mention them with consideration these last twenty years at least   Ah  you do not know what I suffer   But I hope you will get over it  and live to see many young men of four thousand a year come into the neighbourhood   It will be no use to us  if twenty such should come  since you will not visit them   Depend upon it  my dear  that when there are twenty  I will visit them all  Mr  Bennet was so odd a mixture of quick parts  sarcastic humour  reserve  and caprice  that the experience of three and twenty years had been insufficient to make his wife understand his character  Her mind was less difficult to develop  She was a woman of mean understanding  little information  and uncertain temper  When she was discontented  she fancied herself nervous  The business of her life was to get her daughters married  its solace was visiting and news '"
      ]
     },
     "execution_count": 135,
     "metadata": {},
     "output_type": "execute_result"
    }
   ],
   "source": [
    "cleaned_multiline_text"
   ]
  },
  {
   "cell_type": "code",
   "execution_count": 136,
   "metadata": {},
   "outputs": [
    {
     "data": {
      "text/plain": [
       "['It',\n",
       " 'is',\n",
       " 'a',\n",
       " 'truth',\n",
       " 'universally',\n",
       " 'acknowledged',\n",
       " 'that',\n",
       " 'a',\n",
       " 'single',\n",
       " 'man',\n",
       " 'in',\n",
       " 'possession',\n",
       " 'of',\n",
       " 'a',\n",
       " 'good',\n",
       " 'fortune',\n",
       " 'must',\n",
       " 'be',\n",
       " 'in',\n",
       " 'want',\n",
       " 'of',\n",
       " 'a',\n",
       " 'wife',\n",
       " 'However',\n",
       " 'little',\n",
       " 'known',\n",
       " 'the',\n",
       " 'feelings',\n",
       " 'or',\n",
       " 'views',\n",
       " 'of',\n",
       " 'such',\n",
       " 'a',\n",
       " 'man',\n",
       " 'may',\n",
       " 'be',\n",
       " 'on',\n",
       " 'his',\n",
       " 'first',\n",
       " 'entering',\n",
       " 'a',\n",
       " 'neighbourhood',\n",
       " 'this',\n",
       " 'truth',\n",
       " 'is',\n",
       " 'so',\n",
       " 'well',\n",
       " 'fixed',\n",
       " 'in',\n",
       " 'the',\n",
       " 'minds',\n",
       " 'of',\n",
       " 'the',\n",
       " 'surrounding',\n",
       " 'families',\n",
       " 'that',\n",
       " 'he',\n",
       " 'is',\n",
       " 'considered',\n",
       " 'the',\n",
       " 'rightful',\n",
       " 'property',\n",
       " 'of',\n",
       " 'some',\n",
       " 'one',\n",
       " 'or',\n",
       " 'other',\n",
       " 'of',\n",
       " 'their',\n",
       " 'daughters',\n",
       " 'My',\n",
       " 'dear',\n",
       " 'Mr',\n",
       " 'Bennet',\n",
       " 'said',\n",
       " 'his',\n",
       " 'lady',\n",
       " 'to',\n",
       " 'him',\n",
       " 'one',\n",
       " 'day',\n",
       " 'have',\n",
       " 'you',\n",
       " 'heard',\n",
       " 'that',\n",
       " 'Netherfield',\n",
       " 'Park',\n",
       " 'is',\n",
       " 'let',\n",
       " 'at',\n",
       " 'last',\n",
       " 'Mr',\n",
       " 'Bennet',\n",
       " 'replied',\n",
       " 'that',\n",
       " 'he',\n",
       " 'had',\n",
       " 'not',\n",
       " 'But',\n",
       " 'it',\n",
       " 'is',\n",
       " 'returned',\n",
       " 'she',\n",
       " 'for',\n",
       " 'Mrs',\n",
       " 'Long',\n",
       " 'has',\n",
       " 'just',\n",
       " 'been',\n",
       " 'here',\n",
       " 'and',\n",
       " 'she',\n",
       " 'told',\n",
       " 'me',\n",
       " 'all',\n",
       " 'about',\n",
       " 'it',\n",
       " 'Mr',\n",
       " 'Bennet',\n",
       " 'made',\n",
       " 'no',\n",
       " 'answer',\n",
       " 'Do',\n",
       " 'you',\n",
       " 'not',\n",
       " 'want',\n",
       " 'to',\n",
       " 'know',\n",
       " 'who',\n",
       " 'has',\n",
       " 'taken',\n",
       " 'it',\n",
       " 'cried',\n",
       " 'his',\n",
       " 'wife',\n",
       " 'impatiently',\n",
       " 'You',\n",
       " 'want',\n",
       " 'to',\n",
       " 'tell',\n",
       " 'me',\n",
       " 'and',\n",
       " 'I',\n",
       " 'have',\n",
       " 'no',\n",
       " 'objection',\n",
       " 'to',\n",
       " 'hearing',\n",
       " 'it',\n",
       " 'This',\n",
       " 'was',\n",
       " 'invitation',\n",
       " 'enough',\n",
       " 'Why',\n",
       " 'my',\n",
       " 'dear',\n",
       " 'you',\n",
       " 'must',\n",
       " 'know',\n",
       " 'Mrs',\n",
       " 'Long',\n",
       " 'says',\n",
       " 'that',\n",
       " 'Netherfield',\n",
       " 'is',\n",
       " 'taken',\n",
       " 'by',\n",
       " 'a',\n",
       " 'young',\n",
       " 'man',\n",
       " 'of',\n",
       " 'large',\n",
       " 'fortune',\n",
       " 'from',\n",
       " 'the',\n",
       " 'north',\n",
       " 'of',\n",
       " 'England',\n",
       " 'that',\n",
       " 'he',\n",
       " 'came',\n",
       " 'down',\n",
       " 'on',\n",
       " 'Monday',\n",
       " 'in',\n",
       " 'a',\n",
       " 'chaise',\n",
       " 'and',\n",
       " 'four',\n",
       " 'to',\n",
       " 'see',\n",
       " 'the',\n",
       " 'place',\n",
       " 'and',\n",
       " 'was',\n",
       " 'so',\n",
       " 'much',\n",
       " 'delighted',\n",
       " 'with',\n",
       " 'it',\n",
       " 'that',\n",
       " 'he',\n",
       " 'agreed',\n",
       " 'with',\n",
       " 'Mr',\n",
       " 'Morris',\n",
       " 'immediately',\n",
       " 'that',\n",
       " 'he',\n",
       " 'is',\n",
       " 'to',\n",
       " 'take',\n",
       " 'possession',\n",
       " 'before',\n",
       " 'Michaelmas',\n",
       " 'and',\n",
       " 'some',\n",
       " 'of',\n",
       " 'his',\n",
       " 'servants',\n",
       " 'are',\n",
       " 'to',\n",
       " 'be',\n",
       " 'in',\n",
       " 'the',\n",
       " 'house',\n",
       " 'by',\n",
       " 'the',\n",
       " 'end',\n",
       " 'of',\n",
       " 'next',\n",
       " 'week',\n",
       " 'What',\n",
       " 'is',\n",
       " 'his',\n",
       " 'name',\n",
       " 'Bingley',\n",
       " 'Is',\n",
       " 'he',\n",
       " 'married',\n",
       " 'or',\n",
       " 'single',\n",
       " 'Oh',\n",
       " 'Single',\n",
       " 'my',\n",
       " 'dear',\n",
       " 'to',\n",
       " 'be',\n",
       " 'sure',\n",
       " 'A',\n",
       " 'single',\n",
       " 'man',\n",
       " 'of',\n",
       " 'large',\n",
       " 'fortune',\n",
       " 'four',\n",
       " 'or',\n",
       " 'five',\n",
       " 'thousand',\n",
       " 'a',\n",
       " 'year',\n",
       " 'What',\n",
       " 'a',\n",
       " 'fine',\n",
       " 'thing',\n",
       " 'for',\n",
       " 'our',\n",
       " 'girls',\n",
       " 'How',\n",
       " 'so',\n",
       " 'How',\n",
       " 'can',\n",
       " 'it',\n",
       " 'affect',\n",
       " 'them',\n",
       " 'My',\n",
       " 'dear',\n",
       " 'Mr',\n",
       " 'Bennet',\n",
       " 'replied',\n",
       " 'his',\n",
       " 'wife',\n",
       " 'how',\n",
       " 'can',\n",
       " 'you',\n",
       " 'be',\n",
       " 'so',\n",
       " 'tiresome',\n",
       " 'You',\n",
       " 'must',\n",
       " 'know',\n",
       " 'that',\n",
       " 'I',\n",
       " 'am',\n",
       " 'thinking',\n",
       " 'of',\n",
       " 'his',\n",
       " 'marrying',\n",
       " 'one',\n",
       " 'of',\n",
       " 'them',\n",
       " 'Is',\n",
       " 'that',\n",
       " 'his',\n",
       " 'design',\n",
       " 'in',\n",
       " 'settling',\n",
       " 'here',\n",
       " 'Design',\n",
       " 'Nonsense',\n",
       " 'how',\n",
       " 'can',\n",
       " 'you',\n",
       " 'talk',\n",
       " 'so',\n",
       " 'But',\n",
       " 'it',\n",
       " 'is',\n",
       " 'very',\n",
       " 'likely',\n",
       " 'that',\n",
       " 'he',\n",
       " 'may',\n",
       " 'fall',\n",
       " 'in',\n",
       " 'love',\n",
       " 'with',\n",
       " 'one',\n",
       " 'of',\n",
       " 'them',\n",
       " 'and',\n",
       " 'therefore',\n",
       " 'you',\n",
       " 'must',\n",
       " 'visit',\n",
       " 'him',\n",
       " 'as',\n",
       " 'soon',\n",
       " 'as',\n",
       " 'he',\n",
       " 'comes',\n",
       " 'I',\n",
       " 'see',\n",
       " 'no',\n",
       " 'occasion',\n",
       " 'for',\n",
       " 'that',\n",
       " 'You',\n",
       " 'and',\n",
       " 'the',\n",
       " 'girls',\n",
       " 'may',\n",
       " 'go',\n",
       " 'or',\n",
       " 'you',\n",
       " 'may',\n",
       " 'send',\n",
       " 'them',\n",
       " 'by',\n",
       " 'themselves',\n",
       " 'which',\n",
       " 'perhaps',\n",
       " 'will',\n",
       " 'be',\n",
       " 'still',\n",
       " 'better',\n",
       " 'for',\n",
       " 'as',\n",
       " 'you',\n",
       " 'are',\n",
       " 'as',\n",
       " 'handsome',\n",
       " 'as',\n",
       " 'any',\n",
       " 'of',\n",
       " 'them',\n",
       " 'Mr',\n",
       " 'Bingley',\n",
       " 'may',\n",
       " 'like',\n",
       " 'you',\n",
       " 'the',\n",
       " 'best',\n",
       " 'of',\n",
       " 'the',\n",
       " 'party',\n",
       " 'My',\n",
       " 'dear',\n",
       " 'you',\n",
       " 'flatter',\n",
       " 'me',\n",
       " 'I',\n",
       " 'certainly',\n",
       " 'have',\n",
       " 'had',\n",
       " 'my',\n",
       " 'share',\n",
       " 'of',\n",
       " 'beauty',\n",
       " 'but',\n",
       " 'I',\n",
       " 'do',\n",
       " 'not',\n",
       " 'pretend',\n",
       " 'to',\n",
       " 'be',\n",
       " 'anything',\n",
       " 'extraordinary',\n",
       " 'now',\n",
       " 'When',\n",
       " 'a',\n",
       " 'woman',\n",
       " 'has',\n",
       " 'five',\n",
       " 'grown',\n",
       " 'up',\n",
       " 'daughters',\n",
       " 'she',\n",
       " 'ought',\n",
       " 'to',\n",
       " 'give',\n",
       " 'over',\n",
       " 'thinking',\n",
       " 'of',\n",
       " 'her',\n",
       " 'own',\n",
       " 'beauty',\n",
       " 'In',\n",
       " 'such',\n",
       " 'cases',\n",
       " 'a',\n",
       " 'woman',\n",
       " 'has',\n",
       " 'not',\n",
       " 'often',\n",
       " 'much',\n",
       " 'beauty',\n",
       " 'to',\n",
       " 'think',\n",
       " 'of',\n",
       " 'But',\n",
       " 'my',\n",
       " 'dear',\n",
       " 'you',\n",
       " 'must',\n",
       " 'indeed',\n",
       " 'go',\n",
       " 'and',\n",
       " 'see',\n",
       " 'Mr',\n",
       " 'Bingley',\n",
       " 'when',\n",
       " 'he',\n",
       " 'comes',\n",
       " 'into',\n",
       " 'the',\n",
       " 'neighbourhood',\n",
       " 'It',\n",
       " 'is',\n",
       " 'more',\n",
       " 'than',\n",
       " 'I',\n",
       " 'engage',\n",
       " 'for',\n",
       " 'I',\n",
       " 'assure',\n",
       " 'you',\n",
       " 'But',\n",
       " 'consider',\n",
       " 'your',\n",
       " 'daughters',\n",
       " 'Only',\n",
       " 'think',\n",
       " 'what',\n",
       " 'an',\n",
       " 'establishment',\n",
       " 'it',\n",
       " 'would',\n",
       " 'be',\n",
       " 'for',\n",
       " 'one',\n",
       " 'of',\n",
       " 'them',\n",
       " 'Sir',\n",
       " 'William',\n",
       " 'and',\n",
       " 'Lady',\n",
       " 'Lucas',\n",
       " 'are',\n",
       " 'determined',\n",
       " 'to',\n",
       " 'go',\n",
       " 'merely',\n",
       " 'on',\n",
       " 'that',\n",
       " 'account',\n",
       " 'for',\n",
       " 'in',\n",
       " 'general',\n",
       " 'you',\n",
       " 'know',\n",
       " 'they',\n",
       " 'visit',\n",
       " 'no',\n",
       " 'newcomers',\n",
       " 'Indeed',\n",
       " 'you',\n",
       " 'must',\n",
       " 'go',\n",
       " 'for',\n",
       " 'it',\n",
       " 'will',\n",
       " 'be',\n",
       " 'impossible',\n",
       " 'for',\n",
       " 'us',\n",
       " 'to',\n",
       " 'visit',\n",
       " 'him',\n",
       " 'if',\n",
       " 'you',\n",
       " 'do',\n",
       " 'not',\n",
       " 'You',\n",
       " 'are',\n",
       " 'over',\n",
       " 'scrupulous',\n",
       " 'surely',\n",
       " 'I',\n",
       " 'dare',\n",
       " 'say',\n",
       " 'Mr',\n",
       " 'Bingley',\n",
       " 'will',\n",
       " 'be',\n",
       " 'very',\n",
       " 'glad',\n",
       " 'to',\n",
       " 'see',\n",
       " 'you',\n",
       " 'and',\n",
       " 'I',\n",
       " 'will',\n",
       " 'send',\n",
       " 'a',\n",
       " 'few',\n",
       " 'lines',\n",
       " 'by',\n",
       " 'you',\n",
       " 'to',\n",
       " 'assure',\n",
       " 'him',\n",
       " 'of',\n",
       " 'my',\n",
       " 'hearty',\n",
       " 'consent',\n",
       " 'to',\n",
       " 'his',\n",
       " 'marrying',\n",
       " 'whichever',\n",
       " 'he',\n",
       " 'chooses',\n",
       " 'of',\n",
       " 'the',\n",
       " 'girls',\n",
       " 'though',\n",
       " 'I',\n",
       " 'must',\n",
       " 'throw',\n",
       " 'in',\n",
       " 'a',\n",
       " 'good',\n",
       " 'word',\n",
       " 'for',\n",
       " 'my',\n",
       " 'little',\n",
       " 'Lizzy',\n",
       " 'I',\n",
       " 'desire',\n",
       " 'you',\n",
       " 'will',\n",
       " 'do',\n",
       " 'no',\n",
       " 'such',\n",
       " 'thing',\n",
       " 'Lizzy',\n",
       " 'is',\n",
       " 'not',\n",
       " 'a',\n",
       " 'bit',\n",
       " 'better',\n",
       " 'than',\n",
       " 'the',\n",
       " 'others',\n",
       " 'and',\n",
       " 'I',\n",
       " 'am',\n",
       " 'sure',\n",
       " 'she',\n",
       " 'is',\n",
       " 'not',\n",
       " 'half',\n",
       " 'so',\n",
       " 'handsome',\n",
       " 'as',\n",
       " 'Jane',\n",
       " 'nor',\n",
       " 'half',\n",
       " 'so',\n",
       " 'good',\n",
       " 'humoured',\n",
       " 'as',\n",
       " 'Lydia',\n",
       " 'But',\n",
       " 'you',\n",
       " 'are',\n",
       " 'always',\n",
       " 'giving',\n",
       " 'her',\n",
       " 'the',\n",
       " 'preference',\n",
       " 'They',\n",
       " 'have',\n",
       " 'none',\n",
       " 'of',\n",
       " 'them',\n",
       " 'much',\n",
       " 'to',\n",
       " 'recommend',\n",
       " 'them',\n",
       " 'replied',\n",
       " 'he',\n",
       " 'they',\n",
       " 'are',\n",
       " 'all',\n",
       " 'silly',\n",
       " 'and',\n",
       " 'ignorant',\n",
       " 'like',\n",
       " 'other',\n",
       " 'girls',\n",
       " 'but',\n",
       " 'Lizzy',\n",
       " 'has',\n",
       " 'something',\n",
       " 'more',\n",
       " 'of',\n",
       " 'quickness',\n",
       " 'than',\n",
       " 'her',\n",
       " 'sisters',\n",
       " 'Mr',\n",
       " 'Bennet',\n",
       " 'how',\n",
       " 'can',\n",
       " 'you',\n",
       " 'abuse',\n",
       " 'your',\n",
       " 'own',\n",
       " 'children',\n",
       " 'in',\n",
       " 'such',\n",
       " 'a',\n",
       " 'way',\n",
       " 'You',\n",
       " 'take',\n",
       " 'delight',\n",
       " 'in',\n",
       " 'vexing',\n",
       " 'me',\n",
       " 'You',\n",
       " 'have',\n",
       " 'no',\n",
       " 'compassion',\n",
       " 'for',\n",
       " 'my',\n",
       " 'poor',\n",
       " 'nerves',\n",
       " 'You',\n",
       " 'mistake',\n",
       " 'me',\n",
       " 'my',\n",
       " 'dear',\n",
       " 'I',\n",
       " 'have',\n",
       " 'a',\n",
       " 'high',\n",
       " 'respect',\n",
       " 'for',\n",
       " 'your',\n",
       " 'nerves',\n",
       " 'They',\n",
       " 'are',\n",
       " 'my',\n",
       " 'old',\n",
       " 'friends',\n",
       " 'I',\n",
       " 'have',\n",
       " 'heard',\n",
       " 'you',\n",
       " 'mention',\n",
       " 'them',\n",
       " 'with',\n",
       " 'consideration',\n",
       " 'these',\n",
       " 'last',\n",
       " 'twenty',\n",
       " 'years',\n",
       " 'at',\n",
       " 'least',\n",
       " 'Ah',\n",
       " 'you',\n",
       " 'do',\n",
       " 'not',\n",
       " 'know',\n",
       " 'what',\n",
       " 'I',\n",
       " 'suffer',\n",
       " 'But',\n",
       " 'I',\n",
       " 'hope',\n",
       " 'you',\n",
       " 'will',\n",
       " 'get',\n",
       " 'over',\n",
       " 'it',\n",
       " 'and',\n",
       " 'live',\n",
       " 'to',\n",
       " 'see',\n",
       " 'many',\n",
       " 'young',\n",
       " 'men',\n",
       " 'of',\n",
       " 'four',\n",
       " 'thousand',\n",
       " 'a',\n",
       " 'year',\n",
       " 'come',\n",
       " 'into',\n",
       " 'the',\n",
       " 'neighbourhood',\n",
       " 'It',\n",
       " 'will',\n",
       " 'be',\n",
       " 'no',\n",
       " 'use',\n",
       " 'to',\n",
       " 'us',\n",
       " 'if',\n",
       " 'twenty',\n",
       " 'such',\n",
       " 'should',\n",
       " 'come',\n",
       " 'since',\n",
       " 'you',\n",
       " 'will',\n",
       " 'not',\n",
       " 'visit',\n",
       " 'them',\n",
       " 'Depend',\n",
       " 'upon',\n",
       " 'it',\n",
       " 'my',\n",
       " 'dear',\n",
       " 'that',\n",
       " 'when',\n",
       " 'there',\n",
       " 'are',\n",
       " 'twenty',\n",
       " 'I',\n",
       " 'will',\n",
       " 'visit',\n",
       " 'them',\n",
       " 'all',\n",
       " 'Mr',\n",
       " 'Bennet',\n",
       " 'was',\n",
       " 'so',\n",
       " 'odd',\n",
       " 'a',\n",
       " 'mixture',\n",
       " 'of',\n",
       " 'quick',\n",
       " 'parts',\n",
       " 'sarcastic',\n",
       " 'humour',\n",
       " 'reserve',\n",
       " 'and',\n",
       " 'caprice',\n",
       " 'that',\n",
       " 'the',\n",
       " 'experience',\n",
       " 'of',\n",
       " 'three',\n",
       " 'and',\n",
       " 'twenty',\n",
       " 'years',\n",
       " 'had',\n",
       " 'been',\n",
       " 'insufficient',\n",
       " 'to',\n",
       " 'make',\n",
       " 'his',\n",
       " 'wife',\n",
       " 'understand',\n",
       " 'his',\n",
       " 'character',\n",
       " 'Her',\n",
       " 'mind',\n",
       " 'was',\n",
       " 'less',\n",
       " 'difficult',\n",
       " 'to',\n",
       " 'develop',\n",
       " 'She',\n",
       " 'was',\n",
       " 'a',\n",
       " 'woman',\n",
       " 'of',\n",
       " 'mean',\n",
       " 'understanding',\n",
       " 'little',\n",
       " 'information',\n",
       " 'and',\n",
       " 'uncertain',\n",
       " 'temper',\n",
       " 'When',\n",
       " 'she',\n",
       " 'was',\n",
       " 'discontented',\n",
       " 'she',\n",
       " 'fancied',\n",
       " 'herself',\n",
       " 'nervous',\n",
       " 'The',\n",
       " 'business',\n",
       " 'of',\n",
       " 'her',\n",
       " 'life',\n",
       " 'was',\n",
       " 'to',\n",
       " 'get',\n",
       " 'her',\n",
       " 'daughters',\n",
       " 'married',\n",
       " 'its',\n",
       " 'solace',\n",
       " 'was',\n",
       " 'visiting',\n",
       " 'and',\n",
       " 'news']"
      ]
     },
     "execution_count": 136,
     "metadata": {},
     "output_type": "execute_result"
    }
   ],
   "source": [
    "# generate a list of all the words from the\n",
    "cleaned string using split\n",
    "list_of_words = cleaned_multiline_text.split()\n",
    "list_of_words"
   ]
  },
  {
   "cell_type": "code",
   "execution_count": 137,
   "metadata": {},
   "outputs": [
    {
     "data": {
      "text/plain": [
       "852"
      ]
     },
     "execution_count": 137,
     "metadata": {},
     "output_type": "execute_result"
    }
   ],
   "source": [
    "# find the number of words\n",
    "len(list_of_words)"
   ]
  },
  {
   "cell_type": "code",
   "execution_count": 138,
   "metadata": {},
   "outputs": [
    {
     "data": {
      "text/plain": [
       "340"
      ]
     },
     "execution_count": 138,
     "metadata": {},
     "output_type": "execute_result"
    }
   ],
   "source": [
    "# create a list from the list you just created which includes unique words\n",
    "unique_words = dict.fromkeys(list_of_words)\n",
    "len(list(unique_words.keys()))"
   ]
  },
  {
   "cell_type": "code",
   "execution_count": 139,
   "metadata": {},
   "outputs": [
    {
     "data": {
      "text/plain": [
       "{'It': 3,\n",
       " 'is': 12,\n",
       " 'a': 20,\n",
       " 'truth': 2,\n",
       " 'universally': 1,\n",
       " 'acknowledged': 1,\n",
       " 'that': 15,\n",
       " 'single': 3,\n",
       " 'man': 4,\n",
       " 'in': 11,\n",
       " 'possession': 2,\n",
       " 'of': 29,\n",
       " 'good': 3,\n",
       " 'fortune': 3,\n",
       " 'must': 7,\n",
       " 'be': 11,\n",
       " 'want': 3,\n",
       " 'wife': 4,\n",
       " 'However': 1,\n",
       " 'little': 3,\n",
       " 'known': 1,\n",
       " 'the': 17,\n",
       " 'feelings': 1,\n",
       " 'or': 5,\n",
       " 'views': 1,\n",
       " 'such': 5,\n",
       " 'may': 5,\n",
       " 'on': 3,\n",
       " 'his': 11,\n",
       " 'first': 1,\n",
       " 'entering': 1,\n",
       " 'neighbourhood': 3,\n",
       " 'this': 1,\n",
       " 'so': 8,\n",
       " 'well': 1,\n",
       " 'fixed': 1,\n",
       " 'minds': 1,\n",
       " 'surrounding': 1,\n",
       " 'families': 1,\n",
       " 'he': 11,\n",
       " 'considered': 1,\n",
       " 'rightful': 1,\n",
       " 'property': 1,\n",
       " 'some': 2,\n",
       " 'one': 5,\n",
       " 'other': 2,\n",
       " 'their': 1,\n",
       " 'daughters': 4,\n",
       " 'My': 3,\n",
       " 'dear': 8,\n",
       " 'Mr': 10,\n",
       " 'Bennet': 6,\n",
       " 'said': 1,\n",
       " 'lady': 1,\n",
       " 'to': 22,\n",
       " 'him': 4,\n",
       " 'day': 1,\n",
       " 'have': 7,\n",
       " 'you': 24,\n",
       " 'heard': 2,\n",
       " 'Netherfield': 2,\n",
       " 'Park': 1,\n",
       " 'let': 1,\n",
       " 'at': 2,\n",
       " 'last': 2,\n",
       " 'replied': 3,\n",
       " 'had': 3,\n",
       " 'not': 9,\n",
       " 'But': 6,\n",
       " 'it': 11,\n",
       " 'returned': 1,\n",
       " 'she': 6,\n",
       " 'for': 12,\n",
       " 'Mrs': 2,\n",
       " 'Long': 2,\n",
       " 'has': 5,\n",
       " 'just': 1,\n",
       " 'been': 2,\n",
       " 'here': 2,\n",
       " 'and': 17,\n",
       " 'told': 1,\n",
       " 'me': 5,\n",
       " 'all': 3,\n",
       " 'about': 1,\n",
       " 'made': 1,\n",
       " 'no': 7,\n",
       " 'answer': 1,\n",
       " 'Do': 1,\n",
       " 'know': 5,\n",
       " 'who': 1,\n",
       " 'taken': 2,\n",
       " 'cried': 1,\n",
       " 'impatiently': 1,\n",
       " 'You': 7,\n",
       " 'tell': 1,\n",
       " 'I': 17,\n",
       " 'objection': 1,\n",
       " 'hearing': 1,\n",
       " 'This': 1,\n",
       " 'was': 8,\n",
       " 'invitation': 1,\n",
       " 'enough': 1,\n",
       " 'Why': 1,\n",
       " 'my': 10,\n",
       " 'says': 1,\n",
       " 'by': 4,\n",
       " 'young': 2,\n",
       " 'large': 2,\n",
       " 'from': 1,\n",
       " 'north': 1,\n",
       " 'England': 1,\n",
       " 'came': 1,\n",
       " 'down': 1,\n",
       " 'Monday': 1,\n",
       " 'chaise': 1,\n",
       " 'four': 3,\n",
       " 'see': 5,\n",
       " 'place': 1,\n",
       " 'much': 3,\n",
       " 'delighted': 1,\n",
       " 'with': 4,\n",
       " 'agreed': 1,\n",
       " 'Morris': 1,\n",
       " 'immediately': 1,\n",
       " 'take': 2,\n",
       " 'before': 1,\n",
       " 'Michaelmas': 1,\n",
       " 'servants': 1,\n",
       " 'are': 8,\n",
       " 'house': 1,\n",
       " 'end': 1,\n",
       " 'next': 1,\n",
       " 'week': 1,\n",
       " 'What': 2,\n",
       " 'name': 1,\n",
       " 'Bingley': 4,\n",
       " 'Is': 2,\n",
       " 'married': 2,\n",
       " 'Oh': 1,\n",
       " 'Single': 1,\n",
       " 'sure': 2,\n",
       " 'A': 1,\n",
       " 'five': 2,\n",
       " 'thousand': 2,\n",
       " 'year': 2,\n",
       " 'fine': 1,\n",
       " 'thing': 2,\n",
       " 'our': 1,\n",
       " 'girls': 4,\n",
       " 'How': 2,\n",
       " 'can': 4,\n",
       " 'affect': 1,\n",
       " 'them': 11,\n",
       " 'how': 3,\n",
       " 'tiresome': 1,\n",
       " 'am': 2,\n",
       " 'thinking': 2,\n",
       " 'marrying': 2,\n",
       " 'design': 1,\n",
       " 'settling': 1,\n",
       " 'Design': 1,\n",
       " 'Nonsense': 1,\n",
       " 'talk': 1,\n",
       " 'very': 2,\n",
       " 'likely': 1,\n",
       " 'fall': 1,\n",
       " 'love': 1,\n",
       " 'therefore': 1,\n",
       " 'visit': 5,\n",
       " 'as': 7,\n",
       " 'soon': 1,\n",
       " 'comes': 2,\n",
       " 'occasion': 1,\n",
       " 'go': 4,\n",
       " 'send': 2,\n",
       " 'themselves': 1,\n",
       " 'which': 1,\n",
       " 'perhaps': 1,\n",
       " 'will': 9,\n",
       " 'still': 1,\n",
       " 'better': 2,\n",
       " 'handsome': 2,\n",
       " 'any': 1,\n",
       " 'like': 2,\n",
       " 'best': 1,\n",
       " 'party': 1,\n",
       " 'flatter': 1,\n",
       " 'certainly': 1,\n",
       " 'share': 1,\n",
       " 'beauty': 3,\n",
       " 'but': 2,\n",
       " 'do': 4,\n",
       " 'pretend': 1,\n",
       " 'anything': 1,\n",
       " 'extraordinary': 1,\n",
       " 'now': 1,\n",
       " 'When': 2,\n",
       " 'woman': 3,\n",
       " 'grown': 1,\n",
       " 'up': 1,\n",
       " 'ought': 1,\n",
       " 'give': 1,\n",
       " 'over': 3,\n",
       " 'her': 5,\n",
       " 'own': 2,\n",
       " 'In': 1,\n",
       " 'cases': 1,\n",
       " 'often': 1,\n",
       " 'think': 2,\n",
       " 'indeed': 1,\n",
       " 'when': 2,\n",
       " 'into': 2,\n",
       " 'more': 2,\n",
       " 'than': 3,\n",
       " 'engage': 1,\n",
       " 'assure': 2,\n",
       " 'consider': 1,\n",
       " 'your': 3,\n",
       " 'Only': 1,\n",
       " 'what': 2,\n",
       " 'an': 1,\n",
       " 'establishment': 1,\n",
       " 'would': 1,\n",
       " 'Sir': 1,\n",
       " 'William': 1,\n",
       " 'Lady': 1,\n",
       " 'Lucas': 1,\n",
       " 'determined': 1,\n",
       " 'merely': 1,\n",
       " 'account': 1,\n",
       " 'general': 1,\n",
       " 'they': 2,\n",
       " 'newcomers': 1,\n",
       " 'Indeed': 1,\n",
       " 'impossible': 1,\n",
       " 'us': 2,\n",
       " 'if': 2,\n",
       " 'scrupulous': 1,\n",
       " 'surely': 1,\n",
       " 'dare': 1,\n",
       " 'say': 1,\n",
       " 'glad': 1,\n",
       " 'few': 1,\n",
       " 'lines': 1,\n",
       " 'hearty': 1,\n",
       " 'consent': 1,\n",
       " 'whichever': 1,\n",
       " 'chooses': 1,\n",
       " 'though': 1,\n",
       " 'throw': 1,\n",
       " 'word': 1,\n",
       " 'Lizzy': 3,\n",
       " 'desire': 1,\n",
       " 'bit': 1,\n",
       " 'others': 1,\n",
       " 'half': 2,\n",
       " 'Jane': 1,\n",
       " 'nor': 1,\n",
       " 'humoured': 1,\n",
       " 'Lydia': 1,\n",
       " 'always': 1,\n",
       " 'giving': 1,\n",
       " 'preference': 1,\n",
       " 'They': 2,\n",
       " 'none': 1,\n",
       " 'recommend': 1,\n",
       " 'silly': 1,\n",
       " 'ignorant': 1,\n",
       " 'something': 1,\n",
       " 'quickness': 1,\n",
       " 'sisters': 1,\n",
       " 'abuse': 1,\n",
       " 'children': 1,\n",
       " 'way': 1,\n",
       " 'delight': 1,\n",
       " 'vexing': 1,\n",
       " 'compassion': 1,\n",
       " 'poor': 1,\n",
       " 'nerves': 2,\n",
       " 'mistake': 1,\n",
       " 'high': 1,\n",
       " 'respect': 1,\n",
       " 'old': 1,\n",
       " 'friends': 1,\n",
       " 'mention': 1,\n",
       " 'consideration': 1,\n",
       " 'these': 1,\n",
       " 'twenty': 4,\n",
       " 'years': 2,\n",
       " 'least': 1,\n",
       " 'Ah': 1,\n",
       " 'suffer': 1,\n",
       " 'hope': 1,\n",
       " 'get': 2,\n",
       " 'live': 1,\n",
       " 'many': 1,\n",
       " 'men': 1,\n",
       " 'come': 2,\n",
       " 'use': 1,\n",
       " 'should': 1,\n",
       " 'since': 1,\n",
       " 'Depend': 1,\n",
       " 'upon': 1,\n",
       " 'there': 1,\n",
       " 'odd': 1,\n",
       " 'mixture': 1,\n",
       " 'quick': 1,\n",
       " 'parts': 1,\n",
       " 'sarcastic': 1,\n",
       " 'humour': 1,\n",
       " 'reserve': 1,\n",
       " 'caprice': 1,\n",
       " 'experience': 1,\n",
       " 'three': 1,\n",
       " 'insufficient': 1,\n",
       " 'make': 1,\n",
       " 'understand': 1,\n",
       " 'character': 1,\n",
       " 'Her': 1,\n",
       " 'mind': 1,\n",
       " 'less': 1,\n",
       " 'difficult': 1,\n",
       " 'develop': 1,\n",
       " 'She': 1,\n",
       " 'mean': 1,\n",
       " 'understanding': 1,\n",
       " 'information': 1,\n",
       " 'uncertain': 1,\n",
       " 'temper': 1,\n",
       " 'discontented': 1,\n",
       " 'fancied': 1,\n",
       " 'herself': 1,\n",
       " 'nervous': 1,\n",
       " 'The': 1,\n",
       " 'business': 1,\n",
       " 'life': 1,\n",
       " 'its': 1,\n",
       " 'solace': 1,\n",
       " 'visiting': 1,\n",
       " 'news': 1}"
      ]
     },
     "execution_count": 139,
     "metadata": {},
     "output_type": "execute_result"
    }
   ],
   "source": [
    "# count the number of times each of the unique words appear in the clean text\n",
    "for word in list_of_words:\n",
    "    if unique_words[word] is None:\n",
    "        unique_words[word] = 1\n",
    "    else:\n",
    "        unique_words[word] += 1\n",
    "unique_words"
   ]
  },
  {
   "cell_type": "code",
   "execution_count": 140,
   "metadata": {},
   "outputs": [
    {
     "data": {
      "text/plain": [
       "[('of', 29),\n",
       " ('you', 24),\n",
       " ('to', 22),\n",
       " ('a', 20),\n",
       " ('the', 17),\n",
       " ('and', 17),\n",
       " ('I', 17),\n",
       " ('that', 15),\n",
       " ('is', 12),\n",
       " ('for', 12),\n",
       " ('in', 11),\n",
       " ('be', 11),\n",
       " ('his', 11),\n",
       " ('he', 11),\n",
       " ('it', 11),\n",
       " ('them', 11),\n",
       " ('Mr', 10),\n",
       " ('my', 10),\n",
       " ('not', 9),\n",
       " ('will', 9),\n",
       " ('so', 8),\n",
       " ('dear', 8),\n",
       " ('was', 8),\n",
       " ('are', 8),\n",
       " ('must', 7)]"
      ]
     },
     "execution_count": 140,
     "metadata": {},
     "output_type": "execute_result"
    }
   ],
   "source": [
    "# find the top 25 words\n",
    "top_words = sorted(unique_words.items(), \\\n",
    "                   key=lambda key_val_tuple: key_val_tuple[1], \\\n",
    "                   reverse=True)\n",
    "top_words[:25]"
   ]
  },
  {
   "cell_type": "code",
   "execution_count": null,
   "metadata": {},
   "outputs": [],
   "source": []
  }
 ],
 "metadata": {
  "kernelspec": {
   "display_name": "Python 3",
   "language": "python",
   "name": "python3"
  },
  "language_info": {
   "codemirror_mode": {
    "name": "ipython",
    "version": 3
   },
   "file_extension": ".py",
   "mimetype": "text/x-python",
   "name": "python",
   "nbconvert_exporter": "python",
   "pygments_lexer": "ipython3",
   "version": "3.8.5"
  }
 },
 "nbformat": 4,
 "nbformat_minor": 4
}
